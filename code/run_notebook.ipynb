{
  "nbformat": 4,
  "nbformat_minor": 0,
  "metadata": {
    "colab": {
      "provenance": [],
      "collapsed_sections": [
        "BDZR-hows48Z",
        "We_xzajk-9xY",
        "bgA1wp1y-yxZ",
        "ecz59xDYFx7c"
      ],
      "machine_shape": "hm",
      "include_colab_link": true
    },
    "kernelspec": {
      "name": "python3",
      "display_name": "Python 3"
    },
    "language_info": {
      "name": "python"
    },
    "gpuClass": "premium",
    "accelerator": "GPU",
    "widgets": {
      "application/vnd.jupyter.widget-state+json": {
        "b5c9037091ed4260941e040e6f803b24": {
          "model_module": "@jupyter-widgets/controls",
          "model_name": "HBoxModel",
          "model_module_version": "1.5.0",
          "state": {
            "_dom_classes": [],
            "_model_module": "@jupyter-widgets/controls",
            "_model_module_version": "1.5.0",
            "_model_name": "HBoxModel",
            "_view_count": null,
            "_view_module": "@jupyter-widgets/controls",
            "_view_module_version": "1.5.0",
            "_view_name": "HBoxView",
            "box_style": "",
            "children": [
              "IPY_MODEL_59e61f9b71074266a2c34b2140fb5b85",
              "IPY_MODEL_a9d1424a0aba49d5a5471fe99e79b417",
              "IPY_MODEL_563d3eff5b6d47ec9a23d59143c0a0f8"
            ],
            "layout": "IPY_MODEL_96a6cc148cca4eebb1f009b223a68dba"
          }
        },
        "59e61f9b71074266a2c34b2140fb5b85": {
          "model_module": "@jupyter-widgets/controls",
          "model_name": "HTMLModel",
          "model_module_version": "1.5.0",
          "state": {
            "_dom_classes": [],
            "_model_module": "@jupyter-widgets/controls",
            "_model_module_version": "1.5.0",
            "_model_name": "HTMLModel",
            "_view_count": null,
            "_view_module": "@jupyter-widgets/controls",
            "_view_module_version": "1.5.0",
            "_view_name": "HTMLView",
            "description": "",
            "description_tooltip": null,
            "layout": "IPY_MODEL_48a915acdd9f4111a1cd9378c4be81ca",
            "placeholder": "​",
            "style": "IPY_MODEL_ca6763fd150a40baa57814f51fad9219",
            "value": "Sanity Checking DataLoader 0: 100%"
          }
        },
        "a9d1424a0aba49d5a5471fe99e79b417": {
          "model_module": "@jupyter-widgets/controls",
          "model_name": "FloatProgressModel",
          "model_module_version": "1.5.0",
          "state": {
            "_dom_classes": [],
            "_model_module": "@jupyter-widgets/controls",
            "_model_module_version": "1.5.0",
            "_model_name": "FloatProgressModel",
            "_view_count": null,
            "_view_module": "@jupyter-widgets/controls",
            "_view_module_version": "1.5.0",
            "_view_name": "ProgressView",
            "bar_style": "",
            "description": "",
            "description_tooltip": null,
            "layout": "IPY_MODEL_8577f02aa099439e9ba15e51a0921bfe",
            "max": 1,
            "min": 0,
            "orientation": "horizontal",
            "style": "IPY_MODEL_bb45138a57f242478f9dbeaf987477e4",
            "value": 1
          }
        },
        "563d3eff5b6d47ec9a23d59143c0a0f8": {
          "model_module": "@jupyter-widgets/controls",
          "model_name": "HTMLModel",
          "model_module_version": "1.5.0",
          "state": {
            "_dom_classes": [],
            "_model_module": "@jupyter-widgets/controls",
            "_model_module_version": "1.5.0",
            "_model_name": "HTMLModel",
            "_view_count": null,
            "_view_module": "@jupyter-widgets/controls",
            "_view_module_version": "1.5.0",
            "_view_name": "HTMLView",
            "description": "",
            "description_tooltip": null,
            "layout": "IPY_MODEL_e6f8b1644a5545689c668bfdf90bbb8c",
            "placeholder": "​",
            "style": "IPY_MODEL_6354e7e510594529bf988875e303129b",
            "value": " 1/1 [00:06&lt;00:00,  6.86s/it]"
          }
        },
        "96a6cc148cca4eebb1f009b223a68dba": {
          "model_module": "@jupyter-widgets/base",
          "model_name": "LayoutModel",
          "model_module_version": "1.2.0",
          "state": {
            "_model_module": "@jupyter-widgets/base",
            "_model_module_version": "1.2.0",
            "_model_name": "LayoutModel",
            "_view_count": null,
            "_view_module": "@jupyter-widgets/base",
            "_view_module_version": "1.2.0",
            "_view_name": "LayoutView",
            "align_content": null,
            "align_items": null,
            "align_self": null,
            "border": null,
            "bottom": null,
            "display": "inline-flex",
            "flex": null,
            "flex_flow": "row wrap",
            "grid_area": null,
            "grid_auto_columns": null,
            "grid_auto_flow": null,
            "grid_auto_rows": null,
            "grid_column": null,
            "grid_gap": null,
            "grid_row": null,
            "grid_template_areas": null,
            "grid_template_columns": null,
            "grid_template_rows": null,
            "height": null,
            "justify_content": null,
            "justify_items": null,
            "left": null,
            "margin": null,
            "max_height": null,
            "max_width": null,
            "min_height": null,
            "min_width": null,
            "object_fit": null,
            "object_position": null,
            "order": null,
            "overflow": null,
            "overflow_x": null,
            "overflow_y": null,
            "padding": null,
            "right": null,
            "top": null,
            "visibility": "hidden",
            "width": "100%"
          }
        },
        "48a915acdd9f4111a1cd9378c4be81ca": {
          "model_module": "@jupyter-widgets/base",
          "model_name": "LayoutModel",
          "model_module_version": "1.2.0",
          "state": {
            "_model_module": "@jupyter-widgets/base",
            "_model_module_version": "1.2.0",
            "_model_name": "LayoutModel",
            "_view_count": null,
            "_view_module": "@jupyter-widgets/base",
            "_view_module_version": "1.2.0",
            "_view_name": "LayoutView",
            "align_content": null,
            "align_items": null,
            "align_self": null,
            "border": null,
            "bottom": null,
            "display": null,
            "flex": null,
            "flex_flow": null,
            "grid_area": null,
            "grid_auto_columns": null,
            "grid_auto_flow": null,
            "grid_auto_rows": null,
            "grid_column": null,
            "grid_gap": null,
            "grid_row": null,
            "grid_template_areas": null,
            "grid_template_columns": null,
            "grid_template_rows": null,
            "height": null,
            "justify_content": null,
            "justify_items": null,
            "left": null,
            "margin": null,
            "max_height": null,
            "max_width": null,
            "min_height": null,
            "min_width": null,
            "object_fit": null,
            "object_position": null,
            "order": null,
            "overflow": null,
            "overflow_x": null,
            "overflow_y": null,
            "padding": null,
            "right": null,
            "top": null,
            "visibility": null,
            "width": null
          }
        },
        "ca6763fd150a40baa57814f51fad9219": {
          "model_module": "@jupyter-widgets/controls",
          "model_name": "DescriptionStyleModel",
          "model_module_version": "1.5.0",
          "state": {
            "_model_module": "@jupyter-widgets/controls",
            "_model_module_version": "1.5.0",
            "_model_name": "DescriptionStyleModel",
            "_view_count": null,
            "_view_module": "@jupyter-widgets/base",
            "_view_module_version": "1.2.0",
            "_view_name": "StyleView",
            "description_width": ""
          }
        },
        "8577f02aa099439e9ba15e51a0921bfe": {
          "model_module": "@jupyter-widgets/base",
          "model_name": "LayoutModel",
          "model_module_version": "1.2.0",
          "state": {
            "_model_module": "@jupyter-widgets/base",
            "_model_module_version": "1.2.0",
            "_model_name": "LayoutModel",
            "_view_count": null,
            "_view_module": "@jupyter-widgets/base",
            "_view_module_version": "1.2.0",
            "_view_name": "LayoutView",
            "align_content": null,
            "align_items": null,
            "align_self": null,
            "border": null,
            "bottom": null,
            "display": null,
            "flex": "2",
            "flex_flow": null,
            "grid_area": null,
            "grid_auto_columns": null,
            "grid_auto_flow": null,
            "grid_auto_rows": null,
            "grid_column": null,
            "grid_gap": null,
            "grid_row": null,
            "grid_template_areas": null,
            "grid_template_columns": null,
            "grid_template_rows": null,
            "height": null,
            "justify_content": null,
            "justify_items": null,
            "left": null,
            "margin": null,
            "max_height": null,
            "max_width": null,
            "min_height": null,
            "min_width": null,
            "object_fit": null,
            "object_position": null,
            "order": null,
            "overflow": null,
            "overflow_x": null,
            "overflow_y": null,
            "padding": null,
            "right": null,
            "top": null,
            "visibility": null,
            "width": null
          }
        },
        "bb45138a57f242478f9dbeaf987477e4": {
          "model_module": "@jupyter-widgets/controls",
          "model_name": "ProgressStyleModel",
          "model_module_version": "1.5.0",
          "state": {
            "_model_module": "@jupyter-widgets/controls",
            "_model_module_version": "1.5.0",
            "_model_name": "ProgressStyleModel",
            "_view_count": null,
            "_view_module": "@jupyter-widgets/base",
            "_view_module_version": "1.2.0",
            "_view_name": "StyleView",
            "bar_color": null,
            "description_width": ""
          }
        },
        "e6f8b1644a5545689c668bfdf90bbb8c": {
          "model_module": "@jupyter-widgets/base",
          "model_name": "LayoutModel",
          "model_module_version": "1.2.0",
          "state": {
            "_model_module": "@jupyter-widgets/base",
            "_model_module_version": "1.2.0",
            "_model_name": "LayoutModel",
            "_view_count": null,
            "_view_module": "@jupyter-widgets/base",
            "_view_module_version": "1.2.0",
            "_view_name": "LayoutView",
            "align_content": null,
            "align_items": null,
            "align_self": null,
            "border": null,
            "bottom": null,
            "display": null,
            "flex": null,
            "flex_flow": null,
            "grid_area": null,
            "grid_auto_columns": null,
            "grid_auto_flow": null,
            "grid_auto_rows": null,
            "grid_column": null,
            "grid_gap": null,
            "grid_row": null,
            "grid_template_areas": null,
            "grid_template_columns": null,
            "grid_template_rows": null,
            "height": null,
            "justify_content": null,
            "justify_items": null,
            "left": null,
            "margin": null,
            "max_height": null,
            "max_width": null,
            "min_height": null,
            "min_width": null,
            "object_fit": null,
            "object_position": null,
            "order": null,
            "overflow": null,
            "overflow_x": null,
            "overflow_y": null,
            "padding": null,
            "right": null,
            "top": null,
            "visibility": null,
            "width": null
          }
        },
        "6354e7e510594529bf988875e303129b": {
          "model_module": "@jupyter-widgets/controls",
          "model_name": "DescriptionStyleModel",
          "model_module_version": "1.5.0",
          "state": {
            "_model_module": "@jupyter-widgets/controls",
            "_model_module_version": "1.5.0",
            "_model_name": "DescriptionStyleModel",
            "_view_count": null,
            "_view_module": "@jupyter-widgets/base",
            "_view_module_version": "1.2.0",
            "_view_name": "StyleView",
            "description_width": ""
          }
        },
        "2aedfe6228ca44c381732269ee0bc387": {
          "model_module": "@jupyter-widgets/controls",
          "model_name": "HBoxModel",
          "model_module_version": "1.5.0",
          "state": {
            "_dom_classes": [],
            "_model_module": "@jupyter-widgets/controls",
            "_model_module_version": "1.5.0",
            "_model_name": "HBoxModel",
            "_view_count": null,
            "_view_module": "@jupyter-widgets/controls",
            "_view_module_version": "1.5.0",
            "_view_name": "HBoxView",
            "box_style": "",
            "children": [
              "IPY_MODEL_666d48bbf4e94a688f35b9650beffd85",
              "IPY_MODEL_250d223a09664ece91de0bb191776819",
              "IPY_MODEL_dca928625f6840e8b9c46e80a4f4b7fa"
            ],
            "layout": "IPY_MODEL_6fe19fd1cd33480dbbddcdcef2e7177a"
          }
        },
        "666d48bbf4e94a688f35b9650beffd85": {
          "model_module": "@jupyter-widgets/controls",
          "model_name": "HTMLModel",
          "model_module_version": "1.5.0",
          "state": {
            "_dom_classes": [],
            "_model_module": "@jupyter-widgets/controls",
            "_model_module_version": "1.5.0",
            "_model_name": "HTMLModel",
            "_view_count": null,
            "_view_module": "@jupyter-widgets/controls",
            "_view_module_version": "1.5.0",
            "_view_name": "HTMLView",
            "description": "",
            "description_tooltip": null,
            "layout": "IPY_MODEL_4ca5e7cd7b0d44cf8fe65ca4e1c32d9a",
            "placeholder": "​",
            "style": "IPY_MODEL_155aa05dce6e4f55b16fdb311d78a8be",
            "value": "Epoch 1: 100%"
          }
        },
        "250d223a09664ece91de0bb191776819": {
          "model_module": "@jupyter-widgets/controls",
          "model_name": "FloatProgressModel",
          "model_module_version": "1.5.0",
          "state": {
            "_dom_classes": [],
            "_model_module": "@jupyter-widgets/controls",
            "_model_module_version": "1.5.0",
            "_model_name": "FloatProgressModel",
            "_view_count": null,
            "_view_module": "@jupyter-widgets/controls",
            "_view_module_version": "1.5.0",
            "_view_name": "ProgressView",
            "bar_style": "success",
            "description": "",
            "description_tooltip": null,
            "layout": "IPY_MODEL_441fa08228b641a88c29c62397668dce",
            "max": 754,
            "min": 0,
            "orientation": "horizontal",
            "style": "IPY_MODEL_f5f69d4efb75474394a67e3a0d908ba2",
            "value": 754
          }
        },
        "dca928625f6840e8b9c46e80a4f4b7fa": {
          "model_module": "@jupyter-widgets/controls",
          "model_name": "HTMLModel",
          "model_module_version": "1.5.0",
          "state": {
            "_dom_classes": [],
            "_model_module": "@jupyter-widgets/controls",
            "_model_module_version": "1.5.0",
            "_model_name": "HTMLModel",
            "_view_count": null,
            "_view_module": "@jupyter-widgets/controls",
            "_view_module_version": "1.5.0",
            "_view_name": "HTMLView",
            "description": "",
            "description_tooltip": null,
            "layout": "IPY_MODEL_c6d986423eaf473d8aaf908ce801675e",
            "placeholder": "​",
            "style": "IPY_MODEL_92f2efa0b58a436eaec34621c9735c8f",
            "value": " 754/754 [02:18&lt;00:00,  5.46it/s, loss=1.52, v_num=1_31, g_tot_train_loss_step=4.070, g_A2B_train_loss_step=2.370, g_B2A_train_loss_step=2.910, d_A_train_loss_step=0.0576, d_B_train_loss_step=0.00826, g_tot_val_loss=4.550, g_A2B_val_loss=3.060, g_B2A_val_loss=3.400, d_A_val_loss=0.051, d_B_val_loss=0.0171, g_tot_train_loss_epoch=4.880, g_A2B_train_loss_epoch=3.630, g_B2A_train_loss_epoch=3.120, d_A_train_loss_epoch=0.129, d_B_train_loss_epoch=0.065]"
          }
        },
        "6fe19fd1cd33480dbbddcdcef2e7177a": {
          "model_module": "@jupyter-widgets/base",
          "model_name": "LayoutModel",
          "model_module_version": "1.2.0",
          "state": {
            "_model_module": "@jupyter-widgets/base",
            "_model_module_version": "1.2.0",
            "_model_name": "LayoutModel",
            "_view_count": null,
            "_view_module": "@jupyter-widgets/base",
            "_view_module_version": "1.2.0",
            "_view_name": "LayoutView",
            "align_content": null,
            "align_items": null,
            "align_self": null,
            "border": null,
            "bottom": null,
            "display": "inline-flex",
            "flex": null,
            "flex_flow": "row wrap",
            "grid_area": null,
            "grid_auto_columns": null,
            "grid_auto_flow": null,
            "grid_auto_rows": null,
            "grid_column": null,
            "grid_gap": null,
            "grid_row": null,
            "grid_template_areas": null,
            "grid_template_columns": null,
            "grid_template_rows": null,
            "height": null,
            "justify_content": null,
            "justify_items": null,
            "left": null,
            "margin": null,
            "max_height": null,
            "max_width": null,
            "min_height": null,
            "min_width": null,
            "object_fit": null,
            "object_position": null,
            "order": null,
            "overflow": null,
            "overflow_x": null,
            "overflow_y": null,
            "padding": null,
            "right": null,
            "top": null,
            "visibility": null,
            "width": "100%"
          }
        },
        "4ca5e7cd7b0d44cf8fe65ca4e1c32d9a": {
          "model_module": "@jupyter-widgets/base",
          "model_name": "LayoutModel",
          "model_module_version": "1.2.0",
          "state": {
            "_model_module": "@jupyter-widgets/base",
            "_model_module_version": "1.2.0",
            "_model_name": "LayoutModel",
            "_view_count": null,
            "_view_module": "@jupyter-widgets/base",
            "_view_module_version": "1.2.0",
            "_view_name": "LayoutView",
            "align_content": null,
            "align_items": null,
            "align_self": null,
            "border": null,
            "bottom": null,
            "display": null,
            "flex": null,
            "flex_flow": null,
            "grid_area": null,
            "grid_auto_columns": null,
            "grid_auto_flow": null,
            "grid_auto_rows": null,
            "grid_column": null,
            "grid_gap": null,
            "grid_row": null,
            "grid_template_areas": null,
            "grid_template_columns": null,
            "grid_template_rows": null,
            "height": null,
            "justify_content": null,
            "justify_items": null,
            "left": null,
            "margin": null,
            "max_height": null,
            "max_width": null,
            "min_height": null,
            "min_width": null,
            "object_fit": null,
            "object_position": null,
            "order": null,
            "overflow": null,
            "overflow_x": null,
            "overflow_y": null,
            "padding": null,
            "right": null,
            "top": null,
            "visibility": null,
            "width": null
          }
        },
        "155aa05dce6e4f55b16fdb311d78a8be": {
          "model_module": "@jupyter-widgets/controls",
          "model_name": "DescriptionStyleModel",
          "model_module_version": "1.5.0",
          "state": {
            "_model_module": "@jupyter-widgets/controls",
            "_model_module_version": "1.5.0",
            "_model_name": "DescriptionStyleModel",
            "_view_count": null,
            "_view_module": "@jupyter-widgets/base",
            "_view_module_version": "1.2.0",
            "_view_name": "StyleView",
            "description_width": ""
          }
        },
        "441fa08228b641a88c29c62397668dce": {
          "model_module": "@jupyter-widgets/base",
          "model_name": "LayoutModel",
          "model_module_version": "1.2.0",
          "state": {
            "_model_module": "@jupyter-widgets/base",
            "_model_module_version": "1.2.0",
            "_model_name": "LayoutModel",
            "_view_count": null,
            "_view_module": "@jupyter-widgets/base",
            "_view_module_version": "1.2.0",
            "_view_name": "LayoutView",
            "align_content": null,
            "align_items": null,
            "align_self": null,
            "border": null,
            "bottom": null,
            "display": null,
            "flex": "2",
            "flex_flow": null,
            "grid_area": null,
            "grid_auto_columns": null,
            "grid_auto_flow": null,
            "grid_auto_rows": null,
            "grid_column": null,
            "grid_gap": null,
            "grid_row": null,
            "grid_template_areas": null,
            "grid_template_columns": null,
            "grid_template_rows": null,
            "height": null,
            "justify_content": null,
            "justify_items": null,
            "left": null,
            "margin": null,
            "max_height": null,
            "max_width": null,
            "min_height": null,
            "min_width": null,
            "object_fit": null,
            "object_position": null,
            "order": null,
            "overflow": null,
            "overflow_x": null,
            "overflow_y": null,
            "padding": null,
            "right": null,
            "top": null,
            "visibility": null,
            "width": null
          }
        },
        "f5f69d4efb75474394a67e3a0d908ba2": {
          "model_module": "@jupyter-widgets/controls",
          "model_name": "ProgressStyleModel",
          "model_module_version": "1.5.0",
          "state": {
            "_model_module": "@jupyter-widgets/controls",
            "_model_module_version": "1.5.0",
            "_model_name": "ProgressStyleModel",
            "_view_count": null,
            "_view_module": "@jupyter-widgets/base",
            "_view_module_version": "1.2.0",
            "_view_name": "StyleView",
            "bar_color": null,
            "description_width": ""
          }
        },
        "c6d986423eaf473d8aaf908ce801675e": {
          "model_module": "@jupyter-widgets/base",
          "model_name": "LayoutModel",
          "model_module_version": "1.2.0",
          "state": {
            "_model_module": "@jupyter-widgets/base",
            "_model_module_version": "1.2.0",
            "_model_name": "LayoutModel",
            "_view_count": null,
            "_view_module": "@jupyter-widgets/base",
            "_view_module_version": "1.2.0",
            "_view_name": "LayoutView",
            "align_content": null,
            "align_items": null,
            "align_self": null,
            "border": null,
            "bottom": null,
            "display": null,
            "flex": null,
            "flex_flow": null,
            "grid_area": null,
            "grid_auto_columns": null,
            "grid_auto_flow": null,
            "grid_auto_rows": null,
            "grid_column": null,
            "grid_gap": null,
            "grid_row": null,
            "grid_template_areas": null,
            "grid_template_columns": null,
            "grid_template_rows": null,
            "height": null,
            "justify_content": null,
            "justify_items": null,
            "left": null,
            "margin": null,
            "max_height": null,
            "max_width": null,
            "min_height": null,
            "min_width": null,
            "object_fit": null,
            "object_position": null,
            "order": null,
            "overflow": null,
            "overflow_x": null,
            "overflow_y": null,
            "padding": null,
            "right": null,
            "top": null,
            "visibility": null,
            "width": null
          }
        },
        "92f2efa0b58a436eaec34621c9735c8f": {
          "model_module": "@jupyter-widgets/controls",
          "model_name": "DescriptionStyleModel",
          "model_module_version": "1.5.0",
          "state": {
            "_model_module": "@jupyter-widgets/controls",
            "_model_module_version": "1.5.0",
            "_model_name": "DescriptionStyleModel",
            "_view_count": null,
            "_view_module": "@jupyter-widgets/base",
            "_view_module_version": "1.2.0",
            "_view_name": "StyleView",
            "description_width": ""
          }
        },
        "c761dd6934c443d7974f8c0c79b2750b": {
          "model_module": "@jupyter-widgets/controls",
          "model_name": "HBoxModel",
          "model_module_version": "1.5.0",
          "state": {
            "_dom_classes": [],
            "_model_module": "@jupyter-widgets/controls",
            "_model_module_version": "1.5.0",
            "_model_name": "HBoxModel",
            "_view_count": null,
            "_view_module": "@jupyter-widgets/controls",
            "_view_module_version": "1.5.0",
            "_view_name": "HBoxView",
            "box_style": "",
            "children": [
              "IPY_MODEL_2abd149e0b464c32b368ac76d0071151",
              "IPY_MODEL_b974e02429f94c37a7e11eb6f670dbfc",
              "IPY_MODEL_ea805ef2ca634ec6841b2240ad58a6c1"
            ],
            "layout": "IPY_MODEL_179e5b9de027473a8e2fcde3f78afab5"
          }
        },
        "2abd149e0b464c32b368ac76d0071151": {
          "model_module": "@jupyter-widgets/controls",
          "model_name": "HTMLModel",
          "model_module_version": "1.5.0",
          "state": {
            "_dom_classes": [],
            "_model_module": "@jupyter-widgets/controls",
            "_model_module_version": "1.5.0",
            "_model_name": "HTMLModel",
            "_view_count": null,
            "_view_module": "@jupyter-widgets/controls",
            "_view_module_version": "1.5.0",
            "_view_name": "HTMLView",
            "description": "",
            "description_tooltip": null,
            "layout": "IPY_MODEL_c0505e570dd84be2868147aafa4aa594",
            "placeholder": "​",
            "style": "IPY_MODEL_8b9c2ac9fb98439092d2ec4d32085c09",
            "value": "Validation DataLoader 0: 100%"
          }
        },
        "b974e02429f94c37a7e11eb6f670dbfc": {
          "model_module": "@jupyter-widgets/controls",
          "model_name": "FloatProgressModel",
          "model_module_version": "1.5.0",
          "state": {
            "_dom_classes": [],
            "_model_module": "@jupyter-widgets/controls",
            "_model_module_version": "1.5.0",
            "_model_name": "FloatProgressModel",
            "_view_count": null,
            "_view_module": "@jupyter-widgets/controls",
            "_view_module_version": "1.5.0",
            "_view_name": "ProgressView",
            "bar_style": "",
            "description": "",
            "description_tooltip": null,
            "layout": "IPY_MODEL_ee0a4935b00b4db1aa0fe8d614472107",
            "max": 23,
            "min": 0,
            "orientation": "horizontal",
            "style": "IPY_MODEL_14cce4a0be724204af7394af03492246",
            "value": 23
          }
        },
        "ea805ef2ca634ec6841b2240ad58a6c1": {
          "model_module": "@jupyter-widgets/controls",
          "model_name": "HTMLModel",
          "model_module_version": "1.5.0",
          "state": {
            "_dom_classes": [],
            "_model_module": "@jupyter-widgets/controls",
            "_model_module_version": "1.5.0",
            "_model_name": "HTMLModel",
            "_view_count": null,
            "_view_module": "@jupyter-widgets/controls",
            "_view_module_version": "1.5.0",
            "_view_name": "HTMLView",
            "description": "",
            "description_tooltip": null,
            "layout": "IPY_MODEL_9829e3b4e86c4d439f9921d1dccbf3ea",
            "placeholder": "​",
            "style": "IPY_MODEL_b1ae8147d9f74ad69f2ae16588943b89",
            "value": " 23/23 [00:14&lt;00:00,  1.61it/s]"
          }
        },
        "179e5b9de027473a8e2fcde3f78afab5": {
          "model_module": "@jupyter-widgets/base",
          "model_name": "LayoutModel",
          "model_module_version": "1.2.0",
          "state": {
            "_model_module": "@jupyter-widgets/base",
            "_model_module_version": "1.2.0",
            "_model_name": "LayoutModel",
            "_view_count": null,
            "_view_module": "@jupyter-widgets/base",
            "_view_module_version": "1.2.0",
            "_view_name": "LayoutView",
            "align_content": null,
            "align_items": null,
            "align_self": null,
            "border": null,
            "bottom": null,
            "display": "inline-flex",
            "flex": null,
            "flex_flow": "row wrap",
            "grid_area": null,
            "grid_auto_columns": null,
            "grid_auto_flow": null,
            "grid_auto_rows": null,
            "grid_column": null,
            "grid_gap": null,
            "grid_row": null,
            "grid_template_areas": null,
            "grid_template_columns": null,
            "grid_template_rows": null,
            "height": null,
            "justify_content": null,
            "justify_items": null,
            "left": null,
            "margin": null,
            "max_height": null,
            "max_width": null,
            "min_height": null,
            "min_width": null,
            "object_fit": null,
            "object_position": null,
            "order": null,
            "overflow": null,
            "overflow_x": null,
            "overflow_y": null,
            "padding": null,
            "right": null,
            "top": null,
            "visibility": "hidden",
            "width": "100%"
          }
        },
        "c0505e570dd84be2868147aafa4aa594": {
          "model_module": "@jupyter-widgets/base",
          "model_name": "LayoutModel",
          "model_module_version": "1.2.0",
          "state": {
            "_model_module": "@jupyter-widgets/base",
            "_model_module_version": "1.2.0",
            "_model_name": "LayoutModel",
            "_view_count": null,
            "_view_module": "@jupyter-widgets/base",
            "_view_module_version": "1.2.0",
            "_view_name": "LayoutView",
            "align_content": null,
            "align_items": null,
            "align_self": null,
            "border": null,
            "bottom": null,
            "display": null,
            "flex": null,
            "flex_flow": null,
            "grid_area": null,
            "grid_auto_columns": null,
            "grid_auto_flow": null,
            "grid_auto_rows": null,
            "grid_column": null,
            "grid_gap": null,
            "grid_row": null,
            "grid_template_areas": null,
            "grid_template_columns": null,
            "grid_template_rows": null,
            "height": null,
            "justify_content": null,
            "justify_items": null,
            "left": null,
            "margin": null,
            "max_height": null,
            "max_width": null,
            "min_height": null,
            "min_width": null,
            "object_fit": null,
            "object_position": null,
            "order": null,
            "overflow": null,
            "overflow_x": null,
            "overflow_y": null,
            "padding": null,
            "right": null,
            "top": null,
            "visibility": null,
            "width": null
          }
        },
        "8b9c2ac9fb98439092d2ec4d32085c09": {
          "model_module": "@jupyter-widgets/controls",
          "model_name": "DescriptionStyleModel",
          "model_module_version": "1.5.0",
          "state": {
            "_model_module": "@jupyter-widgets/controls",
            "_model_module_version": "1.5.0",
            "_model_name": "DescriptionStyleModel",
            "_view_count": null,
            "_view_module": "@jupyter-widgets/base",
            "_view_module_version": "1.2.0",
            "_view_name": "StyleView",
            "description_width": ""
          }
        },
        "ee0a4935b00b4db1aa0fe8d614472107": {
          "model_module": "@jupyter-widgets/base",
          "model_name": "LayoutModel",
          "model_module_version": "1.2.0",
          "state": {
            "_model_module": "@jupyter-widgets/base",
            "_model_module_version": "1.2.0",
            "_model_name": "LayoutModel",
            "_view_count": null,
            "_view_module": "@jupyter-widgets/base",
            "_view_module_version": "1.2.0",
            "_view_name": "LayoutView",
            "align_content": null,
            "align_items": null,
            "align_self": null,
            "border": null,
            "bottom": null,
            "display": null,
            "flex": "2",
            "flex_flow": null,
            "grid_area": null,
            "grid_auto_columns": null,
            "grid_auto_flow": null,
            "grid_auto_rows": null,
            "grid_column": null,
            "grid_gap": null,
            "grid_row": null,
            "grid_template_areas": null,
            "grid_template_columns": null,
            "grid_template_rows": null,
            "height": null,
            "justify_content": null,
            "justify_items": null,
            "left": null,
            "margin": null,
            "max_height": null,
            "max_width": null,
            "min_height": null,
            "min_width": null,
            "object_fit": null,
            "object_position": null,
            "order": null,
            "overflow": null,
            "overflow_x": null,
            "overflow_y": null,
            "padding": null,
            "right": null,
            "top": null,
            "visibility": null,
            "width": null
          }
        },
        "14cce4a0be724204af7394af03492246": {
          "model_module": "@jupyter-widgets/controls",
          "model_name": "ProgressStyleModel",
          "model_module_version": "1.5.0",
          "state": {
            "_model_module": "@jupyter-widgets/controls",
            "_model_module_version": "1.5.0",
            "_model_name": "ProgressStyleModel",
            "_view_count": null,
            "_view_module": "@jupyter-widgets/base",
            "_view_module_version": "1.2.0",
            "_view_name": "StyleView",
            "bar_color": null,
            "description_width": ""
          }
        },
        "9829e3b4e86c4d439f9921d1dccbf3ea": {
          "model_module": "@jupyter-widgets/base",
          "model_name": "LayoutModel",
          "model_module_version": "1.2.0",
          "state": {
            "_model_module": "@jupyter-widgets/base",
            "_model_module_version": "1.2.0",
            "_model_name": "LayoutModel",
            "_view_count": null,
            "_view_module": "@jupyter-widgets/base",
            "_view_module_version": "1.2.0",
            "_view_name": "LayoutView",
            "align_content": null,
            "align_items": null,
            "align_self": null,
            "border": null,
            "bottom": null,
            "display": null,
            "flex": null,
            "flex_flow": null,
            "grid_area": null,
            "grid_auto_columns": null,
            "grid_auto_flow": null,
            "grid_auto_rows": null,
            "grid_column": null,
            "grid_gap": null,
            "grid_row": null,
            "grid_template_areas": null,
            "grid_template_columns": null,
            "grid_template_rows": null,
            "height": null,
            "justify_content": null,
            "justify_items": null,
            "left": null,
            "margin": null,
            "max_height": null,
            "max_width": null,
            "min_height": null,
            "min_width": null,
            "object_fit": null,
            "object_position": null,
            "order": null,
            "overflow": null,
            "overflow_x": null,
            "overflow_y": null,
            "padding": null,
            "right": null,
            "top": null,
            "visibility": null,
            "width": null
          }
        },
        "b1ae8147d9f74ad69f2ae16588943b89": {
          "model_module": "@jupyter-widgets/controls",
          "model_name": "DescriptionStyleModel",
          "model_module_version": "1.5.0",
          "state": {
            "_model_module": "@jupyter-widgets/controls",
            "_model_module_version": "1.5.0",
            "_model_name": "DescriptionStyleModel",
            "_view_count": null,
            "_view_module": "@jupyter-widgets/base",
            "_view_module_version": "1.2.0",
            "_view_name": "StyleView",
            "description_width": ""
          }
        },
        "f7d373ba80874af3bc4e59fa06f0d748": {
          "model_module": "@jupyter-widgets/controls",
          "model_name": "HBoxModel",
          "model_module_version": "1.5.0",
          "state": {
            "_dom_classes": [],
            "_model_module": "@jupyter-widgets/controls",
            "_model_module_version": "1.5.0",
            "_model_name": "HBoxModel",
            "_view_count": null,
            "_view_module": "@jupyter-widgets/controls",
            "_view_module_version": "1.5.0",
            "_view_name": "HBoxView",
            "box_style": "",
            "children": [
              "IPY_MODEL_a057aced83014a42a3af34b08fe08d34",
              "IPY_MODEL_8a9ece4678d4447facd210ad5da24597",
              "IPY_MODEL_e2c341597b4941799b97741ed9f7de89"
            ],
            "layout": "IPY_MODEL_6fe1583c11f44841a4990a52d7616952"
          }
        },
        "a057aced83014a42a3af34b08fe08d34": {
          "model_module": "@jupyter-widgets/controls",
          "model_name": "HTMLModel",
          "model_module_version": "1.5.0",
          "state": {
            "_dom_classes": [],
            "_model_module": "@jupyter-widgets/controls",
            "_model_module_version": "1.5.0",
            "_model_name": "HTMLModel",
            "_view_count": null,
            "_view_module": "@jupyter-widgets/controls",
            "_view_module_version": "1.5.0",
            "_view_name": "HTMLView",
            "description": "",
            "description_tooltip": null,
            "layout": "IPY_MODEL_a1eaecb727244ca1b6b69a923a48076e",
            "placeholder": "​",
            "style": "IPY_MODEL_13d174e89bb84fef94ae0549592298c7",
            "value": "Validation DataLoader 0: 100%"
          }
        },
        "8a9ece4678d4447facd210ad5da24597": {
          "model_module": "@jupyter-widgets/controls",
          "model_name": "FloatProgressModel",
          "model_module_version": "1.5.0",
          "state": {
            "_dom_classes": [],
            "_model_module": "@jupyter-widgets/controls",
            "_model_module_version": "1.5.0",
            "_model_name": "FloatProgressModel",
            "_view_count": null,
            "_view_module": "@jupyter-widgets/controls",
            "_view_module_version": "1.5.0",
            "_view_name": "ProgressView",
            "bar_style": "",
            "description": "",
            "description_tooltip": null,
            "layout": "IPY_MODEL_bca94698b76a4e3380e92b9d95f480e7",
            "max": 23,
            "min": 0,
            "orientation": "horizontal",
            "style": "IPY_MODEL_8b0257c4ed204f27a38f6e7784038bdf",
            "value": 23
          }
        },
        "e2c341597b4941799b97741ed9f7de89": {
          "model_module": "@jupyter-widgets/controls",
          "model_name": "HTMLModel",
          "model_module_version": "1.5.0",
          "state": {
            "_dom_classes": [],
            "_model_module": "@jupyter-widgets/controls",
            "_model_module_version": "1.5.0",
            "_model_name": "HTMLModel",
            "_view_count": null,
            "_view_module": "@jupyter-widgets/controls",
            "_view_module_version": "1.5.0",
            "_view_name": "HTMLView",
            "description": "",
            "description_tooltip": null,
            "layout": "IPY_MODEL_7e79cee4aece445b96cc490ae78c9043",
            "placeholder": "​",
            "style": "IPY_MODEL_40c6bd2a0527445c91827acf2e4924b1",
            "value": " 23/23 [00:14&lt;00:00,  1.57it/s]"
          }
        },
        "6fe1583c11f44841a4990a52d7616952": {
          "model_module": "@jupyter-widgets/base",
          "model_name": "LayoutModel",
          "model_module_version": "1.2.0",
          "state": {
            "_model_module": "@jupyter-widgets/base",
            "_model_module_version": "1.2.0",
            "_model_name": "LayoutModel",
            "_view_count": null,
            "_view_module": "@jupyter-widgets/base",
            "_view_module_version": "1.2.0",
            "_view_name": "LayoutView",
            "align_content": null,
            "align_items": null,
            "align_self": null,
            "border": null,
            "bottom": null,
            "display": "inline-flex",
            "flex": null,
            "flex_flow": "row wrap",
            "grid_area": null,
            "grid_auto_columns": null,
            "grid_auto_flow": null,
            "grid_auto_rows": null,
            "grid_column": null,
            "grid_gap": null,
            "grid_row": null,
            "grid_template_areas": null,
            "grid_template_columns": null,
            "grid_template_rows": null,
            "height": null,
            "justify_content": null,
            "justify_items": null,
            "left": null,
            "margin": null,
            "max_height": null,
            "max_width": null,
            "min_height": null,
            "min_width": null,
            "object_fit": null,
            "object_position": null,
            "order": null,
            "overflow": null,
            "overflow_x": null,
            "overflow_y": null,
            "padding": null,
            "right": null,
            "top": null,
            "visibility": "hidden",
            "width": "100%"
          }
        },
        "a1eaecb727244ca1b6b69a923a48076e": {
          "model_module": "@jupyter-widgets/base",
          "model_name": "LayoutModel",
          "model_module_version": "1.2.0",
          "state": {
            "_model_module": "@jupyter-widgets/base",
            "_model_module_version": "1.2.0",
            "_model_name": "LayoutModel",
            "_view_count": null,
            "_view_module": "@jupyter-widgets/base",
            "_view_module_version": "1.2.0",
            "_view_name": "LayoutView",
            "align_content": null,
            "align_items": null,
            "align_self": null,
            "border": null,
            "bottom": null,
            "display": null,
            "flex": null,
            "flex_flow": null,
            "grid_area": null,
            "grid_auto_columns": null,
            "grid_auto_flow": null,
            "grid_auto_rows": null,
            "grid_column": null,
            "grid_gap": null,
            "grid_row": null,
            "grid_template_areas": null,
            "grid_template_columns": null,
            "grid_template_rows": null,
            "height": null,
            "justify_content": null,
            "justify_items": null,
            "left": null,
            "margin": null,
            "max_height": null,
            "max_width": null,
            "min_height": null,
            "min_width": null,
            "object_fit": null,
            "object_position": null,
            "order": null,
            "overflow": null,
            "overflow_x": null,
            "overflow_y": null,
            "padding": null,
            "right": null,
            "top": null,
            "visibility": null,
            "width": null
          }
        },
        "13d174e89bb84fef94ae0549592298c7": {
          "model_module": "@jupyter-widgets/controls",
          "model_name": "DescriptionStyleModel",
          "model_module_version": "1.5.0",
          "state": {
            "_model_module": "@jupyter-widgets/controls",
            "_model_module_version": "1.5.0",
            "_model_name": "DescriptionStyleModel",
            "_view_count": null,
            "_view_module": "@jupyter-widgets/base",
            "_view_module_version": "1.2.0",
            "_view_name": "StyleView",
            "description_width": ""
          }
        },
        "bca94698b76a4e3380e92b9d95f480e7": {
          "model_module": "@jupyter-widgets/base",
          "model_name": "LayoutModel",
          "model_module_version": "1.2.0",
          "state": {
            "_model_module": "@jupyter-widgets/base",
            "_model_module_version": "1.2.0",
            "_model_name": "LayoutModel",
            "_view_count": null,
            "_view_module": "@jupyter-widgets/base",
            "_view_module_version": "1.2.0",
            "_view_name": "LayoutView",
            "align_content": null,
            "align_items": null,
            "align_self": null,
            "border": null,
            "bottom": null,
            "display": null,
            "flex": "2",
            "flex_flow": null,
            "grid_area": null,
            "grid_auto_columns": null,
            "grid_auto_flow": null,
            "grid_auto_rows": null,
            "grid_column": null,
            "grid_gap": null,
            "grid_row": null,
            "grid_template_areas": null,
            "grid_template_columns": null,
            "grid_template_rows": null,
            "height": null,
            "justify_content": null,
            "justify_items": null,
            "left": null,
            "margin": null,
            "max_height": null,
            "max_width": null,
            "min_height": null,
            "min_width": null,
            "object_fit": null,
            "object_position": null,
            "order": null,
            "overflow": null,
            "overflow_x": null,
            "overflow_y": null,
            "padding": null,
            "right": null,
            "top": null,
            "visibility": null,
            "width": null
          }
        },
        "8b0257c4ed204f27a38f6e7784038bdf": {
          "model_module": "@jupyter-widgets/controls",
          "model_name": "ProgressStyleModel",
          "model_module_version": "1.5.0",
          "state": {
            "_model_module": "@jupyter-widgets/controls",
            "_model_module_version": "1.5.0",
            "_model_name": "ProgressStyleModel",
            "_view_count": null,
            "_view_module": "@jupyter-widgets/base",
            "_view_module_version": "1.2.0",
            "_view_name": "StyleView",
            "bar_color": null,
            "description_width": ""
          }
        },
        "7e79cee4aece445b96cc490ae78c9043": {
          "model_module": "@jupyter-widgets/base",
          "model_name": "LayoutModel",
          "model_module_version": "1.2.0",
          "state": {
            "_model_module": "@jupyter-widgets/base",
            "_model_module_version": "1.2.0",
            "_model_name": "LayoutModel",
            "_view_count": null,
            "_view_module": "@jupyter-widgets/base",
            "_view_module_version": "1.2.0",
            "_view_name": "LayoutView",
            "align_content": null,
            "align_items": null,
            "align_self": null,
            "border": null,
            "bottom": null,
            "display": null,
            "flex": null,
            "flex_flow": null,
            "grid_area": null,
            "grid_auto_columns": null,
            "grid_auto_flow": null,
            "grid_auto_rows": null,
            "grid_column": null,
            "grid_gap": null,
            "grid_row": null,
            "grid_template_areas": null,
            "grid_template_columns": null,
            "grid_template_rows": null,
            "height": null,
            "justify_content": null,
            "justify_items": null,
            "left": null,
            "margin": null,
            "max_height": null,
            "max_width": null,
            "min_height": null,
            "min_width": null,
            "object_fit": null,
            "object_position": null,
            "order": null,
            "overflow": null,
            "overflow_x": null,
            "overflow_y": null,
            "padding": null,
            "right": null,
            "top": null,
            "visibility": null,
            "width": null
          }
        },
        "40c6bd2a0527445c91827acf2e4924b1": {
          "model_module": "@jupyter-widgets/controls",
          "model_name": "DescriptionStyleModel",
          "model_module_version": "1.5.0",
          "state": {
            "_model_module": "@jupyter-widgets/controls",
            "_model_module_version": "1.5.0",
            "_model_name": "DescriptionStyleModel",
            "_view_count": null,
            "_view_module": "@jupyter-widgets/base",
            "_view_module_version": "1.2.0",
            "_view_name": "StyleView",
            "description_width": ""
          }
        }
      }
    }
  },
  "cells": [
    {
      "cell_type": "markdown",
      "metadata": {
        "id": "view-in-github",
        "colab_type": "text"
      },
      "source": [
        "<a href=\"https://colab.research.google.com/github/aim56009/Bias_GAN/blob/master/code/run_notebook.ipynb\" target=\"_parent\"><img src=\"https://colab.research.google.com/assets/colab-badge.svg\" alt=\"Open In Colab\"/></a>"
      ]
    },
    {
      "cell_type": "markdown",
      "source": [
        "# Imports "
      ],
      "metadata": {
        "id": "h3yHWmlizCSY"
      }
    },
    {
      "cell_type": "code",
      "source": [
        "gpu_info = !nvidia-smi\n",
        "gpu_info = '\\n'.join(gpu_info)\n",
        "if gpu_info.find('failed') >= 0:\n",
        "  print('Not connected to a GPU')\n",
        "else:\n",
        "  print(gpu_info)"
      ],
      "metadata": {
        "colab": {
          "base_uri": "https://localhost:8080/"
        },
        "id": "UtBBY2Vx4kVx",
        "outputId": "2bad9d98-e44e-4e0f-e42f-a0cefeb497c7"
      },
      "execution_count": 1,
      "outputs": [
        {
          "output_type": "stream",
          "name": "stdout",
          "text": [
            "Tue Jan 31 13:28:07 2023       \n",
            "+-----------------------------------------------------------------------------+\n",
            "| NVIDIA-SMI 510.47.03    Driver Version: 510.47.03    CUDA Version: 11.6     |\n",
            "|-------------------------------+----------------------+----------------------+\n",
            "| GPU  Name        Persistence-M| Bus-Id        Disp.A | Volatile Uncorr. ECC |\n",
            "| Fan  Temp  Perf  Pwr:Usage/Cap|         Memory-Usage | GPU-Util  Compute M. |\n",
            "|                               |                      |               MIG M. |\n",
            "|===============================+======================+======================|\n",
            "|   0  Tesla T4            Off  | 00000000:00:04.0 Off |                    0 |\n",
            "| N/A   40C    P0    25W /  70W |      0MiB / 15360MiB |      0%      Default |\n",
            "|                               |                      |                  N/A |\n",
            "+-------------------------------+----------------------+----------------------+\n",
            "                                                                               \n",
            "+-----------------------------------------------------------------------------+\n",
            "| Processes:                                                                  |\n",
            "|  GPU   GI   CI        PID   Type   Process name                  GPU Memory |\n",
            "|        ID   ID                                                   Usage      |\n",
            "|=============================================================================|\n",
            "|  No running processes found                                                 |\n",
            "+-----------------------------------------------------------------------------+\n"
          ]
        }
      ]
    },
    {
      "cell_type": "code",
      "source": [
        "from google.colab import drive\n",
        "drive.mount(\"/content/gdrive\")"
      ],
      "metadata": {
        "id": "pM43-ErszEe2",
        "colab": {
          "base_uri": "https://localhost:8080/"
        },
        "outputId": "964e9cca-368e-4348-9993-9acad8146323"
      },
      "execution_count": 2,
      "outputs": [
        {
          "output_type": "stream",
          "name": "stdout",
          "text": [
            "Mounted at /content/gdrive\n"
          ]
        }
      ]
    },
    {
      "cell_type": "code",
      "source": [
        "!git clone https://github.com/aim56009/Bias_GAN.git"
      ],
      "metadata": {
        "id": "UabaOuiKzJtx",
        "outputId": "e89fd0da-436d-47e0-98c5-4a7cc41bde7b",
        "colab": {
          "base_uri": "https://localhost:8080/"
        }
      },
      "execution_count": 3,
      "outputs": [
        {
          "output_type": "stream",
          "name": "stdout",
          "text": [
            "Cloning into 'Bias_GAN'...\n",
            "remote: Enumerating objects: 600, done.\u001b[K\n",
            "remote: Counting objects: 100% (401/401), done.\u001b[K\n",
            "remote: Compressing objects: 100% (223/223), done.\u001b[K\n",
            "remote: Total 600 (delta 234), reused 309 (delta 172), pack-reused 199\u001b[K\n",
            "Receiving objects: 100% (600/600), 102.46 MiB | 16.44 MiB/s, done.\n",
            "Resolving deltas: 100% (358/358), done.\n"
          ]
        }
      ]
    },
    {
      "cell_type": "code",
      "source": [
        "%%capture\n",
        "!pip install pytorch_lightning\n",
        "from pytorch_lightning.loggers import TensorBoardLogger\n",
        "#TensorBoardLogger(\"ls\")"
      ],
      "metadata": {
        "id": "3Auznd5f_8rf"
      },
      "execution_count": 4,
      "outputs": []
    },
    {
      "cell_type": "code",
      "source": [
        "%%capture\n",
        "!pip install pytorch_lightning\n",
        "!pip install basemap\n",
        "!pip install importlib-metadata==4.0.1\n",
        "!pip install xarray==0.18.1\n",
        "!pip install torchvision"
      ],
      "metadata": {
        "id": "yg_fJ3Fi0rzt"
      },
      "execution_count": 5,
      "outputs": []
    },
    {
      "cell_type": "code",
      "source": [
        "from argparse import ArgumentParser\n",
        "import warnings\n",
        "warnings.filterwarnings('ignore')\n",
        "from dataclasses import dataclass, field\n",
        "from typing import List\n",
        "import getpass\n",
        "\n",
        "%load_ext autoreload\n",
        "%autoreload 2\n",
        "\n",
        "%matplotlib inline\n",
        "\n",
        "\n",
        "import os\n",
        "import xarray as xr\n",
        "import torch\n",
        "from IPython.display import Image, display\n",
        "\n",
        "\n",
        "\n",
        "import pytorch_lightning as pl\n",
        "from pytorch_lightning.loggers import TensorBoardLogger\n",
        "import json\n",
        "\n",
        "\n",
        "\n",
        "from pytorch_lightning.callbacks import Callback\n",
        "import glob\n",
        "from datetime import datetime\n",
        "from uuid import uuid1\n",
        "from io import BytesIO\n",
        "from PIL import Image\n",
        "import torchvision\n",
        "\n",
        "import xarray as xr\n",
        "import matplotlib\n",
        "import matplotlib.pyplot as plt\n",
        "import numpy as np\n",
        "import matplotlib.ticker\n",
        "from mpl_toolkits.basemap import Basemap\n",
        "from mpl_toolkits.axes_grid1 import make_axes_locatable\n",
        "from matplotlib.lines import Line2D\n",
        "\n",
        "\n",
        "from Bias_GAN.code.src.model import  DataModule, ConstrainedGenerator\n",
        "from Bias_GAN.code.src.data import TestData, CycleDataset, ProjectionDataset\n",
        "from Bias_GAN.code.src.utils import log_transform, inv_norm_transform, inv_log_transform, inv_norm_minus1_to_plus1_transform, norm_minus1_to_plus1_transform, config_from_file\n",
        "from Bias_GAN.code.src.projection_utils import ProjectionPreparation\n",
        "from Bias_GAN.code.src.xarray_utils import write_dataset\n",
        "from Bias_GAN.code.src.utils import show_checkpoints\n",
        "from Bias_GAN.code.src.model import CycleGAN\n",
        "from Bias_GAN.code.src.data import DataModule\n",
        "from Bias_GAN.code.src.utils import get_version, set_environment, get_checkpoint_path, save_config\n",
        "\n",
        "from Bias_GAN.code.src.plots import PlotAnalysis, plot_basemap\n",
        "from Bias_GAN.code.src.callbacks import get_cycle_gan_callbacks, MAE_Callback"
      ],
      "metadata": {
        "id": "ctpYd5RO0GJ3"
      },
      "execution_count": 6,
      "outputs": []
    },
    {
      "cell_type": "markdown",
      "source": [
        "# Main training loop"
      ],
      "metadata": {
        "id": "BDZR-hows48Z"
      }
    },
    {
      "cell_type": "markdown",
      "source": [
        "## define MAE callback"
      ],
      "metadata": {
        "id": "AtINdQOafvRG"
      }
    },
    {
      "cell_type": "code",
      "source": [
        "\"\"\"def get_version(date,time):\n",
        "\n",
        "    model_id = str(uuid1())\n",
        "    version = f'{date}_{time}'\n",
        "\n",
        "    return version\n",
        "\"\"\""
      ],
      "metadata": {
        "id": "Nso7MQZAn-tO",
        "outputId": "2f5e8a02-a93d-4de7-8b24-e6065cf0b70c",
        "colab": {
          "base_uri": "https://localhost:8080/",
          "height": 35
        }
      },
      "execution_count": 7,
      "outputs": [
        {
          "output_type": "execute_result",
          "data": {
            "text/plain": [
              "\"def get_version(date,time):\\n\\n    model_id = str(uuid1())\\n    version = f'{date}_{time}'\\n\\n    return version\\n\""
            ],
            "application/vnd.google.colaboratory.intrinsic+json": {
              "type": "string"
            }
          },
          "metadata": {},
          "execution_count": 7
        }
      ]
    },
    {
      "cell_type": "code",
      "source": [
        "\"\"\"\n",
        "def get_checkpoint_path(config, version):\n",
        "\n",
        "    model_name = config.model_name    \n",
        "    checkpoint_path = config.checkpoint_path\n",
        "    uuid_legth = 36\n",
        "    date_legth = 10\n",
        "\n",
        "    path = f'{config.checkpoint_path}{version}'\n",
        "    return path\n",
        "\"\"\""
      ],
      "metadata": {
        "id": "3dmLbpULo7Gt",
        "outputId": "9356ea7d-8ca8-42b5-848e-45041a3b7828",
        "colab": {
          "base_uri": "https://localhost:8080/",
          "height": 53
        }
      },
      "execution_count": 8,
      "outputs": [
        {
          "output_type": "execute_result",
          "data": {
            "text/plain": [
              "\"\\ndef get_checkpoint_path(config, version):\\n\\n    model_name = config.model_name    \\n    checkpoint_path = config.checkpoint_path\\n    uuid_legth = 36\\n    date_legth = 10\\n\\n    path = f'{config.checkpoint_path}{version}'\\n    return path\\n\""
            ],
            "application/vnd.google.colaboratory.intrinsic+json": {
              "type": "string"
            }
          },
          "metadata": {},
          "execution_count": 8
        }
      ]
    },
    {
      "cell_type": "code",
      "source": [
        "class MAE_Callback(Callback):\n",
        "    def __init__(self,logger,checkpoint_path,config, validation=True, lat_mean=False, plt_hist=False):\n",
        "        self.MAE_list = []\n",
        "        self.logger = logger\n",
        "        self.checkpoint_path = checkpoint_path\n",
        "        self.config = config\n",
        "        self.version = get_version(config.date,config.time)\n",
        "        self.validation = validation\n",
        "        self.lat_mean = lat_mean\n",
        "        self.plt_hist = plt_hist\n",
        "        \n",
        "\n",
        "    def on_train_epoch_end(self, trainer, pl_module):\n",
        "        checkpoint_files = glob.glob(str(self.checkpoint_path) + '/*.ckpt')\n",
        "        if not checkpoint_files:\n",
        "            test_data_ = None\n",
        "        else:\n",
        "            last_checkpoint = max(checkpoint_files, key=os.path.getctime)\n",
        "            data = EvaluateCheckpoints(checkpoint_path=last_checkpoint, config_path=self.config.config_path + self.version + \"/config_model.json\", save_model=True,validation=self.validation, version=self.version)\n",
        "            _, reconstruction_data = data.run()\n",
        "            test_data_ = data.get_test_data()\n",
        "\n",
        "\n",
        "        if test_data_ is None or not test_data_:\n",
        "            print(\"No test data available.\")\n",
        "            return\n",
        "\n",
        "        gan_data = getattr(test_data_, 'gan')\n",
        "        era5_data = getattr(test_data_, \"era5\")\n",
        "        bias = gan_data.mean('time') - era5_data.mean('time') \n",
        "        print(\"GAN-OBS\",f\" \\t \\t MAE: {abs(bias).values.mean():2.3f} [mm/d]\")\n",
        "        self.MAE_list.append(abs(bias).values.mean())\n",
        "        print(\"MAE_list:\",self.MAE_list)\n",
        "\n",
        "        self.log('MAE', abs(bias).values.mean())\n",
        "\n",
        "        if test_data_ is not None and self.lat_mean==True:\n",
        "            data_era5 = era5_data.mean(dim=(\"longitude\", \"time\"))\n",
        "            data_gan= gan_data.mean(dim=(\"longitude\", \"time\"))\n",
        "            plt.figure()\n",
        "            plt.plot(data_gan.latitude, data_gan.data,\n",
        "                      label=\"gan\",\n",
        "                      alpha=0.9,\n",
        "                      linestyle='-',\n",
        "                      linewidth=2,\n",
        "                      color=\"red\")\n",
        "            \n",
        "            plt.plot(data_era5.latitude, data_era5,\n",
        "                      label=\"era5\",\n",
        "                      alpha=1,\n",
        "                      linestyle='--',\n",
        "                      linewidth=2,\n",
        "                      color=\"black\")\n",
        "            \n",
        "            plt.ylim(0,3)\n",
        "            plt.xlim(25,58)\n",
        "            plt.xlabel('Latitude')\n",
        "            plt.ylabel('Mean precipitation [mm/d]')\n",
        "            plt.grid()\n",
        "            plt.legend(loc='upper right')  \n",
        "          \n",
        "            buf = BytesIO()\n",
        "            plt.savefig(buf, format='png')\n",
        "            buf.seek(0)\n",
        "            im = Image.open(buf)\n",
        "            img = torchvision.transforms.ToTensor()(im)\n",
        "            \n",
        "            self.logger.experiment.add_image(f\"latitudinal_mean\", img, trainer.current_epoch)\n",
        "\n",
        "        if test_data_ is not None and self.plt_hist==True:\n",
        "            data_gan = getattr(test_data_, \"gan\").values.flatten()\n",
        "            data_era5 = getattr(test_data_, \"era5\").values.flatten()\n",
        "            plt.figure()\n",
        "            _ = plt.hist(data_gan,\n",
        "                        bins=100,\n",
        "                        histtype='step',\n",
        "                        log=True,\n",
        "                        label=\"gan\",\n",
        "                        alpha=0.9,\n",
        "                        density=True,\n",
        "                        linewidth=2,\n",
        "                        color=\"red\")\n",
        "            \n",
        "            _ = plt.hist(data_era5,\n",
        "                        bins=100,\n",
        "                        histtype='step',\n",
        "                        log=True,\n",
        "                        label=\"era5\",\n",
        "                        alpha=1,\n",
        "                        density=True,\n",
        "                        linewidth=2,\n",
        "                        color=\"black\")\n",
        "\n",
        "            plt.xlabel('Precipitation [mm/d]')\n",
        "            plt.ylabel('Histogram')\n",
        "            plt.xlim(0,400)\n",
        "            plt.grid()\n",
        "            plt.legend(loc='upper right')\n",
        "\n",
        "            buf = BytesIO()\n",
        "            plt.savefig(buf, format='png')\n",
        "            buf.seek(0)\n",
        "            im_ = Image.open(buf)\n",
        "            img_ = torchvision.transforms.ToTensor()(im_)\n",
        "            \n",
        "            self.logger.experiment.add_image(f\"histogram\", img_, trainer.current_epoch)"
      ],
      "metadata": {
        "id": "KpchPItBC6E6"
      },
      "execution_count": 9,
      "outputs": []
    },
    {
      "cell_type": "markdown",
      "source": [
        "## Train Cycle GAN"
      ],
      "metadata": {
        "id": "RO0_lUBIfzaH"
      }
    },
    {
      "cell_type": "code",
      "source": [
        "def train_cycle_gan(config, pretrain_path=False,validation=True,track_lat_mean=False,plt_hist=False ):\n",
        "    \"\"\" Main routing to train the Cycle GAN \"\"\"\n",
        "\n",
        "    config = Config()\n",
        "    global version\n",
        "    version = get_version(config.date,config.time)\n",
        "    print(f'Running model: {version}')\n",
        "    checkpoint_path = get_checkpoint_path(config, version)\n",
        "    set_environment()\n",
        "\n",
        "    tb_logger = TensorBoardLogger(config.tensorboard_path,name=\"\",version=version,default_hp_metric=False)\n",
        "    \n",
        "    create_folder(f\"/content/gdrive/MyDrive/bias_gan/results/{version}\")\n",
        "    save_config(config, version)\n",
        "    \n",
        "    mse_callback = MAE_Callback(tb_logger,checkpoint_path,config,validation,lat_mean=track_lat_mean,plt_hist=plt_hist)\n",
        "    \n",
        "    \n",
        "    trainer = pl.Trainer(callbacks=[mse_callback] + get_cycle_gan_callbacks(checkpoint_path),\n",
        "                         gpus = 1,\n",
        "                         max_epochs = config.epochs,\n",
        "                         precision = 16, \n",
        "                         num_sanity_val_steps = 1,\n",
        "                         logger = tb_logger,\n",
        "                         log_every_n_steps = config.log_every_n_steps,\n",
        "                         deterministic = False,\n",
        "                         accelerator=accelerator,\n",
        "                         enable_model_summary=False) \n",
        "    \n",
        "\n",
        "\n",
        "    datamodule = DataModule(config, training_batch_size = config.train_batch_size,\n",
        "                                    test_batch_size = config.test_batch_size)\n",
        "\n",
        "    datamodule.setup(\"fit\")\n",
        "\n",
        "    \n",
        "    \n",
        "    if pretrain_path==False:\n",
        "      print(\"no pretraining\")\n",
        "      model = CycleGAN(d_lr=config.d_lr, g_lr=config.g_lr, beta_1=config.beta_1, beta_2=config.beta_2,\n",
        "                       epoch_decay = config.epochs // 2,running_bias=config.running_bias,num_resnet_blocks=config.num_resnet_layer, default_nbr_resnet=config.default_nbr_resnet)\n",
        "    else:\n",
        "      print(\"using pretrained model with path:\",pretrain_path)\n",
        "      model = CycleGAN(d_lr=config.d_lr, g_lr=config.g_lr, beta_1=config.beta_1, beta_2=config.beta_2,\n",
        "                       epoch_decay = config.epochs // 2, running_bias=config.running_bias,num_resnet_blocks=config.num_resnet_layer, default_nbr_resnet=config.default_nbr_resnet).load_from_checkpoint(pretrain_path)\n",
        "\n",
        "    trainer.fit(model, datamodule)\n",
        "\n",
        "    print('Training finished')\n",
        "    return model"
      ],
      "metadata": {
        "id": "efWHPrX2Ck9K"
      },
      "execution_count": 10,
      "outputs": []
    },
    {
      "cell_type": "markdown",
      "source": [
        "# Config"
      ],
      "metadata": {
        "id": "Bq-nYOq2tAfe"
      }
    },
    {
      "cell_type": "code",
      "source": [
        "load_pretrained_world_gan=False"
      ],
      "metadata": {
        "id": "fzdyv2Wdw1JG"
      },
      "execution_count": 11,
      "outputs": []
    },
    {
      "cell_type": "code",
      "execution_count": 12,
      "metadata": {
        "id": "RDSas-G6yYG1"
      },
      "outputs": [],
      "source": [
        "@dataclass\n",
        "class Config:\n",
        "    \"\"\" \n",
        "    Training configuration parameters. For model evaluation parameters see\n",
        "    src/configuration.py.\n",
        "    \"\"\"\n",
        "    \n",
        "    scratch_path: str = '/content/gdrive/MyDrive/bias_gan/results'\n",
        "    tensorboard_path: str = f'{scratch_path}/'\n",
        "    checkpoint_path: str = f'{scratch_path}/'\n",
        "    config_path: str = f'{scratch_path}/'\n",
        "    poem_path: str = f\"/content/gdrive/MyDrive/bias_gan/data_gan/pr_gfdl-esm4_historical_regionbox_1979-2014.nc\"\n",
        "    era5_path: str = f\"/content/gdrive/MyDrive/bias_gan/data_gan/pr_W5E5v2.0_regionbox_era5_1979-2014.nc\"\n",
        "   \n",
        "\n",
        "    results_path: str = f'{scratch_path}/'\n",
        "    projection_path: str = None\n",
        "\n",
        "    train_start: int = 1979\n",
        "    train_end: int = 1980 #2000 \n",
        "    valid_start: int = 2001 #was 2001\n",
        "    valid_end: int = 2004\n",
        "    test_start: int = 2004\n",
        "    test_end: int = 2014\n",
        "    \n",
        "    model_name: str = 'tibet_gan'\n",
        "\n",
        "    epochs: int = 2 # set to 250 for reproduction\n",
        "    progress_bar_refresh_rate: int = 50\n",
        "    train_batch_size: int = 1\n",
        "    test_batch_size: int = 64\n",
        "    transforms: List = field(default_factory=lambda: ['log', 'normalize_minus1_to_plus1'])\n",
        "    transformations = ['log', 'normalize_minus1_to_plus1']\n",
        "    rescale: bool = False\n",
        "    epsilon: float = 0.0001\n",
        "    lazy: bool = False\n",
        "    log_every_n_steps: int = 10 ### was 10\n",
        "    norm_output: bool = True\n",
        "    running_bias: bool = False\n",
        "\n",
        "    d_lr = 2e-4\n",
        "    g_lr = 2e-4\n",
        "    beta_1 = 0.5\n",
        "    beta_2 = 0.999\n",
        "    epoch_decay = 200\n",
        "    \n",
        "\n",
        "    time = datetime.now().time().strftime(\"%Hh_%Mm_%Ss\")\n",
        "    date = datetime.now().date().strftime(\"%Y_%m_%d\")\n",
        "\n",
        "    if load_pretrained_world_gan==True:\n",
        "      default_nbr_resnet=False\n",
        "      num_resnet_layer=7\n",
        "    else:\n",
        "      default_nbr_resnet=True\n",
        "      num_resnet_layer=6\n",
        "\n",
        "\n",
        "def main():\n",
        "    _ = train_cycle_gan(Config())"
      ]
    },
    {
      "cell_type": "markdown",
      "source": [
        "# Inference"
      ],
      "metadata": {
        "id": "z-ykm_eB95pn"
      }
    },
    {
      "cell_type": "markdown",
      "source": [
        "## inference"
      ],
      "metadata": {
        "id": "We_xzajk-9xY"
      }
    },
    {
      "cell_type": "code",
      "source": [
        "class Inference():\n",
        "\n",
        "    \"\"\" Execute model on test data and return output as NetCDF. \"\"\"\n",
        "    \n",
        "    def __init__(self,\n",
        "                 config,\n",
        "                 constrain=False,\n",
        "                 validation=False,\n",
        "                 projection=False,\n",
        "                 projection_path=None,\n",
        "                 max_num_inference_steps=None):\n",
        "        \n",
        "\n",
        "        self.config = config\n",
        "        self.constrain = constrain\n",
        "        self.results_path = config.results_path\n",
        "\n",
        "        self.poem = xr.open_dataset(self.config.poem_path)\n",
        "        self.era5 = xr.open_dataset(self.config.era5_path)\n",
        "\n",
        "        self.train_start = str(config.train_start)\n",
        "        self.train_end = str(config.train_end)\n",
        "        self.test_start = str(config.test_start)\n",
        "        self.test_end = str(config.test_end)\n",
        "        \n",
        "        self.validation = validation\n",
        "        if self.validation==True:\n",
        "          self.valid_start = str(config.valid_start)\n",
        "          self.valid_end = str(config.valid_end)\n",
        "\n",
        "        self.epsilon = config.epsilon\n",
        "        self.projection = projection\n",
        "        self.projection_path = projection_path\n",
        "\n",
        "        self.model = None\n",
        "        self.model_output = None\n",
        "        self.dataset = None\n",
        "        \n",
        "        self.reconstruct_model = None\n",
        "        self.model_output_reconstr = None\n",
        "\n",
        "        self.transforms = config.transforms\n",
        "        self.max_num_inference_steps = max_num_inference_steps\n",
        "        self.tst_batch_sz = 64\n",
        "        self.device = torch.device('cuda' if torch.cuda.is_available() else 'cpu')\n",
        "\n",
        "        \n",
        "    def load_model(self, checkpoint_path):\n",
        "    \n",
        "        model = CycleGAN().load_from_checkpoint(checkpoint_path=checkpoint_path)\n",
        "        model.freeze()\n",
        "        self.model = model.to(self.device)\n",
        "        self.model = ConstrainedGenerator(self.model.g_B2A, constrain=self.constrain)\n",
        "\n",
        "        model_ = CycleGAN().load_from_checkpoint(checkpoint_path=checkpoint_path)\n",
        "        model_.freeze()\n",
        "        self.reconstruct_model = model_.to(self.device)\n",
        "        self.reconstruct_model = ConstrainedGenerator(self.reconstruct_model.g_A2B, constrain=self.constrain)\n",
        "\n",
        "\n",
        "    def get_model(self):\n",
        "        return self.model , self.reconstruct_model\n",
        "\n",
        "        \n",
        "    def get_dataloader(self):\n",
        "        datamodule = DataModule(self.config,\n",
        "                                training_batch_size = 1,\n",
        "                                test_batch_size = self.tst_batch_sz)\n",
        "        if self.projection:\n",
        "            print('running projection')\n",
        "            datamodule.setup(\"predict\")\n",
        "        else:\n",
        "            datamodule.setup(\"test\")\n",
        "        \n",
        "        if self.validation==False:\n",
        "          dataloader = datamodule.test_dataloader()\n",
        "        else:\n",
        "          dataloader = datamodule.val_dataloader()\n",
        "\n",
        "        return dataloader\n",
        "\n",
        "    def get_projection_dataloader(self):\n",
        "\n",
        "        dataloader = ProjectionDataset(self.config)\n",
        "        return dataloader\n",
        "    \n",
        "        \n",
        "    def compute(self):\n",
        "        \"\"\" Use B (ESM) -> A (ERA5) generator for inference \"\"\"\n",
        "\n",
        "        data = []\n",
        "        print(\"Start inference:\")\n",
        "        if self.validation==True:\n",
        "          valid_data = self.get_dataloader()\n",
        "          for idx, sample in enumerate(valid_data):\n",
        "              sample = sample['B'].to(self.device)\n",
        "              yhat = self.model(sample)\n",
        "\n",
        "              data.append(yhat.squeeze().cpu())\n",
        "              if self.max_num_inference_steps is not None:\n",
        "                  if idx > self.max_num_inference_steps - 1:\n",
        "                      break\n",
        "        else:\n",
        "          test_data = self.get_dataloader()\n",
        "          for idx, sample in enumerate(test_data):\n",
        "              sample = sample['B'].to(self.device)\n",
        "              yhat = self.model(sample)\n",
        "\n",
        "              data.append(yhat.squeeze().cpu())\n",
        "              if self.max_num_inference_steps is not None:\n",
        "                  if idx > self.max_num_inference_steps - 1:\n",
        "                      break\n",
        "            \n",
        "        self.model_output = torch.cat(data)\n",
        "\n",
        "\n",
        "    def compute_reconstruction(self):\n",
        "          \"\"\" Use generated  A' (ERA5) -> B (ESM)  for inference \"\"\"\n",
        "\n",
        "          data_reconstr = []\n",
        "          data = []\n",
        "          print(\"Start inference:\")\n",
        "          if self.validation==True:\n",
        "            valid_data = self.get_dataloader()\n",
        "            for idx, sample in enumerate(valid_data):\n",
        "                sample = sample['B'].to(self.device)\n",
        "                yhat = self.model(sample) ### self.g_B2A\n",
        "                reconstruct = self.reconstruct_model(yhat) ### self.g_A2B\n",
        "                plot_reconstruction(reconstruct)\n",
        "                \n",
        "                data_reconstr.append(reconstruct.squeeze().cpu())\n",
        "                data.append(yhat.squeeze().cpu())\n",
        "                if self.max_num_inference_steps is not None:\n",
        "                    if idx > self.max_num_inference_steps - 1:\n",
        "                        break\n",
        "          else:\n",
        "            test_data = self.get_dataloader()\n",
        "            for idx, sample in enumerate(test_data):\n",
        "                sample = sample['B'].to(self.device)        \n",
        "                yhat = self.model(sample)  ### self.g_B2A\n",
        "                reconstruct = self.reconstruct_model(yhat) ### self.g_A2B\n",
        "\n",
        "                \"\"\"\n",
        "                print(\"plot first sample of batch - original data\")             \n",
        "                #cs = plt.pcolormesh(sample.squeeze().cpu()[0,:,:])\n",
        "                cs = plt.pcolormesh(self.inv_transform(sample.cpu()).squeeze().cpu()[0,:,:]*3600*24,cmap=\"Blues\")\n",
        "                plt.colorbar(cs, cax = make_axes_locatable(plt.gca()).append_axes('right', size=\"1.5%\", pad=0.4), extend='max')\n",
        "                plt.show()\n",
        "\n",
        "                print(\"plot first sample of batch - generated data\")\n",
        "                #cs = plt.pcolormesh(yhat.squeeze().cpu()[0,:,:])\n",
        "                cs = plt.pcolormesh(self.inv_transform(yhat.cpu()).squeeze().cpu()[0,:,:]*3600*24,cmap=\"Blues\")\n",
        "                plt.colorbar(cs, cax = make_axes_locatable(plt.gca()).append_axes('right', size=\"1.5%\", pad=0.4), extend='max')\n",
        "                plt.show()\n",
        "                print(\"plot first sample of batch - reconstructed data\")\n",
        "                #cs = plt.pcolormesh(reconstruct.squeeze().cpu()[0,:,:])\n",
        "                cs = plt.pcolormesh(self.inv_transform(reconstruct.cpu()).squeeze().squeeze().cpu()[0,:,:]*3600*24,cmap=\"Blues\")\n",
        "                plt.colorbar(cs, cax = make_axes_locatable(plt.gca()).append_axes('right', size=\"1.5%\", pad=0.4), extend='max')\n",
        "                plt.show()\n",
        "                \"\"\"\n",
        "                \n",
        "                data_reconstr.append(reconstruct.squeeze().cpu())\n",
        "                data.append(yhat.squeeze().cpu())\n",
        "                if self.max_num_inference_steps is not None:\n",
        "                    if idx > self.max_num_inference_steps - 1:\n",
        "                        break\n",
        "                        \n",
        "          self.model_output = torch.cat(data)    \n",
        "          self.model_output_reconstr = torch.cat(data_reconstr)\n",
        "          #return ori, gen , back\n",
        "\n",
        "    def test(self):\n",
        "        dataset = CycleDataset('test', self.config)\n",
        "        test_data = dataset[0]\n",
        "        sample = test_data['A'][0]\n",
        "        data = self.inv_transform(sample)\n",
        "        print(data.min(), data.max())\n",
        "\n",
        "    \n",
        "    def get_netcdf_result(self): \n",
        "        \n",
        "        if self.validation==False:\n",
        "            print(\"MODE: TESTING\")\n",
        "            time = self.poem.sel(time=slice(self.test_start, self.test_end)).time\n",
        "        if self.validation==True:\n",
        "            print(\"MODE: VALIDATION\")\n",
        "            time = self.poem.sel(time=slice(self.valid_start, self.valid_end)).time\n",
        "\n",
        "        if self.projection:\n",
        "            time = xr.open_dataset(self.projection_path).time\n",
        "\n",
        "        if self.max_num_inference_steps is not None:\n",
        "            time = time.isel(time=slice(0, (self.max_num_inference_steps+1)*self.tst_batch_sz))\n",
        "\n",
        "        latitude = self.poem.latitude\n",
        "        longitude = self.poem.longitude\n",
        "        \n",
        "        gan_data= xr.DataArray(\n",
        "            data=self.model_output,\n",
        "            dims=[\"time\", \"latitude\", \"longitude\"],\n",
        "            coords=dict(\n",
        "                time=time,\n",
        "                latitude=latitude,\n",
        "                longitude=longitude,),\n",
        "            attrs=dict(description=\"gan_precipitation\",units=\"mm/s\",))\n",
        "        \n",
        "        ### for reconstruction ###\n",
        "        gan_reconstruct= xr.DataArray(\n",
        "            data=self.model_output_reconstr,\n",
        "            dims=[\"time\", \"latitude\", \"longitude\"],\n",
        "            coords=dict(\n",
        "                time=time,\n",
        "                latitude=latitude,\n",
        "                longitude=longitude,),\n",
        "            attrs=dict(description=\"reconstruction_precipitation\",units=\"mm/s\",))\n",
        "\n",
        "        gan_reconstr_dataset = gan_reconstruct.to_dataset(name=\"gan_reconstruct\")\n",
        "        self.gan_reconstr_dataset = gan_reconstr_dataset.transpose('time', 'latitude', 'longitude')\n",
        "\n",
        "        gan_dataset = gan_data.to_dataset(name=\"gan_precipitation\")\n",
        "        self.gan_dataset = gan_dataset.transpose('time', 'latitude', 'longitude')\n",
        "\n",
        "        return self.gan_dataset, self.gan_reconstr_dataset\n",
        "\n",
        "\n",
        "    def inv_transform(self, data, reference=None):\n",
        "        \"\"\" The output equals ERA5, therefore it needs to be\n",
        "            constraind with respect to it\n",
        "        \"\"\"\n",
        "        if reference is None:\n",
        "            reference = self.era5.era5_precipitation.sel(time=slice(self.train_start, self.train_end)).values\n",
        "\n",
        "        if 'log' in self.transforms:\n",
        "            reference = log_transform(reference, self.epsilon)\n",
        "\n",
        "        if 'normalize' in self.transforms:\n",
        "            data = inv_norm_transform(data, reference)\n",
        "\n",
        "        if 'normalize_minus1_to_plus1' in self.transforms:\n",
        "            data = inv_norm_minus1_to_plus1_transform(data, reference)\n",
        "\n",
        "        if 'log' in self.transforms:\n",
        "            data = inv_log_transform(data, self.epsilon)\n",
        "\n",
        "        return data\n",
        "\n",
        "    \n",
        "    def write(self, fname):\n",
        "        \n",
        "        ds, ds_reconstr = self.get_netcdf_result()\n",
        "        path  = self.results_path + fname\n",
        "        ds.to_netcdf(path)\n",
        "        ds.to_netcdf(path + \"reconstruction\")"
      ],
      "metadata": {
        "id": "JSAIRPD4--Ai"
      },
      "execution_count": 13,
      "outputs": []
    },
    {
      "cell_type": "markdown",
      "source": [
        "## evaluate checkpoints fct"
      ],
      "metadata": {
        "id": "bgA1wp1y-yxZ"
      }
    },
    {
      "cell_type": "code",
      "source": [
        "def create_folder(path):\n",
        "    from pathlib import Path\n",
        "    Path(path).mkdir(parents=True, exist_ok=True)"
      ],
      "metadata": {
        "id": "uhJrYeojF8s9"
      },
      "execution_count": 14,
      "outputs": []
    },
    {
      "cell_type": "code",
      "source": [
        "class EvaluateCheckpoints():\n",
        "    \"\"\" \n",
        "        Interate over model checkpoints and\n",
        "        show the test set results.\n",
        "    \"\"\"\n",
        "    \n",
        "    def __init__(self,\n",
        "                 checkpoint_path,\n",
        "                 config_path,\n",
        "                 plot_summary=False,\n",
        "                 show_plots=False,\n",
        "                 save_model=True,\n",
        "                 constrain=False,\n",
        "                 epoch_index=None,\n",
        "                 projection=False,\n",
        "                 max_num_inference_steps=None,\n",
        "                 projection_path=None,\n",
        "                 validation=False,\n",
        "                 version=\"\"\n",
        "                 ):\n",
        "\n",
        "        self.checkpoint_path = checkpoint_path\n",
        "        #print(f'loading checkpoints from directory: {self.checkpoint_path}')\n",
        "        self.config_path = config_path\n",
        "        self.reports_path = f'{Config.results_path}reports/'\n",
        "        self.projection_path = projection_path\n",
        "        self.projection = projection\n",
        "        self.plot_summary = plot_summary\n",
        "        self.uuid = None\n",
        "        self.show_plots = show_plots\n",
        "        self.gan_results = None\n",
        "        self.save_model = save_model\n",
        "        self.model_fname = 'gan.nc'\n",
        "        self.model = None\n",
        "        self.reconstruct_model = None\n",
        "        self.test_data = None\n",
        "        self.constrain = constrain\n",
        "        self.epoch_index = epoch_index\n",
        "        self.max_num_inference_steps = max_num_inference_steps\n",
        "        self.validation = validation\n",
        "        self.version = version\n",
        "\n",
        "\n",
        "    def load_config(self):\n",
        "        path = self.config_path\n",
        "        config = config_from_file(path)\n",
        "        if self.projection_path is not None:\n",
        "            config.projection_path = self.projection_path\n",
        "        return config\n",
        "\n",
        "\n",
        "\n",
        "    def get_uuid_from_path(self, path: str):\n",
        "        import re\n",
        "        print(\"path in get_uuid\", path)\n",
        "        uuid4hex = re.compile('[0-9a-f]{8}-[0-9a-f]{4}-[1-5][0-9a-f]{3}-[89ab][0-9a-f]{3}-[0-9a-f]{12}', re.I)\n",
        "        print(\"uuid4hex\",uuid4hex)\n",
        "        print(\"uuid4hex search path\",uuid4hex.search(path))\n",
        "        uuid = uuid4hex.search(path).group(0)\n",
        "        return uuid\n",
        "\n",
        "\n",
        "    def run(self):         ############## maybe add checkpoint_path as variable ##############\n",
        "        \n",
        "        self.config = self.load_config()\n",
        "        \n",
        "        files = [self.checkpoint_path]\n",
        "        for i, fname in enumerate(files):\n",
        "            self.checkpoint_idx = i+1\n",
        "            self.num_checkpoints = len(files)\n",
        "            print(f'Checkpoint {self.checkpoint_idx} / {self.num_checkpoints}:')\n",
        "            reconstruct_model_data = self.run_inference(fname)\n",
        "            self.read_test_data()\n",
        "            self.get_plots()\n",
        "            \n",
        "        return self.get_test_data(), reconstruct_model_data\n",
        "        \n",
        "        \n",
        "    def get_files(self, path: str):\n",
        "        \n",
        "        if os.path.isfile(path):\n",
        "            files = []\n",
        "            files.append(path) \n",
        "        else:\n",
        "            files = os.listdir(path)\n",
        "            for i, f in enumerate(files):\n",
        "                files[i] = os.path.join(path, f) \n",
        "        return files\n",
        "\n",
        "    def run_inference(self, path: str):\n",
        "        \n",
        "        inf = Inference(self.config,\n",
        "                        constrain=self.constrain,\n",
        "                        projection=self.projection,\n",
        "                        projection_path=self.projection_path,\n",
        "                        max_num_inference_steps=self.max_num_inference_steps,\n",
        "                        validation=self.validation)\n",
        "        inf.load_model(path)\n",
        "        #inf.compute()\n",
        "        inf.compute_reconstruction()\n",
        "        self.gan_results, self.gan_reconstruction = inf.get_netcdf_result()\n",
        "        self.model, self.reconstruct_model = inf.get_model()\n",
        "        \n",
        "        if self.save_model:\n",
        "            print(\"saving model to path:\",self.version + \"/\" + self.model_fname)\n",
        "            inf.write(self.version + \"/\" + self.model_fname)\n",
        "\n",
        "        return self.gan_reconstruction\n",
        "        \n",
        "    def read_test_data(self):\n",
        "    \n",
        "        climate_model = xr.open_dataset(self.config.poem_path)\n",
        "        if 'poem_precipitation' in climate_model.variables:\n",
        "            climate_model =  climate_model.poem_precipitation#*3600*24                     #######is it nessecary to mulitply with this??########\n",
        "        else:\n",
        "            climate_model =  climate_model.precipitation #*3600*24                         #######is it nessecary to mulitply with this??########\n",
        "        era5 = xr.open_dataset(self.config.era5_path).era5_precipitation#*3600*24            #######is it nessecary to mulitply with this??########\n",
        "        gan = self.gan_results.gan_precipitation\n",
        "\n",
        "\n",
        "        data = TestData(era5, gan, climate_model=climate_model)\n",
        "        data.convert_units()\n",
        "        data.crop_test_period()\n",
        "        data.show_mean()\n",
        "        data.uuid = self.uuid\n",
        "        data.model = self.model\n",
        "        \n",
        "        self.test_data = data\n",
        "\n",
        "\n",
        "    def get_test_data(self):\n",
        "        return self.test_data\n",
        "\n",
        "\n",
        "    def show_reports(self, uuid):\n",
        "        path = f'{self.reports_path}{uuid}/'\n",
        "        files = self.get_files(path)\n",
        "        for file in files:\n",
        "            fig = Image(filename=file)\n",
        "            display(fig)\n",
        "        \n",
        "        \n",
        "    def get_plots(self):\n",
        "\n",
        "        if self.plot_summary:\n",
        "            plot = PlotAnalysis(self.test_data)\n",
        "            new_dir = f'{self.reports_path}{self.uuid}/'\n",
        "            create_folder(new_dir)\n",
        "            fname = f'{new_dir}model_{self.uuid}_number_{self.checkpoint_idx}.png'\n",
        "            plot.summary(plot_idx=self.checkpoint_idx, \n",
        "                         num_plots=self.num_checkpoints,\n",
        "                         fname=fname, show_plots=self.show_plots)"
      ],
      "metadata": {
        "id": "CvdLnaDF-0lK"
      },
      "execution_count": 15,
      "outputs": []
    },
    {
      "cell_type": "markdown",
      "source": [
        "#Run"
      ],
      "metadata": {
        "id": "BuE3z8TfEMhH"
      }
    },
    {
      "cell_type": "code",
      "source": [
        "do_training = True\n",
        "from_skratch = True\n",
        "\n",
        "track_lat_mean = True\n",
        "plt_hist=True\n",
        "\n",
        "runtime_instance = \"2023_01_19_16h_26m_23s\"\n",
        "\n",
        "if do_training == True:\n",
        "    accelerator=\"gpu\"\n",
        "\n",
        "    if from_skratch == True:\n",
        "        train_cycle_gan(Config(),validation=False,track_lat_mean=track_lat_mean,plt_hist=plt_hist)\n",
        "        \n",
        "\n",
        "    if from_skratch == False:\n",
        "        train_cycle_gan(Config(),f\"/content/gdrive/MyDrive/bias_gan/results/{runtime_instance}/last.ckpt\",validation=True,track_lat_mean=track_lat_mean,plt_hist=plt_hist)"
      ],
      "metadata": {
        "id": "Cid_5UwLyttz",
        "outputId": "d2c7e0e8-b79f-42ba-e52d-a863228f0003",
        "colab": {
          "base_uri": "https://localhost:8080/",
          "height": 1000,
          "referenced_widgets": [
            "b5c9037091ed4260941e040e6f803b24",
            "59e61f9b71074266a2c34b2140fb5b85",
            "a9d1424a0aba49d5a5471fe99e79b417",
            "563d3eff5b6d47ec9a23d59143c0a0f8",
            "96a6cc148cca4eebb1f009b223a68dba",
            "48a915acdd9f4111a1cd9378c4be81ca",
            "ca6763fd150a40baa57814f51fad9219",
            "8577f02aa099439e9ba15e51a0921bfe",
            "bb45138a57f242478f9dbeaf987477e4",
            "e6f8b1644a5545689c668bfdf90bbb8c",
            "6354e7e510594529bf988875e303129b",
            "2aedfe6228ca44c381732269ee0bc387",
            "666d48bbf4e94a688f35b9650beffd85",
            "250d223a09664ece91de0bb191776819",
            "dca928625f6840e8b9c46e80a4f4b7fa",
            "6fe19fd1cd33480dbbddcdcef2e7177a",
            "4ca5e7cd7b0d44cf8fe65ca4e1c32d9a",
            "155aa05dce6e4f55b16fdb311d78a8be",
            "441fa08228b641a88c29c62397668dce",
            "f5f69d4efb75474394a67e3a0d908ba2",
            "c6d986423eaf473d8aaf908ce801675e",
            "92f2efa0b58a436eaec34621c9735c8f",
            "c761dd6934c443d7974f8c0c79b2750b",
            "2abd149e0b464c32b368ac76d0071151",
            "b974e02429f94c37a7e11eb6f670dbfc",
            "ea805ef2ca634ec6841b2240ad58a6c1",
            "179e5b9de027473a8e2fcde3f78afab5",
            "c0505e570dd84be2868147aafa4aa594",
            "8b9c2ac9fb98439092d2ec4d32085c09",
            "ee0a4935b00b4db1aa0fe8d614472107",
            "14cce4a0be724204af7394af03492246",
            "9829e3b4e86c4d439f9921d1dccbf3ea",
            "b1ae8147d9f74ad69f2ae16588943b89",
            "f7d373ba80874af3bc4e59fa06f0d748",
            "a057aced83014a42a3af34b08fe08d34",
            "8a9ece4678d4447facd210ad5da24597",
            "e2c341597b4941799b97741ed9f7de89",
            "6fe1583c11f44841a4990a52d7616952",
            "a1eaecb727244ca1b6b69a923a48076e",
            "13d174e89bb84fef94ae0549592298c7",
            "bca94698b76a4e3380e92b9d95f480e7",
            "8b0257c4ed204f27a38f6e7784038bdf",
            "7e79cee4aece445b96cc490ae78c9043",
            "40c6bd2a0527445c91827acf2e4924b1"
          ]
        }
      },
      "execution_count": 16,
      "outputs": [
        {
          "output_type": "stream",
          "name": "stderr",
          "text": [
            "INFO:lightning_fabric.utilities.seed:Global seed set to 42\n"
          ]
        },
        {
          "output_type": "stream",
          "name": "stdout",
          "text": [
            "Running model: 13h_29m_21s_2023_01_31\n"
          ]
        },
        {
          "output_type": "stream",
          "name": "stderr",
          "text": [
            "INFO:pytorch_lightning.utilities.rank_zero:Using 16bit None Automatic Mixed Precision (AMP)\n",
            "INFO:pytorch_lightning.utilities.rank_zero:GPU available: True (cuda), used: True\n",
            "INFO:pytorch_lightning.utilities.rank_zero:TPU available: False, using: 0 TPU cores\n",
            "INFO:pytorch_lightning.utilities.rank_zero:IPU available: False, using: 0 IPUs\n",
            "INFO:pytorch_lightning.utilities.rank_zero:HPU available: False, using: 0 HPUs\n"
          ]
        },
        {
          "output_type": "stream",
          "name": "stdout",
          "text": [
            "no pretraining\n"
          ]
        },
        {
          "output_type": "stream",
          "name": "stderr",
          "text": [
            "INFO:pytorch_lightning.accelerators.cuda:LOCAL_RANK: 0 - CUDA_VISIBLE_DEVICES: [0]\n"
          ]
        },
        {
          "output_type": "display_data",
          "data": {
            "text/plain": [
              "Sanity Checking: 0it [00:00, ?it/s]"
            ],
            "application/vnd.jupyter.widget-view+json": {
              "version_major": 2,
              "version_minor": 0,
              "model_id": "b5c9037091ed4260941e040e6f803b24"
            }
          },
          "metadata": {}
        },
        {
          "output_type": "display_data",
          "data": {
            "text/plain": [
              "Training: 0it [00:00, ?it/s]"
            ],
            "application/vnd.jupyter.widget-view+json": {
              "version_major": 2,
              "version_minor": 0,
              "model_id": "2aedfe6228ca44c381732269ee0bc387"
            }
          },
          "metadata": {}
        },
        {
          "output_type": "display_data",
          "data": {
            "text/plain": [
              "Validation: 0it [00:00, ?it/s]"
            ],
            "application/vnd.jupyter.widget-view+json": {
              "version_major": 2,
              "version_minor": 0,
              "model_id": "c761dd6934c443d7974f8c0c79b2750b"
            }
          },
          "metadata": {}
        },
        {
          "output_type": "stream",
          "name": "stdout",
          "text": [
            "No test data available.\n"
          ]
        },
        {
          "output_type": "display_data",
          "data": {
            "text/plain": [
              "Validation: 0it [00:00, ?it/s]"
            ],
            "application/vnd.jupyter.widget-view+json": {
              "version_major": 2,
              "version_minor": 0,
              "model_id": "f7d373ba80874af3bc4e59fa06f0d748"
            }
          },
          "metadata": {}
        },
        {
          "output_type": "stream",
          "name": "stdout",
          "text": [
            "Checkpoint 1 / 1:\n",
            "Start inference:\n",
            "MODE: TESTING\n",
            "saving model to path: 13h_29m_21s_2023_01_31/gan.nc\n",
            "MODE: TESTING\n",
            "\n",
            "Test set period: 2004-01-01T00:00:00.000000000 - 2014-12-31T00:00:00.000000000\n",
            "\n",
            "Mean [mm/d]:\n",
            "ERA5: 1.017\n",
            "Climate Model: 1.017\n",
            "GAN:  32.538\n",
            "GAN-OBS  \t \t MAE: 31.521 [mm/d]\n",
            "MAE_list: [31.520506]\n"
          ]
        },
        {
          "output_type": "stream",
          "name": "stderr",
          "text": [
            "INFO:pytorch_lightning.utilities.rank_zero:`Trainer.fit` stopped: `max_epochs=2` reached.\n"
          ]
        },
        {
          "output_type": "stream",
          "name": "stdout",
          "text": [
            "Training finished\n"
          ]
        },
        {
          "output_type": "display_data",
          "data": {
            "text/plain": [
              "<Figure size 576x288 with 1 Axes>"
            ],
            "image/png": "[encoded data removed]"
          },
          "metadata": {
            "needs_background": "light"
          }
        },
        {
          "output_type": "display_data",
          "data": {
            "text/plain": [
              "<Figure size 576x288 with 1 Axes>"
            ],
            "image/png": "[encoded data removed]"
          },
          "metadata": {
            "needs_background": "light"
          }
        }
      ]
    },
    {
      "cell_type": "markdown",
      "source": [
        "# Tensorboard logging"
      ],
      "metadata": {
        "id": "au8YMzdenH1w"
      }
    },
    {
      "cell_type": "code",
      "source": [
        "%load_ext tensorboard"
      ],
      "metadata": {
        "id": "-C07ecZu8qKK"
      },
      "execution_count": 17,
      "outputs": []
    },
    {
      "cell_type": "code",
      "source": [
        "if do_training==True: \n",
        "    %tensorboard --logdir /content/gdrive/MyDrive/bias_gan/results/{version}/"
      ],
      "metadata": {
        "id": "T6I1AxV4Y3Wg"
      },
      "execution_count": null,
      "outputs": []
    },
    {
      "cell_type": "code",
      "source": [
        "if do_training==False: \n",
        "  %tensorboard --logdir /content/gdrive/MyDrive/bias_gan/results/{runtime_instance}/"
      ],
      "metadata": {
        "id": "7BBG_ha-qWOj"
      },
      "execution_count": 19,
      "outputs": []
    },
    {
      "cell_type": "markdown",
      "source": [
        "# Evaluation"
      ],
      "metadata": {
        "id": "2adJLjPo-15I"
      }
    },
    {
      "cell_type": "markdown",
      "source": [
        "## Run Evaluation\n"
      ],
      "metadata": {
        "id": "VGpAmsXwFzjS"
      }
    },
    {
      "cell_type": "code",
      "source": [
        "if do_training==False: \n",
        "  version_ = runtime_instance\n",
        "else:\n",
        "  version_ = version\n",
        "\n",
        "\n",
        "checkpoint_path = f\"/content/gdrive/MyDrive/bias_gan/results/{version_}/last.ckpt\" \n",
        "config_path = f\"/content/gdrive/MyDrive/bias_gan/results/{version_}/config_model.json\"\n",
        "\n",
        "data = EvaluateCheckpoints(checkpoint_path=checkpoint_path, config_path=config_path, save_model=True, version=version_)"
      ],
      "metadata": {
        "id": "LeBFJMy3-NSq"
      },
      "execution_count": 20,
      "outputs": []
    },
    {
      "cell_type": "code",
      "source": [
        "test_data, reconstruct_data = data.run()\n",
        "test_data = data.get_test_data()"
      ],
      "metadata": {
        "colab": {
          "base_uri": "https://localhost:8080/"
        },
        "id": "2VuJjIiTjpnf",
        "outputId": "4251c118-9212-45e3-c30a-4dd35f42c31a"
      },
      "execution_count": 21,
      "outputs": [
        {
          "output_type": "stream",
          "name": "stdout",
          "text": [
            "Checkpoint 1 / 1:\n",
            "Start inference:\n",
            "MODE: TESTING\n",
            "saving model to path: 13h_29m_21s_2023_01_31/gan.nc\n",
            "MODE: TESTING\n",
            "\n",
            "Test set period: 2004-01-01T00:00:00.000000000 - 2014-12-31T00:00:00.000000000\n",
            "\n",
            "Mean [mm/d]:\n",
            "ERA5: 1.017\n",
            "Climate Model: 1.017\n",
            "GAN:  26.125\n"
          ]
        }
      ]
    },
    {
      "cell_type": "markdown",
      "source": [
        "# Create reconstructions"
      ],
      "metadata": {
        "id": "Dxf0UZB5Komf"
      }
    },
    {
      "cell_type": "code",
      "source": [
        "Config_adjusted_trafo = Config\n",
        "Config_adjusted_trafo.transforms = Config_adjusted_trafo.transformations\n",
        "dataset = CycleDataset('valid', Config_adjusted_trafo)\n",
        "nbr_reconstruction_examples = 1"
      ],
      "metadata": {
        "id": "g5OZ8gZ5Luyy"
      },
      "execution_count": 22,
      "outputs": []
    },
    {
      "cell_type": "markdown",
      "source": [
        "## Define inverse transformation and define forward/backward models"
      ],
      "metadata": {
        "id": "HwHZWZGZKz6s"
      }
    },
    {
      "cell_type": "code",
      "source": [
        "def inv_transform(data, reference=None):\n",
        "        \"\"\" The output equals ERA5, therefore it needs to be\n",
        "            constraind with respect to it\n",
        "        \"\"\"\n",
        "        if reference is None:\n",
        "            reference = xr.open_dataset(Config.era5_path).era5_precipitation.sel(time=slice(str(Config.train_start), str(Config.train_end))).values\n",
        "\n",
        "        if 'log' in Config.transformations:\n",
        "            reference = log_transform(reference, Config.epsilon)\n",
        "\n",
        "        if 'normalize' in Config.transformations:\n",
        "            data = inv_norm_transform(data, reference)\n",
        "\n",
        "        if 'normalize_minus1_to_plus1' in Config.transformations:\n",
        "            data = inv_norm_minus1_to_plus1_transform(data, reference)\n",
        "\n",
        "        if 'log' in Config.transformations:\n",
        "            data = inv_log_transform(data, Config.epsilon)\n",
        "\n",
        "        return data\n",
        "\n",
        "ckpt_path = Config.checkpoint_path + \"2023_01_19_16h_26m_23s/last.ckpt\"\n",
        "\n",
        "model_fw = CycleGAN().load_from_checkpoint(checkpoint_path=ckpt_path)\n",
        "model_fw.freeze()\n",
        "model_fw = model_fw.to(torch.device('cuda' if torch.cuda.is_available() else 'cpu'))\n",
        "model_fw = ConstrainedGenerator(model_fw.g_B2A, constrain=False)\n",
        "\n",
        "model_bw = CycleGAN().load_from_checkpoint(checkpoint_path=ckpt_path)\n",
        "model_bw.freeze()\n",
        "model_bw = model_bw.to(torch.device('cuda' if torch.cuda.is_available() else 'cpu'))\n",
        "model_bw = ConstrainedGenerator(model_bw.g_A2B, constrain=False)"
      ],
      "metadata": {
        "id": "Uqoma3efKsr_"
      },
      "execution_count": 23,
      "outputs": []
    },
    {
      "cell_type": "markdown",
      "source": [
        "## reconstruction starting with climate model"
      ],
      "metadata": {
        "id": "Tyc4ELg9K5Dq"
      }
    },
    {
      "cell_type": "code",
      "source": [
        "for i in range(nbr_reconstruction_examples):\n",
        "    test_data_ = dataset[i]  \n",
        "\n",
        "    obs = test_data_['B'].to(torch.device('cuda' if torch.cuda.is_available() else 'cpu'))   \n",
        "    gan = model_fw(obs)\n",
        "    rec = model_bw(gan)\n",
        "\n",
        "    data_obs = inv_transform(obs.squeeze().cpu())*3600*24\n",
        "    data_gan = inv_transform(gan.squeeze().cpu())*3600*24\n",
        "    data_rec = inv_transform(rec.squeeze().cpu())*3600*24\n",
        "\n",
        "    fig, ax = plt.subplots(1, 3, figsize=(20, 5))\n",
        "\n",
        "    cs = ax[0].pcolormesh(data_obs.squeeze().cpu(), cmap=\"Blues\")\n",
        "    fig.colorbar(cs, ax=ax[0], extend='max')\n",
        "    ax[0].set_title(\"climate model data\")\n",
        "\n",
        "    cs = ax[1].pcolormesh(data_gan.squeeze().cpu(), cmap=\"Blues\")\n",
        "    fig.colorbar(cs, ax=ax[1], extend='max')\n",
        "    ax[1].set_title(\"generated observation (gan)\")\n",
        "\n",
        "    cs = ax[2].pcolormesh(data_rec.squeeze().cpu(), cmap=\"Blues\")\n",
        "    fig.colorbar(cs, ax=ax[2], extend='max')\n",
        "    ax[2].set_title(\"reconstruction of climate model data\")\n",
        "\n",
        "    plt.show()"
      ],
      "metadata": {
        "colab": {
          "base_uri": "https://localhost:8080/",
          "height": 336
        },
        "id": "eVaBt7A3K6Sl",
        "outputId": "d7429bf5-f73d-4e75-a41e-1e4e3e1c395a"
      },
      "execution_count": 24,
      "outputs": [
        {
          "output_type": "display_data",
          "data": {
            "text/plain": [
              "<Figure size 1440x360 with 6 Axes>"
            ],
            "image/png": "[encoded data removed]"
          },
          "metadata": {
            "needs_background": "light"
          }
        }
      ]
    },
    {
      "cell_type": "markdown",
      "source": [
        "## reconstruction starting with observations"
      ],
      "metadata": {
        "id": "4NBbOL6iLC73"
      }
    },
    {
      "cell_type": "code",
      "source": [
        "for i in range(nbr_reconstruction_examples):\n",
        "    test_data_ = dataset[i]  \n",
        "\n",
        "    model = test_data_['A'].to(torch.device('cuda' if torch.cuda.is_available() else 'cpu'))   \n",
        "    gan = model_fw(model)\n",
        "    rec = model_bw(gan)\n",
        "\n",
        "    data_model = inv_transform(model.squeeze().cpu())*3600*24\n",
        "    data_gan = inv_transform(gan.squeeze().cpu())*3600*24\n",
        "    data_rec = inv_transform(rec.squeeze().cpu())*3600*24\n",
        "\n",
        "    fig, ax = plt.subplots(1, 3, figsize=(20, 5))\n",
        "\n",
        "    cs = ax[0].pcolormesh(data_model.squeeze().cpu(), cmap=\"Blues\")\n",
        "    fig.colorbar(cs, ax=ax[0], extend='max')\n",
        "    ax[0].set_title(\"climate model data\")\n",
        "\n",
        "    cs = ax[1].pcolormesh(data_gan.squeeze().cpu(), cmap=\"Blues\")\n",
        "    fig.colorbar(cs, ax=ax[1], extend='max')\n",
        "    ax[1].set_title(\"generated observation (gan)\")\n",
        "\n",
        "    cs = ax[2].pcolormesh(data_rec.squeeze().cpu(), cmap=\"Blues\")\n",
        "    fig.colorbar(cs, ax=ax[2], extend='max')\n",
        "    ax[2].set_title(\"reconstruction of climate model data\")\n",
        "\n",
        "    plt.show()"
      ],
      "metadata": {
        "colab": {
          "base_uri": "https://localhost:8080/",
          "height": 336
        },
        "id": "JJP2BpKVLIR5",
        "outputId": "d2d15033-6cb7-45c7-8e48-48206fd7d02c"
      },
      "execution_count": 25,
      "outputs": [
        {
          "output_type": "display_data",
          "data": {
            "text/plain": [
              "<Figure size 1440x360 with 6 Axes>"
            ],
            "image/png": "[encoded data removed]"
          },
          "metadata": {
            "needs_background": "light"
          }
        }
      ]
    },
    {
      "cell_type": "markdown",
      "source": [
        "# Plot  **frames**"
      ],
      "metadata": {
        "id": "rOMdYqIrEBEE"
      }
    },
    {
      "cell_type": "markdown",
      "source": [
        "## Plot single frames"
      ],
      "metadata": {
        "id": "aAh6JIg0nCC8"
      }
    },
    {
      "cell_type": "markdown",
      "source": [
        "set the chose_day parameter to plot the precipitation on a specific day"
      ],
      "metadata": {
        "id": "o7NrV7zfnELz"
      }
    },
    {
      "cell_type": "code",
      "source": [
        "chose_day=10\n",
        "\n",
        "PlotAnalysis(test_data).single_frames(time_index=chose_day)\n",
        "PlotAnalysis(test_data).single_frames(projection=\"cyl\",time_index=chose_day)"
      ],
      "metadata": {
        "id": "UdNmJG-jHyGp",
        "colab": {
          "base_uri": "https://localhost:8080/",
          "height": 511
        },
        "outputId": "13ed0315-6f51-417c-9363-63501bbe9030"
      },
      "execution_count": 26,
      "outputs": [
        {
          "output_type": "stream",
          "name": "stdout",
          "text": [
            "2004-01-11T00:00:00.000000000\n",
            "2004-01-11T00:00:00.000000000\n"
          ]
        },
        {
          "output_type": "display_data",
          "data": {
            "text/plain": [
              "<Figure size 864x504 with 4 Axes>"
            ],
            "image/png": "[encoded data removed]"
          },
          "metadata": {
            "needs_background": "light"
          }
        },
        {
          "output_type": "display_data",
          "data": {
            "text/plain": [
              "<Figure size 864x504 with 4 Axes>"
            ],
            "image/png": "[encoded data removed]"
          },
          "metadata": {
            "needs_background": "light"
          }
        }
      ]
    },
    {
      "cell_type": "markdown",
      "source": [
        "## plot of the average test_data for each data"
      ],
      "metadata": {
        "id": "rInMTAV9t7jZ"
      }
    },
    {
      "cell_type": "code",
      "source": [
        "PlotAnalysis(test_data).avg_frames(projection=\"cyl\",scale_precip_by = 10)"
      ],
      "metadata": {
        "id": "04wEV8jGnfkx",
        "outputId": "54af33a8-f796-41d2-80bf-24c6ec537ee4",
        "colab": {
          "base_uri": "https://localhost:8080/",
          "height": 264
        }
      },
      "execution_count": 27,
      "outputs": [
        {
          "output_type": "stream",
          "name": "stdout",
          "text": [
            "carefull: precipitation in the plot is scaled by a factor of 10\n"
          ]
        },
        {
          "output_type": "display_data",
          "data": {
            "text/plain": [
              "<Figure size 864x504 with 4 Axes>"
            ],
            "image/png": "[encoded data removed]"
          },
          "metadata": {
            "needs_background": "light"
          }
        }
      ]
    },
    {
      "cell_type": "markdown",
      "source": [
        "## plot of the average **errors** between era5 & gan / climate_model"
      ],
      "metadata": {
        "id": "dZrUokXJuHxm"
      }
    },
    {
      "cell_type": "code",
      "source": [
        "PlotAnalysis(test_data).avg_frames_abs_err(projection=\"cyl\", scale_precip_by = 20)"
      ],
      "metadata": {
        "id": "xLvmxOQVgsqN",
        "outputId": "369b23a7-9f0d-4e29-b6fe-35efa833e3e0",
        "colab": {
          "base_uri": "https://localhost:8080/",
          "height": 371
        }
      },
      "execution_count": 28,
      "outputs": [
        {
          "output_type": "stream",
          "name": "stdout",
          "text": [
            "abs error era5_data- gan: 177811.9\n",
            "abs error era5_data- climate_model: 517.65\n",
            "carefull: precipitation in the plot is scaled by a factor of 20\n"
          ]
        },
        {
          "output_type": "display_data",
          "data": {
            "text/plain": [
              "<Figure size 864x504 with 3 Axes>"
            ],
            "image/png": "[encoded data removed]"
          },
          "metadata": {
            "needs_background": "light"
          }
        }
      ]
    },
    {
      "cell_type": "markdown",
      "source": [
        "**TODO**: plot spatial plot - mean Error - also show lands"
      ],
      "metadata": {
        "id": "M5e8_eN2Ggk7"
      }
    },
    {
      "cell_type": "markdown",
      "source": [
        "# Plot **histogram** statistics\n",
        "Precipitation rates averaged over time and longitudes and relative frequency histograms"
      ],
      "metadata": {
        "id": "lXihevAlFamY"
      }
    },
    {
      "cell_type": "markdown",
      "source": [
        "## histogram no log"
      ],
      "metadata": {
        "id": "O9B4JKnll_iR"
      }
    },
    {
      "cell_type": "markdown",
      "source": [
        "Here we plot the histogram over the daily precipitation values in the test dataset. "
      ],
      "metadata": {
        "id": "EfvPYKo3QKg5"
      }
    },
    {
      "cell_type": "code",
      "source": [
        "fig, ax = plt.subplots(1,1,figsize=(4, 4),  constrained_layout=True)\n",
        "\n",
        "PlotAnalysis(test_data).histograms(single_plot=False, ax=ax, show_legend=True, annotate=True,log=False,xlim_end=30)"
      ],
      "metadata": {
        "id": "gNlHXpskQVoF",
        "outputId": "77310d94-e04d-4f03-aa7a-9f2184d9c724",
        "colab": {
          "base_uri": "https://localhost:8080/",
          "height": 0
        }
      },
      "execution_count": 29,
      "outputs": [
        {
          "output_type": "stream",
          "name": "stdout",
          "text": [
            " Absolute Difference era5&climate_model (in test period): -9308\n",
            "\n",
            " Absolute Difference in percent era5&climate_model 0.00032\n",
            "\n",
            "Area under the Histogram era5&climate_model 117405172\n",
            "_______________________________________________________________\n",
            "\n",
            " Absolute Difference era5&gan (in test period): -714250752\n",
            "\n",
            " Absolute Difference in percent era5&gan 24.68526\n",
            "\n",
            "Area under the Histogram era5&gan 153766075\n"
          ]
        },
        {
          "output_type": "display_data",
          "data": {
            "text/plain": [
              "<Figure size 288x288 with 1 Axes>"
            ],
            "image/png": "[encoded data removed]"
          },
          "metadata": {
            "needs_background": "light"
          }
        }
      ]
    },
    {
      "cell_type": "markdown",
      "source": [
        "## histogram log on **density**"
      ],
      "metadata": {
        "id": "Et2xtAYKmCfn"
      }
    },
    {
      "cell_type": "markdown",
      "source": [
        "Because it is hard to see anything because precipitations over 50 are very rare and thus the 3 plots are right above eachother, we apply the log to the probability desnity to better see the differences."
      ],
      "metadata": {
        "id": "QYgwpz8CQYYT"
      }
    },
    {
      "cell_type": "code",
      "source": [
        "fig, ax = plt.subplots(1,1,figsize=(6, 6),  constrained_layout=True)\n",
        "\n",
        "PlotAnalysis(test_data).histograms(single_plot=False, ax=ax, show_legend=True, annotate=True,log=True)"
      ],
      "metadata": {
        "id": "fmVwmg1G3-Fb",
        "outputId": "7b4ba59c-1802-465d-e969-03f0c4b5b0b1",
        "colab": {
          "base_uri": "https://localhost:8080/",
          "height": 0
        }
      },
      "execution_count": 30,
      "outputs": [
        {
          "output_type": "stream",
          "name": "stdout",
          "text": [
            " Absolute Difference era5&climate_model (in test period): -9308\n",
            "\n",
            " Absolute Difference in percent era5&climate_model 0.00032\n",
            "\n",
            "Area under the Histogram era5&climate_model 117405172\n",
            "_______________________________________________________________\n",
            "\n",
            " Absolute Difference era5&gan (in test period): -714250752\n",
            "\n",
            " Absolute Difference in percent era5&gan 24.68526\n",
            "\n",
            "Area under the Histogram era5&gan 153766075\n"
          ]
        },
        {
          "output_type": "display_data",
          "data": {
            "text/plain": [
              "<Figure size 432x432 with 1 Axes>"
            ],
            "image/png": "[encoded data removed]"
          },
          "metadata": {
            "needs_background": "light"
          }
        }
      ]
    },
    {
      "cell_type": "markdown",
      "source": [
        "## plot histogram log density **differences**"
      ],
      "metadata": {
        "id": "b5VbVeqyF92W"
      }
    },
    {
      "cell_type": "markdown",
      "source": [
        "days in the test_data set"
      ],
      "metadata": {
        "id": "PyzvlWO2Lsaa"
      }
    },
    {
      "cell_type": "code",
      "source": [
        "len(getattr(test_data,\"gan\").time)"
      ],
      "metadata": {
        "id": "VQ4w2of3LT6c",
        "outputId": "b1f2ff2a-1fee-4b77-e7fd-7e455f3e4e88",
        "colab": {
          "base_uri": "https://localhost:8080/"
        }
      },
      "execution_count": 31,
      "outputs": [
        {
          "output_type": "execute_result",
          "data": {
            "text/plain": [
              "4018"
            ]
          },
          "metadata": {},
          "execution_count": 31
        }
      ]
    },
    {
      "cell_type": "code",
      "source": [
        "fig, ax = plt.subplots(1,1,figsize=(6, 6),  constrained_layout=True)\n",
        "\n",
        "PlotAnalysis(test_data).histogram_diff(single_plot=False, ax=ax, show_legend=True, annotate=True)"
      ],
      "metadata": {
        "id": "m60e1vv6F-B5",
        "outputId": "420b17fb-ca62-4b0a-9f67-b1fd0becd290",
        "colab": {
          "base_uri": "https://localhost:8080/",
          "height": 0
        }
      },
      "execution_count": 32,
      "outputs": [
        {
          "output_type": "stream",
          "name": "stdout",
          "text": [
            "Absolute Difference era5&climate_model (in test period): -9308\n",
            "\n",
            "Absolute Difference in percent era5&climate_model 0.00032\n",
            "\n",
            "Area under the Histogram era5&climate_model 117405172\n",
            "_______________________________________________________________\n",
            "\n",
            "Absolute Difference era5&gan (in test period): -714250752\n",
            "\n",
            "Absolute Difference in percent era5&gan 24.68526\n",
            "\n",
            "Area under the Histogram era5&gan 153766075\n"
          ]
        },
        {
          "output_type": "display_data",
          "data": {
            "text/plain": [
              "<Figure size 432x432 with 1 Axes>"
            ],
            "image/png": "[encoded data removed]"
          },
          "metadata": {
            "needs_background": "light"
          }
        }
      ]
    },
    {
      "cell_type": "markdown",
      "source": [
        "## plot log **precipitation**"
      ],
      "metadata": {
        "id": "nolk4FVNloC9"
      }
    },
    {
      "cell_type": "markdown",
      "source": [
        "Applying the **log** to the data itself instead of to the amount of points in the bins as in the plot before results in the density to be on one scale:"
      ],
      "metadata": {
        "id": "zUlODjL9PuRr"
      }
    },
    {
      "cell_type": "code",
      "source": [
        "fig, ax = plt.subplots(1,1,figsize=(6, 6),  constrained_layout=True)\n",
        "PlotAnalysis(test_data).log_histograms(single_plot=False, ax=ax, show_legend=True, annotate=True)"
      ],
      "metadata": {
        "id": "wX7CMfFUE-JV",
        "outputId": "a295c616-ef8c-4cac-cdcd-79aaf3d4f585",
        "colab": {
          "base_uri": "https://localhost:8080/",
          "height": 0
        }
      },
      "execution_count": 33,
      "outputs": [
        {
          "output_type": "stream",
          "name": "stdout",
          "text": [
            "Absolute Difference era5&climate_model (in test period): 6494240\n",
            "\n",
            "Absolute Difference in percent era5&climate_model 0.014\n",
            "\n",
            "Area under the Histogram era5&climate_model 8263570\n",
            "_______________________________________________________________\n",
            "\n",
            "Absolute Difference era5&gan (in test period): -9159904\n",
            "\n",
            "Absolute Difference in percent era5&gan 0.019\n",
            "\n",
            "Area under the Histogram era5&gan 8340337\n"
          ]
        },
        {
          "output_type": "display_data",
          "data": {
            "text/plain": [
              "<Figure size 432x432 with 1 Axes>"
            ],
            "image/png": "[encoded data removed]"
          },
          "metadata": {
            "needs_background": "light"
          }
        }
      ]
    },
    {
      "cell_type": "markdown",
      "source": [
        "## plot histogram log precipitation differences"
      ],
      "metadata": {
        "id": "jbqJBrV8O3un"
      }
    },
    {
      "cell_type": "code",
      "source": [
        "PlotAnalysis(test_data).log_histogram_diff(single_plot=False, ax=ax, show_legend=True, annotate=True)"
      ],
      "metadata": {
        "id": "qp7f8K0nO-a1",
        "outputId": "8f327524-a26b-4561-d09e-f7999282cfbd",
        "colab": {
          "base_uri": "https://localhost:8080/",
          "height": 0
        }
      },
      "execution_count": 34,
      "outputs": [
        {
          "output_type": "stream",
          "name": "stdout",
          "text": [
            "Absolute Difference era5&climate_model (in test period): 6494240\n",
            "\n",
            "Absolute Difference in percent era5&climate_model 0.01401\n",
            "\n",
            "Area under the Histogram era5&climate_model 8263581\n",
            "_______________________________________________________________\n",
            "\n",
            "Absolute Difference era5&gan (in test period): -9159904\n",
            "\n",
            "Absolute Difference in percent era5&gan 0.01976\n",
            "\n",
            "Area under the Histogram era5&gan 8340333\n"
          ]
        },
        {
          "output_type": "display_data",
          "data": {
            "text/plain": [
              "<Figure size 576x288 with 1 Axes>"
            ],
            "image/png": "[encoded data removed]"
          },
          "metadata": {
            "needs_background": "light"
          }
        }
      ]
    },
    {
      "cell_type": "markdown",
      "source": [
        "# Plot **latitudinal** **mean**"
      ],
      "metadata": {
        "id": "tJEOwVMmFkZp"
      }
    },
    {
      "cell_type": "code",
      "source": [
        "PlotAnalysis(test_data).latitudinal_mean()"
      ],
      "metadata": {
        "id": "DkWfYREj2shn",
        "outputId": "bca7351d-d546-47f8-f0ff-b8df7e17f70e",
        "colab": {
          "base_uri": "https://localhost:8080/",
          "height": 318
        }
      },
      "execution_count": 35,
      "outputs": [
        {
          "output_type": "stream",
          "name": "stdout",
          "text": [
            "Climate model  \t \t MAE: 0.073 [mm/d]\n",
            "GAN (unconstrained)  \t \t MAE: 25.115 [mm/d]\n"
          ]
        },
        {
          "output_type": "display_data",
          "data": {
            "text/plain": [
              "<Figure size 576x288 with 1 Axes>"
            ],
            "image/png": "[encoded data removed]"
          },
          "metadata": {
            "needs_background": "light"
          }
        }
      ]
    },
    {
      "cell_type": "markdown",
      "source": [
        "#try loading finished gan world"
      ],
      "metadata": {
        "id": "z4WBVpYz12aZ"
      }
    },
    {
      "cell_type": "markdown",
      "source": [
        "## new cyclegan model code"
      ],
      "metadata": {
        "id": "2VU5Nw1XryeD"
      }
    },
    {
      "cell_type": "markdown",
      "source": [
        "## load new model: "
      ],
      "metadata": {
        "id": "yxdRevxDrseD"
      }
    },
    {
      "cell_type": "code",
      "source": [
        "#state_dict = torch.load(\"/content/gdrive/MyDrive/bias_gan/results/pretrained_gan_world/last.ckpt\",map_location=torch.device('cpu'))\n",
        "#CycleGAN(num_resnet_layer = 7).load_state_dict(state_dict, strict=False)"
      ],
      "metadata": {
        "id": "0X9prBKKNM_P"
      },
      "execution_count": 36,
      "outputs": []
    },
    {
      "cell_type": "markdown",
      "source": [
        "# Further Evaluation methods"
      ],
      "metadata": {
        "id": "QLulOmkGm68S"
      }
    },
    {
      "cell_type": "code",
      "source": [
        "#from Bias_GAN.code.src.plots import plot_gan_ensemble\n",
        "#plot_gan_ensemble()"
      ],
      "metadata": {
        "id": "jTQ9Eqy2wJzN"
      },
      "execution_count": 37,
      "outputs": []
    },
    {
      "cell_type": "markdown",
      "source": [
        "# SSIM comparison"
      ],
      "metadata": {
        "id": "y8PqETITpXRo"
      }
    },
    {
      "cell_type": "code",
      "source": [
        "from skimage.metrics import structural_similarity as ssim\n",
        "\n",
        "# Open the .nc file\n",
        "data_gan = xr.open_dataset(f'/content/gdrive/MyDrive/bias_gan/results/{version_}/gan.nc').gan_precipitation\n",
        "data_era5 = xr.open_dataset(f\"/content/gdrive/MyDrive/bias_gan/data_gan/pr_W5E5v2.0_regionbox_era5_1979-2014.nc\").era5_precipitation #*3600*24 \n",
        "data_model = xr.open_dataset(f\"/content/gdrive/MyDrive/bias_gan/data_gan/pr_gfdl-esm4_historical_regionbox_1979-2014.nc\").precipitation #*3600*24 \n",
        "\n",
        "# Extract the data you want to calculate SSIM for\n",
        "gan_values = data_gan.values\n",
        "era5_values = data_era5.values\n",
        "model_values = data_model.values"
      ],
      "metadata": {
        "id": "YlKppGu7pY4p"
      },
      "execution_count": 38,
      "outputs": []
    },
    {
      "cell_type": "markdown",
      "source": [
        "calculate the SSIM for the gan only for 4018 entries bc thats the size of the test dataset"
      ],
      "metadata": {
        "id": "4owxn8PdRjQW"
      }
    },
    {
      "cell_type": "markdown",
      "source": [
        "SSIM for the climate model"
      ],
      "metadata": {
        "id": "fS2t5DtwR1xg"
      }
    },
    {
      "cell_type": "code",
      "source": [
        "# Calculate SSIM\n",
        "model_score, model_diff = ssim(era5_values[-4018:,:,:], model_values[-4018:,:,:], full=True)\n",
        "print(\"model score:\", model_score)"
      ],
      "metadata": {
        "id": "TXUNamb4RzRU",
        "outputId": "9d53e114-68ad-4a51-da4e-69c2c6f93d5d",
        "colab": {
          "base_uri": "https://localhost:8080/"
        }
      },
      "execution_count": 39,
      "outputs": [
        {
          "output_type": "stream",
          "name": "stdout",
          "text": [
            "model score: 0.9999982506295133\n"
          ]
        }
      ]
    },
    {
      "cell_type": "markdown",
      "source": [
        "SSIM for the GAN"
      ],
      "metadata": {
        "id": "dSVlMhL0SFhQ"
      }
    },
    {
      "cell_type": "code",
      "source": [
        "gan_score, gan_diff = ssim(era5_values[-4018:,:,:], gan_values, full=True)\n",
        "print(\"gan score:\", gan_score)"
      ],
      "metadata": {
        "id": "uTP5aLojNnkB",
        "outputId": "007a4254-dd94-433c-94e5-00b6c785bbe1",
        "colab": {
          "base_uri": "https://localhost:8080/"
        }
      },
      "execution_count": 40,
      "outputs": [
        {
          "output_type": "stream",
          "name": "stdout",
          "text": [
            "gan score: 0.9987442831727326\n"
          ]
        }
      ]
    },
    {
      "cell_type": "code",
      "source": [
        "gan_values.shape,era5_values.shape,model_values.shape"
      ],
      "metadata": {
        "id": "jneyCa-iQ6HH",
        "outputId": "47307b57-d014-433b-f5db-f174121a9528",
        "colab": {
          "base_uri": "https://localhost:8080/"
        }
      },
      "execution_count": 41,
      "outputs": [
        {
          "output_type": "execute_result",
          "data": {
            "text/plain": [
              "((4018, 60, 118), (13149, 60, 118), (13149, 60, 118))"
            ]
          },
          "metadata": {},
          "execution_count": 41
        }
      ]
    },
    {
      "cell_type": "markdown",
      "source": [
        "# Compare metrics"
      ],
      "metadata": {
        "id": "uzy2NsxwlnK1"
      }
    },
    {
      "cell_type": "code",
      "source": [
        "\"\"\"\n",
        "instances = [\"2023_01_11_13h_04m_08s\",\"2023_01_12_05h_34m_48s\",\"2023_01_12_07h_34m_09s\",\"2023_01_13_07h_17m_53s\", \"2023_01_13_11h_06m_15s\",\"2023_01_14_08h_45m_11s\"]\n",
        "\n",
        "for i in instances: \n",
        "    evaluation_instance = i\n",
        "    checkpoint_path = f\"/content/gdrive/MyDrive/bias_gan/results/{evaluation_instance}/last.ckpt\" \n",
        "    config_path = f\"/content/gdrive/MyDrive/bias_gan/results/{evaluation_instance}/config_model.json\"\n",
        "    data = EvaluateCheckpoints(checkpoint_path=checkpoint_path, config_path=config_path, save_model=True)\n",
        "    data.run()\n",
        "    test_data = data.get_test_data()\n",
        "    print(\"\")\n",
        "    PlotAnalysis(test_data).avg_frames_abs_err(projection=\"cyl\", scale_precip_by = 10)\n",
        "    print(\"\")\n",
        "    PlotAnalysis(test_data).latitudinal_mean()\n",
        "    print(\"\")\n",
        "\"\"\""
      ],
      "metadata": {
        "id": "jX2K86s_lmdg",
        "outputId": "44143fca-64e1-41ec-a0c1-572c31f44ed0",
        "colab": {
          "base_uri": "https://localhost:8080/",
          "height": 0
        }
      },
      "execution_count": 42,
      "outputs": [
        {
          "output_type": "execute_result",
          "data": {
            "text/plain": [
              "'\\ninstances = [\"2023_01_11_13h_04m_08s\",\"2023_01_12_05h_34m_48s\",\"2023_01_12_07h_34m_09s\",\"2023_01_13_07h_17m_53s\", \"2023_01_13_11h_06m_15s\",\"2023_01_14_08h_45m_11s\"]\\n\\nfor i in instances: \\n    evaluation_instance = i\\n    checkpoint_path = f\"/content/gdrive/MyDrive/bias_gan/results/{evaluation_instance}/last.ckpt\" \\n    config_path = f\"/content/gdrive/MyDrive/bias_gan/results/{evaluation_instance}/config_model.json\"\\n    data = EvaluateCheckpoints(checkpoint_path=checkpoint_path, config_path=config_path, save_model=True)\\n    data.run()\\n    test_data = data.get_test_data()\\n    print(\"\")\\n    PlotAnalysis(test_data).avg_frames_abs_err(projection=\"cyl\", scale_precip_by = 10)\\n    print(\"\")\\n    PlotAnalysis(test_data).latitudinal_mean()\\n    print(\"\")\\n'"
            ],
            "application/vnd.google.colaboratory.intrinsic+json": {
              "type": "string"
            }
          },
          "metadata": {},
          "execution_count": 42
        }
      ]
    },
    {
      "cell_type": "markdown",
      "source": [
        "# Data"
      ],
      "metadata": {
        "id": "xMXgMOo59m8v"
      }
    },
    {
      "cell_type": "markdown",
      "source": [
        "# raw output\n",
        "# check whats available in isimip\n",
        "\n",
        "\n",
        "# do we use the right data? the already bias corrected data (also with downscaling)\n",
        "\n",
        "# downscaled climate model"
      ],
      "metadata": {
        "id": "kcl90dmF9pKJ"
      }
    },
    {
      "cell_type": "code",
      "source": [
        "# 1. remove all trends and add again at the end !!!\n",
        "# 2. "
      ],
      "metadata": {
        "id": "pm0eVqjH92Es"
      },
      "execution_count": 43,
      "outputs": []
    }
  ]
}