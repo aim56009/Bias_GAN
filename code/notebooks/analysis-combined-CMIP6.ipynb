{
 "cells": [
  {
   "cell_type": "markdown",
   "metadata": {},
   "source": [
    "# Supplementary Information - Comparison of CMIP6 models\n",
    "\n",
    "The notebook reproduces results shown in the supplentary information regarding the performance of three CMIP6 models: the GFDL-ESM4, the MPI-ESM1-2-HR and the CEMS2 models."
   ]
  },
  {
   "cell_type": "code",
   "execution_count": 1,
   "metadata": {},
   "outputs": [
    {
     "name": "stdout",
     "output_type": "stream",
     "text": [
      "/code\n"
     ]
    }
   ],
   "source": [
    "%load_ext autoreload\n",
    "%autoreload 2\n",
    "%cd /code"
   ]
  },
  {
   "cell_type": "code",
   "execution_count": 2,
   "metadata": {},
   "outputs": [],
   "source": [
    "import os \n",
    "os.environ['PROJ_LIB'] = '/opt/conda/bin/python'"
   ]
  },
  {
   "cell_type": "code",
   "execution_count": 3,
   "metadata": {},
   "outputs": [],
   "source": [
    "import xarray as xr\n",
    "#%matplotlib inline\n",
    "import matplotlib.pyplot as plt\n",
    "import numpy as np\n",
    "#from tqdm.notebook import tqdm\n",
    "import os\n",
    "from IPython.display import display, HTML\n",
    "import stat\n",
    "import time\n",
    "import pandas as pd\n",
    "\n",
    "import src.xarray_utils as xu\n",
    "from src.data import TestData, load_cmip6_model, CMIP6Data\n",
    "from src.inference import Inference, EvaluateCheckpoints\n",
    "from src.plots import PlotAnalysis\n",
    "from src.quantile_mapping import QuantileMapping\n",
    "from src.xarray_utils import write_dataset\n",
    "from src.projection_utils import ProjectionPreparation\n",
    "from src.inference import Inference, EvaluateCheckpoints, LoadData\n",
    "from src.configuration import HistoricalConfig, ProjectionConfig"
   ]
  },
  {
   "cell_type": "markdown",
   "metadata": {},
   "source": [
    "# Historical evaluation"
   ]
  },
  {
   "cell_type": "code",
   "execution_count": 4,
   "metadata": {},
   "outputs": [
    {
     "data": {
      "text/plain": [
       "HistoricalConfig(scratch_path='/results', tensorboard_path='/results/', checkpoint_path='/results/', config_path='/results/', poem_path='/data/poem_historical.nc', era5_path='/data/era5.nc', results_path='/results/', projection_path=None, train_start=1950, train_end=1951, valid_start=2001, valid_end=2004, test_start=2001, test_end=2019, model_name='poem_gan', epochs=2, progress_bar_refresh_rate=1, train_batch_size=1, test_batch_size=64, transforms=['log', 'normalize_minus1_to_plus1'], rescale=False, epsilon=0.0001, lazy=False, log_every_n_steps=10, norm_output=True, running_bias=False, run_models=False, epoch_index=50)"
      ]
     },
     "execution_count": 4,
     "metadata": {},
     "output_type": "execute_result"
    }
   ],
   "source": [
    "HistoricalConfig()"
   ]
  },
  {
   "cell_type": "code",
   "execution_count": 5,
   "metadata": {},
   "outputs": [],
   "source": [
    "gan_path = f'/data'\n",
    "\n",
    "ld = LoadData(gan_path, HistoricalConfig)\n",
    "data = ld.collect_historical_cmip_data()"
   ]
  },
  {
   "cell_type": "code",
   "execution_count": 6,
   "metadata": {},
   "outputs": [
    {
     "name": "stdout",
     "output_type": "stream",
     "text": [
      "2014-12-25T00:00:00.000000000\n",
      "/results/cmip_single_frame.pdf\n"
     ]
    }
   ],
   "source": [
    "plot = PlotAnalysis(data)\n",
    "\n",
    "fname = f'/results/cmip_single_frame.pdf' \n",
    "\n",
    "plot.single_frames_cmip(cmap='YlGnBu', time_index=-7, mask=True)\n",
    "plt.rcParams.update({'font.size': 12})\n",
    "plt.savefig(fname, format='pdf', bbox_inches='tight')\n",
    "plt.show()\n",
    "print(fname)"
   ]
  },
  {
   "cell_type": "markdown",
   "metadata": {},
   "source": [
    "## Plot"
   ]
  },
  {
   "cell_type": "code",
   "execution_count": 7,
   "metadata": {},
   "outputs": [
    {
     "name": "stdout",
     "output_type": "stream",
     "text": [
      "CM2Mc-LPJmL  \t \t MAE: 0.769 [mm/d]\n",
      "GFDL-ESM4  \t \t MAE: 0.440 [mm/d]\n",
      "MPI-ESM1-2-HR  \t \t MAE: 0.499 [mm/d]\n",
      "CESM2  \t \t MAE: 0.392 [mm/d]\n",
      "/results/cmip_bias_annual.pdf\n"
     ]
    }
   ],
   "source": [
    "plot = PlotAnalysis(data)\n",
    "fname = f'/results/cmip_bias_annual.pdf' \n",
    "\n",
    "plot.bias_cmip(season=None)\n",
    "plt.tight_layout()\n",
    "plt.savefig(fname, format='pdf', bbox_inches='tight')\n",
    "plt.show()\n",
    "print(fname)"
   ]
  },
  {
   "cell_type": "markdown",
   "metadata": {},
   "source": [
    "# Projections and non-stationarity"
   ]
  },
  {
   "cell_type": "markdown",
   "metadata": {},
   "source": [
    "### Compute"
   ]
  },
  {
   "cell_type": "code",
   "execution_count": 8,
   "metadata": {},
   "outputs": [],
   "source": [
    "gan_path = f'/data'\n",
    "\n",
    "ld = LoadData(gan_path, ProjectionConfig)\n",
    "projection_global = ld.collect_projection_cmip_data()\n",
    "\n",
    "ld = LoadData(gan_path, ProjectionConfig)\n",
    "projection_tropics = ld.collect_projection_cmip_data(latitude_bounds=(-23,23))\n",
    "\n",
    "ld = LoadData(gan_path, ProjectionConfig)\n",
    "projection_temperate = ld.collect_projection_cmip_data(latitude_bounds=[-60,-40,40,60])"
   ]
  },
  {
   "cell_type": "markdown",
   "metadata": {},
   "source": [
    "### Plot"
   ]
  },
  {
   "cell_type": "code",
   "execution_count": 9,
   "metadata": {},
   "outputs": [],
   "source": [
    "from src.plots import plot_single_projection_cmip, plot_projection_cmip\n"
   ]
  },
  {
   "cell_type": "code",
   "execution_count": 10,
   "metadata": {},
   "outputs": [
    {
     "name": "stdout",
     "output_type": "stream",
     "text": [
      "/results/cmip_non_stationarity_ssp585.pdf\n"
     ]
    }
   ],
   "source": [
    "fname = f'/results/cmip_non_stationarity_ssp585.pdf' \n",
    "\n",
    "plot_projection_cmip(fname, projection_global, projection_tropics, projection_temperate)"
   ]
  },
  {
   "cell_type": "code",
   "execution_count": null,
   "metadata": {},
   "outputs": [],
   "source": []
  }
 ],
 "metadata": {
  "kernelspec": {
   "display_name": "Python 3 (ipykernel)",
   "language": "python",
   "name": "python3"
  },
  "language_info": {
   "codemirror_mode": {
    "name": "ipython",
    "version": 3
   },
   "file_extension": ".py",
   "mimetype": "text/x-python",
   "name": "python",
   "nbconvert_exporter": "python",
   "pygments_lexer": "ipython3",
   "version": "3.7.4"
  }
 },
 "nbformat": 4,
 "nbformat_minor": 4
}
