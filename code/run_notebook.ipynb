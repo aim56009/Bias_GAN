{
  "nbformat": 4,
  "nbformat_minor": 0,
  "metadata": {
    "colab": {
      "provenance": [],
      "collapsed_sections": [
        "BDZR-hows48Z",
        "We_xzajk-9xY",
        "bgA1wp1y-yxZ",
        "ecz59xDYFx7c"
      ],
      "include_colab_link": true
    },
    "kernelspec": {
      "name": "python3",
      "display_name": "Python 3"
    },
    "language_info": {
      "name": "python"
    },
    "gpuClass": "standard",
    "accelerator": "GPU",
    "widgets": {
      "application/vnd.jupyter.widget-state+json": {
        "c9458d5fac1e4296877b0f84276ce96d": {
          "model_module": "@jupyter-widgets/controls",
          "model_name": "HBoxModel",
          "model_module_version": "1.5.0",
          "state": {
            "_dom_classes": [],
            "_model_module": "@jupyter-widgets/controls",
            "_model_module_version": "1.5.0",
            "_model_name": "HBoxModel",
            "_view_count": null,
            "_view_module": "@jupyter-widgets/controls",
            "_view_module_version": "1.5.0",
            "_view_name": "HBoxView",
            "box_style": "",
            "children": [
              "IPY_MODEL_c55d3f91d7ec4db3aa723d12c6b77aff",
              "IPY_MODEL_32d4eedde71d40f69d9b6af95e3c4543",
              "IPY_MODEL_e4a835714b3d4e4e8eecf4f570fc0c56"
            ],
            "layout": "IPY_MODEL_33621d45981f40eda42e90c570b8ab6a"
          }
        },
        "c55d3f91d7ec4db3aa723d12c6b77aff": {
          "model_module": "@jupyter-widgets/controls",
          "model_name": "HTMLModel",
          "model_module_version": "1.5.0",
          "state": {
            "_dom_classes": [],
            "_model_module": "@jupyter-widgets/controls",
            "_model_module_version": "1.5.0",
            "_model_name": "HTMLModel",
            "_view_count": null,
            "_view_module": "@jupyter-widgets/controls",
            "_view_module_version": "1.5.0",
            "_view_name": "HTMLView",
            "description": "",
            "description_tooltip": null,
            "layout": "IPY_MODEL_38806527540041ce9448a09c7f86fa1a",
            "placeholder": "​",
            "style": "IPY_MODEL_e2bcf1308fcb4c05abef58b71327a4d2",
            "value": "Sanity Checking DataLoader 0: 100%"
          }
        },
        "32d4eedde71d40f69d9b6af95e3c4543": {
          "model_module": "@jupyter-widgets/controls",
          "model_name": "FloatProgressModel",
          "model_module_version": "1.5.0",
          "state": {
            "_dom_classes": [],
            "_model_module": "@jupyter-widgets/controls",
            "_model_module_version": "1.5.0",
            "_model_name": "FloatProgressModel",
            "_view_count": null,
            "_view_module": "@jupyter-widgets/controls",
            "_view_module_version": "1.5.0",
            "_view_name": "ProgressView",
            "bar_style": "",
            "description": "",
            "description_tooltip": null,
            "layout": "IPY_MODEL_dabf245749cf4750a52618250d59c2b8",
            "max": 1,
            "min": 0,
            "orientation": "horizontal",
            "style": "IPY_MODEL_6e788b6ec6d04e6fb75ab7446993fa93",
            "value": 1
          }
        },
        "e4a835714b3d4e4e8eecf4f570fc0c56": {
          "model_module": "@jupyter-widgets/controls",
          "model_name": "HTMLModel",
          "model_module_version": "1.5.0",
          "state": {
            "_dom_classes": [],
            "_model_module": "@jupyter-widgets/controls",
            "_model_module_version": "1.5.0",
            "_model_name": "HTMLModel",
            "_view_count": null,
            "_view_module": "@jupyter-widgets/controls",
            "_view_module_version": "1.5.0",
            "_view_name": "HTMLView",
            "description": "",
            "description_tooltip": null,
            "layout": "IPY_MODEL_58440689522847a2a25c5aa4bd8f7cb6",
            "placeholder": "​",
            "style": "IPY_MODEL_6a50f5e8153740d099aff540db6081f4",
            "value": " 1/1 [00:07&lt;00:00,  7.13s/it]"
          }
        },
        "33621d45981f40eda42e90c570b8ab6a": {
          "model_module": "@jupyter-widgets/base",
          "model_name": "LayoutModel",
          "model_module_version": "1.2.0",
          "state": {
            "_model_module": "@jupyter-widgets/base",
            "_model_module_version": "1.2.0",
            "_model_name": "LayoutModel",
            "_view_count": null,
            "_view_module": "@jupyter-widgets/base",
            "_view_module_version": "1.2.0",
            "_view_name": "LayoutView",
            "align_content": null,
            "align_items": null,
            "align_self": null,
            "border": null,
            "bottom": null,
            "display": "inline-flex",
            "flex": null,
            "flex_flow": "row wrap",
            "grid_area": null,
            "grid_auto_columns": null,
            "grid_auto_flow": null,
            "grid_auto_rows": null,
            "grid_column": null,
            "grid_gap": null,
            "grid_row": null,
            "grid_template_areas": null,
            "grid_template_columns": null,
            "grid_template_rows": null,
            "height": null,
            "justify_content": null,
            "justify_items": null,
            "left": null,
            "margin": null,
            "max_height": null,
            "max_width": null,
            "min_height": null,
            "min_width": null,
            "object_fit": null,
            "object_position": null,
            "order": null,
            "overflow": null,
            "overflow_x": null,
            "overflow_y": null,
            "padding": null,
            "right": null,
            "top": null,
            "visibility": "hidden",
            "width": "100%"
          }
        },
        "38806527540041ce9448a09c7f86fa1a": {
          "model_module": "@jupyter-widgets/base",
          "model_name": "LayoutModel",
          "model_module_version": "1.2.0",
          "state": {
            "_model_module": "@jupyter-widgets/base",
            "_model_module_version": "1.2.0",
            "_model_name": "LayoutModel",
            "_view_count": null,
            "_view_module": "@jupyter-widgets/base",
            "_view_module_version": "1.2.0",
            "_view_name": "LayoutView",
            "align_content": null,
            "align_items": null,
            "align_self": null,
            "border": null,
            "bottom": null,
            "display": null,
            "flex": null,
            "flex_flow": null,
            "grid_area": null,
            "grid_auto_columns": null,
            "grid_auto_flow": null,
            "grid_auto_rows": null,
            "grid_column": null,
            "grid_gap": null,
            "grid_row": null,
            "grid_template_areas": null,
            "grid_template_columns": null,
            "grid_template_rows": null,
            "height": null,
            "justify_content": null,
            "justify_items": null,
            "left": null,
            "margin": null,
            "max_height": null,
            "max_width": null,
            "min_height": null,
            "min_width": null,
            "object_fit": null,
            "object_position": null,
            "order": null,
            "overflow": null,
            "overflow_x": null,
            "overflow_y": null,
            "padding": null,
            "right": null,
            "top": null,
            "visibility": null,
            "width": null
          }
        },
        "e2bcf1308fcb4c05abef58b71327a4d2": {
          "model_module": "@jupyter-widgets/controls",
          "model_name": "DescriptionStyleModel",
          "model_module_version": "1.5.0",
          "state": {
            "_model_module": "@jupyter-widgets/controls",
            "_model_module_version": "1.5.0",
            "_model_name": "DescriptionStyleModel",
            "_view_count": null,
            "_view_module": "@jupyter-widgets/base",
            "_view_module_version": "1.2.0",
            "_view_name": "StyleView",
            "description_width": ""
          }
        },
        "dabf245749cf4750a52618250d59c2b8": {
          "model_module": "@jupyter-widgets/base",
          "model_name": "LayoutModel",
          "model_module_version": "1.2.0",
          "state": {
            "_model_module": "@jupyter-widgets/base",
            "_model_module_version": "1.2.0",
            "_model_name": "LayoutModel",
            "_view_count": null,
            "_view_module": "@jupyter-widgets/base",
            "_view_module_version": "1.2.0",
            "_view_name": "LayoutView",
            "align_content": null,
            "align_items": null,
            "align_self": null,
            "border": null,
            "bottom": null,
            "display": null,
            "flex": "2",
            "flex_flow": null,
            "grid_area": null,
            "grid_auto_columns": null,
            "grid_auto_flow": null,
            "grid_auto_rows": null,
            "grid_column": null,
            "grid_gap": null,
            "grid_row": null,
            "grid_template_areas": null,
            "grid_template_columns": null,
            "grid_template_rows": null,
            "height": null,
            "justify_content": null,
            "justify_items": null,
            "left": null,
            "margin": null,
            "max_height": null,
            "max_width": null,
            "min_height": null,
            "min_width": null,
            "object_fit": null,
            "object_position": null,
            "order": null,
            "overflow": null,
            "overflow_x": null,
            "overflow_y": null,
            "padding": null,
            "right": null,
            "top": null,
            "visibility": null,
            "width": null
          }
        },
        "6e788b6ec6d04e6fb75ab7446993fa93": {
          "model_module": "@jupyter-widgets/controls",
          "model_name": "ProgressStyleModel",
          "model_module_version": "1.5.0",
          "state": {
            "_model_module": "@jupyter-widgets/controls",
            "_model_module_version": "1.5.0",
            "_model_name": "ProgressStyleModel",
            "_view_count": null,
            "_view_module": "@jupyter-widgets/base",
            "_view_module_version": "1.2.0",
            "_view_name": "StyleView",
            "bar_color": null,
            "description_width": ""
          }
        },
        "58440689522847a2a25c5aa4bd8f7cb6": {
          "model_module": "@jupyter-widgets/base",
          "model_name": "LayoutModel",
          "model_module_version": "1.2.0",
          "state": {
            "_model_module": "@jupyter-widgets/base",
            "_model_module_version": "1.2.0",
            "_model_name": "LayoutModel",
            "_view_count": null,
            "_view_module": "@jupyter-widgets/base",
            "_view_module_version": "1.2.0",
            "_view_name": "LayoutView",
            "align_content": null,
            "align_items": null,
            "align_self": null,
            "border": null,
            "bottom": null,
            "display": null,
            "flex": null,
            "flex_flow": null,
            "grid_area": null,
            "grid_auto_columns": null,
            "grid_auto_flow": null,
            "grid_auto_rows": null,
            "grid_column": null,
            "grid_gap": null,
            "grid_row": null,
            "grid_template_areas": null,
            "grid_template_columns": null,
            "grid_template_rows": null,
            "height": null,
            "justify_content": null,
            "justify_items": null,
            "left": null,
            "margin": null,
            "max_height": null,
            "max_width": null,
            "min_height": null,
            "min_width": null,
            "object_fit": null,
            "object_position": null,
            "order": null,
            "overflow": null,
            "overflow_x": null,
            "overflow_y": null,
            "padding": null,
            "right": null,
            "top": null,
            "visibility": null,
            "width": null
          }
        },
        "6a50f5e8153740d099aff540db6081f4": {
          "model_module": "@jupyter-widgets/controls",
          "model_name": "DescriptionStyleModel",
          "model_module_version": "1.5.0",
          "state": {
            "_model_module": "@jupyter-widgets/controls",
            "_model_module_version": "1.5.0",
            "_model_name": "DescriptionStyleModel",
            "_view_count": null,
            "_view_module": "@jupyter-widgets/base",
            "_view_module_version": "1.2.0",
            "_view_name": "StyleView",
            "description_width": ""
          }
        },
        "ada1ceb129b04144a5e1edce0b3a424c": {
          "model_module": "@jupyter-widgets/controls",
          "model_name": "HBoxModel",
          "model_module_version": "1.5.0",
          "state": {
            "_dom_classes": [],
            "_model_module": "@jupyter-widgets/controls",
            "_model_module_version": "1.5.0",
            "_model_name": "HBoxModel",
            "_view_count": null,
            "_view_module": "@jupyter-widgets/controls",
            "_view_module_version": "1.5.0",
            "_view_name": "HBoxView",
            "box_style": "",
            "children": [
              "IPY_MODEL_a33b172468354d058cd456d8bc6fb22e",
              "IPY_MODEL_21a295e7952d4e0fb8bd1c830fbefb56",
              "IPY_MODEL_935dd40dea7042f4abd2de7bdf5ab4a1"
            ],
            "layout": "IPY_MODEL_d146f2a832454ea69dd5bc443f63b991"
          }
        },
        "a33b172468354d058cd456d8bc6fb22e": {
          "model_module": "@jupyter-widgets/controls",
          "model_name": "HTMLModel",
          "model_module_version": "1.5.0",
          "state": {
            "_dom_classes": [],
            "_model_module": "@jupyter-widgets/controls",
            "_model_module_version": "1.5.0",
            "_model_name": "HTMLModel",
            "_view_count": null,
            "_view_module": "@jupyter-widgets/controls",
            "_view_module_version": "1.5.0",
            "_view_name": "HTMLView",
            "description": "",
            "description_tooltip": null,
            "layout": "IPY_MODEL_df6f1b81f9c042618acb48d767920dd7",
            "placeholder": "​",
            "style": "IPY_MODEL_e1ec5b07a8114f94b913d471404d7b02",
            "value": "Epoch 0:  54%"
          }
        },
        "21a295e7952d4e0fb8bd1c830fbefb56": {
          "model_module": "@jupyter-widgets/controls",
          "model_name": "FloatProgressModel",
          "model_module_version": "1.5.0",
          "state": {
            "_dom_classes": [],
            "_model_module": "@jupyter-widgets/controls",
            "_model_module_version": "1.5.0",
            "_model_name": "FloatProgressModel",
            "_view_count": null,
            "_view_module": "@jupyter-widgets/controls",
            "_view_module_version": "1.5.0",
            "_view_name": "ProgressView",
            "bar_style": "",
            "description": "",
            "description_tooltip": null,
            "layout": "IPY_MODEL_bb9d00573e5a44609b553f79ee271fb9",
            "max": 8042,
            "min": 0,
            "orientation": "horizontal",
            "style": "IPY_MODEL_9503ab2013dc4c0782316886c188f3bf",
            "value": 4323
          }
        },
        "935dd40dea7042f4abd2de7bdf5ab4a1": {
          "model_module": "@jupyter-widgets/controls",
          "model_name": "HTMLModel",
          "model_module_version": "1.5.0",
          "state": {
            "_dom_classes": [],
            "_model_module": "@jupyter-widgets/controls",
            "_model_module_version": "1.5.0",
            "_model_name": "HTMLModel",
            "_view_count": null,
            "_view_module": "@jupyter-widgets/controls",
            "_view_module_version": "1.5.0",
            "_view_name": "HTMLView",
            "description": "",
            "description_tooltip": null,
            "layout": "IPY_MODEL_91c2cd85dd944caaab21caab9a6b1b94",
            "placeholder": "​",
            "style": "IPY_MODEL_c23b717992c94b04b3fa64941ab54458",
            "value": " 4323/8042 [09:10&lt;07:53,  7.85it/s, loss=0.886, v_num=_09s, g_tot_train_loss_step=2.890, g_A2B_train_loss_step=1.640, g_B2A_train_loss_step=1.590, d_A_train_loss_step=0.194, d_B_train_loss_step=0.00388]"
          }
        },
        "d146f2a832454ea69dd5bc443f63b991": {
          "model_module": "@jupyter-widgets/base",
          "model_name": "LayoutModel",
          "model_module_version": "1.2.0",
          "state": {
            "_model_module": "@jupyter-widgets/base",
            "_model_module_version": "1.2.0",
            "_model_name": "LayoutModel",
            "_view_count": null,
            "_view_module": "@jupyter-widgets/base",
            "_view_module_version": "1.2.0",
            "_view_name": "LayoutView",
            "align_content": null,
            "align_items": null,
            "align_self": null,
            "border": null,
            "bottom": null,
            "display": "inline-flex",
            "flex": null,
            "flex_flow": "row wrap",
            "grid_area": null,
            "grid_auto_columns": null,
            "grid_auto_flow": null,
            "grid_auto_rows": null,
            "grid_column": null,
            "grid_gap": null,
            "grid_row": null,
            "grid_template_areas": null,
            "grid_template_columns": null,
            "grid_template_rows": null,
            "height": null,
            "justify_content": null,
            "justify_items": null,
            "left": null,
            "margin": null,
            "max_height": null,
            "max_width": null,
            "min_height": null,
            "min_width": null,
            "object_fit": null,
            "object_position": null,
            "order": null,
            "overflow": null,
            "overflow_x": null,
            "overflow_y": null,
            "padding": null,
            "right": null,
            "top": null,
            "visibility": null,
            "width": "100%"
          }
        },
        "df6f1b81f9c042618acb48d767920dd7": {
          "model_module": "@jupyter-widgets/base",
          "model_name": "LayoutModel",
          "model_module_version": "1.2.0",
          "state": {
            "_model_module": "@jupyter-widgets/base",
            "_model_module_version": "1.2.0",
            "_model_name": "LayoutModel",
            "_view_count": null,
            "_view_module": "@jupyter-widgets/base",
            "_view_module_version": "1.2.0",
            "_view_name": "LayoutView",
            "align_content": null,
            "align_items": null,
            "align_self": null,
            "border": null,
            "bottom": null,
            "display": null,
            "flex": null,
            "flex_flow": null,
            "grid_area": null,
            "grid_auto_columns": null,
            "grid_auto_flow": null,
            "grid_auto_rows": null,
            "grid_column": null,
            "grid_gap": null,
            "grid_row": null,
            "grid_template_areas": null,
            "grid_template_columns": null,
            "grid_template_rows": null,
            "height": null,
            "justify_content": null,
            "justify_items": null,
            "left": null,
            "margin": null,
            "max_height": null,
            "max_width": null,
            "min_height": null,
            "min_width": null,
            "object_fit": null,
            "object_position": null,
            "order": null,
            "overflow": null,
            "overflow_x": null,
            "overflow_y": null,
            "padding": null,
            "right": null,
            "top": null,
            "visibility": null,
            "width": null
          }
        },
        "e1ec5b07a8114f94b913d471404d7b02": {
          "model_module": "@jupyter-widgets/controls",
          "model_name": "DescriptionStyleModel",
          "model_module_version": "1.5.0",
          "state": {
            "_model_module": "@jupyter-widgets/controls",
            "_model_module_version": "1.5.0",
            "_model_name": "DescriptionStyleModel",
            "_view_count": null,
            "_view_module": "@jupyter-widgets/base",
            "_view_module_version": "1.2.0",
            "_view_name": "StyleView",
            "description_width": ""
          }
        },
        "bb9d00573e5a44609b553f79ee271fb9": {
          "model_module": "@jupyter-widgets/base",
          "model_name": "LayoutModel",
          "model_module_version": "1.2.0",
          "state": {
            "_model_module": "@jupyter-widgets/base",
            "_model_module_version": "1.2.0",
            "_model_name": "LayoutModel",
            "_view_count": null,
            "_view_module": "@jupyter-widgets/base",
            "_view_module_version": "1.2.0",
            "_view_name": "LayoutView",
            "align_content": null,
            "align_items": null,
            "align_self": null,
            "border": null,
            "bottom": null,
            "display": null,
            "flex": "2",
            "flex_flow": null,
            "grid_area": null,
            "grid_auto_columns": null,
            "grid_auto_flow": null,
            "grid_auto_rows": null,
            "grid_column": null,
            "grid_gap": null,
            "grid_row": null,
            "grid_template_areas": null,
            "grid_template_columns": null,
            "grid_template_rows": null,
            "height": null,
            "justify_content": null,
            "justify_items": null,
            "left": null,
            "margin": null,
            "max_height": null,
            "max_width": null,
            "min_height": null,
            "min_width": null,
            "object_fit": null,
            "object_position": null,
            "order": null,
            "overflow": null,
            "overflow_x": null,
            "overflow_y": null,
            "padding": null,
            "right": null,
            "top": null,
            "visibility": null,
            "width": null
          }
        },
        "9503ab2013dc4c0782316886c188f3bf": {
          "model_module": "@jupyter-widgets/controls",
          "model_name": "ProgressStyleModel",
          "model_module_version": "1.5.0",
          "state": {
            "_model_module": "@jupyter-widgets/controls",
            "_model_module_version": "1.5.0",
            "_model_name": "ProgressStyleModel",
            "_view_count": null,
            "_view_module": "@jupyter-widgets/base",
            "_view_module_version": "1.2.0",
            "_view_name": "StyleView",
            "bar_color": null,
            "description_width": ""
          }
        },
        "91c2cd85dd944caaab21caab9a6b1b94": {
          "model_module": "@jupyter-widgets/base",
          "model_name": "LayoutModel",
          "model_module_version": "1.2.0",
          "state": {
            "_model_module": "@jupyter-widgets/base",
            "_model_module_version": "1.2.0",
            "_model_name": "LayoutModel",
            "_view_count": null,
            "_view_module": "@jupyter-widgets/base",
            "_view_module_version": "1.2.0",
            "_view_name": "LayoutView",
            "align_content": null,
            "align_items": null,
            "align_self": null,
            "border": null,
            "bottom": null,
            "display": null,
            "flex": null,
            "flex_flow": null,
            "grid_area": null,
            "grid_auto_columns": null,
            "grid_auto_flow": null,
            "grid_auto_rows": null,
            "grid_column": null,
            "grid_gap": null,
            "grid_row": null,
            "grid_template_areas": null,
            "grid_template_columns": null,
            "grid_template_rows": null,
            "height": null,
            "justify_content": null,
            "justify_items": null,
            "left": null,
            "margin": null,
            "max_height": null,
            "max_width": null,
            "min_height": null,
            "min_width": null,
            "object_fit": null,
            "object_position": null,
            "order": null,
            "overflow": null,
            "overflow_x": null,
            "overflow_y": null,
            "padding": null,
            "right": null,
            "top": null,
            "visibility": null,
            "width": null
          }
        },
        "c23b717992c94b04b3fa64941ab54458": {
          "model_module": "@jupyter-widgets/controls",
          "model_name": "DescriptionStyleModel",
          "model_module_version": "1.5.0",
          "state": {
            "_model_module": "@jupyter-widgets/controls",
            "_model_module_version": "1.5.0",
            "_model_name": "DescriptionStyleModel",
            "_view_count": null,
            "_view_module": "@jupyter-widgets/base",
            "_view_module_version": "1.2.0",
            "_view_name": "StyleView",
            "description_width": ""
          }
        }
      }
    }
  },
  "cells": [
    {
      "cell_type": "markdown",
      "metadata": {
        "id": "view-in-github",
        "colab_type": "text"
      },
      "source": [
        "<a href=\"https://colab.research.google.com/github/aim56009/Bias_GAN/blob/master/code/run_notebook.ipynb\" target=\"_parent\"><img src=\"https://colab.research.google.com/assets/colab-badge.svg\" alt=\"Open In Colab\"/></a>"
      ]
    },
    {
      "cell_type": "markdown",
      "source": [
        "# Imports "
      ],
      "metadata": {
        "id": "h3yHWmlizCSY"
      }
    },
    {
      "cell_type": "code",
      "source": [
        "gpu_info = !nvidia-smi\n",
        "gpu_info = '\\n'.join(gpu_info)\n",
        "if gpu_info.find('failed') >= 0:\n",
        "  print('Not connected to a GPU')\n",
        "else:\n",
        "  print(gpu_info)"
      ],
      "metadata": {
        "id": "UtBBY2Vx4kVx",
        "outputId": "afc2e7df-2b52-4dfd-d2dc-84702bd56465",
        "colab": {
          "base_uri": "https://localhost:8080/"
        }
      },
      "execution_count": 1,
      "outputs": [
        {
          "output_type": "stream",
          "name": "stdout",
          "text": [
            "Thu Jan 12 07:33:09 2023       \n",
            "+-----------------------------------------------------------------------------+\n",
            "| NVIDIA-SMI 460.32.03    Driver Version: 460.32.03    CUDA Version: 11.2     |\n",
            "|-------------------------------+----------------------+----------------------+\n",
            "| GPU  Name        Persistence-M| Bus-Id        Disp.A | Volatile Uncorr. ECC |\n",
            "| Fan  Temp  Perf  Pwr:Usage/Cap|         Memory-Usage | GPU-Util  Compute M. |\n",
            "|                               |                      |               MIG M. |\n",
            "|===============================+======================+======================|\n",
            "|   0  Tesla T4            Off  | 00000000:00:04.0 Off |                    0 |\n",
            "| N/A   50C    P8     9W /  70W |      0MiB / 15109MiB |      0%      Default |\n",
            "|                               |                      |                  N/A |\n",
            "+-------------------------------+----------------------+----------------------+\n",
            "                                                                               \n",
            "+-----------------------------------------------------------------------------+\n",
            "| Processes:                                                                  |\n",
            "|  GPU   GI   CI        PID   Type   Process name                  GPU Memory |\n",
            "|        ID   ID                                                   Usage      |\n",
            "|=============================================================================|\n",
            "|  No running processes found                                                 |\n",
            "+-----------------------------------------------------------------------------+\n"
          ]
        }
      ]
    },
    {
      "cell_type": "code",
      "source": [
        "from google.colab import drive\n",
        "drive.mount(\"/content/gdrive\")"
      ],
      "metadata": {
        "id": "pM43-ErszEe2",
        "colab": {
          "base_uri": "https://localhost:8080/"
        },
        "outputId": "47ed0dd9-714f-424b-e9cb-0fb0fa8c051c"
      },
      "execution_count": 2,
      "outputs": [
        {
          "output_type": "stream",
          "name": "stdout",
          "text": [
            "Mounted at /content/gdrive\n"
          ]
        }
      ]
    },
    {
      "cell_type": "code",
      "source": [
        "!git clone https://github.com/aim56009/Bias_GAN.git"
      ],
      "metadata": {
        "id": "UabaOuiKzJtx",
        "outputId": "147477d8-84e7-498d-be3b-f6254d301ae0",
        "colab": {
          "base_uri": "https://localhost:8080/"
        }
      },
      "execution_count": 3,
      "outputs": [
        {
          "output_type": "stream",
          "name": "stdout",
          "text": [
            "Cloning into 'Bias_GAN'...\n",
            "remote: Enumerating objects: 401, done.\u001b[K\n",
            "remote: Counting objects: 100% (302/302), done.\u001b[K\n",
            "remote: Compressing objects: 100% (175/175), done.\u001b[K\n",
            "remote: Total 401 (delta 190), reused 195 (delta 124), pack-reused 99\u001b[K\n",
            "Receiving objects: 100% (401/401), 81.03 MiB | 26.26 MiB/s, done.\n",
            "Resolving deltas: 100% (222/222), done.\n"
          ]
        }
      ]
    },
    {
      "cell_type": "code",
      "source": [
        "%%capture\n",
        "!pip install pytorch_lightning\n",
        "!pip install basemap"
      ],
      "metadata": {
        "id": "yg_fJ3Fi0rzt"
      },
      "execution_count": 4,
      "outputs": []
    },
    {
      "cell_type": "code",
      "source": [
        "!pip install importlib-metadata==4.0.1\n",
        "!pip install xarray==0.18.1"
      ],
      "metadata": {
        "id": "zGlKJUfZe1Nb",
        "outputId": "0d4e365c-e6a0-4a53-c0fa-0a892a28fe01",
        "colab": {
          "base_uri": "https://localhost:8080/"
        }
      },
      "execution_count": 5,
      "outputs": [
        {
          "output_type": "stream",
          "name": "stdout",
          "text": [
            "Looking in indexes: https://pypi.org/simple, https://us-python.pkg.dev/colab-wheels/public/simple/\n",
            "Collecting importlib-metadata==4.0.1\n",
            "  Downloading importlib_metadata-4.0.1-py3-none-any.whl (16 kB)\n",
            "Requirement already satisfied: zipp>=0.5 in /usr/local/lib/python3.8/dist-packages (from importlib-metadata==4.0.1) (3.11.0)\n",
            "Installing collected packages: importlib-metadata\n",
            "  Attempting uninstall: importlib-metadata\n",
            "    Found existing installation: importlib-metadata 6.0.0\n",
            "    Uninstalling importlib-metadata-6.0.0:\n",
            "      Successfully uninstalled importlib-metadata-6.0.0\n",
            "\u001b[31mERROR: pip's dependency resolver does not currently take into account all the packages that are installed. This behaviour is the source of the following dependency conflicts.\n",
            "markdown 3.4.1 requires importlib-metadata>=4.4; python_version < \"3.10\", but you have importlib-metadata 4.0.1 which is incompatible.\n",
            "gym 0.25.2 requires importlib-metadata>=4.8.0; python_version < \"3.10\", but you have importlib-metadata 4.0.1 which is incompatible.\u001b[0m\u001b[31m\n",
            "\u001b[0mSuccessfully installed importlib-metadata-4.0.1\n",
            "Looking in indexes: https://pypi.org/simple, https://us-python.pkg.dev/colab-wheels/public/simple/\n",
            "Collecting xarray==0.18.1\n",
            "  Downloading xarray-0.18.1-py3-none-any.whl (807 kB)\n",
            "\u001b[2K     \u001b[90m━━━━━━━━━━━━━━━━━━━━━━━━━━━━━━━━━━━━━━\u001b[0m \u001b[32m807.3/807.3 KB\u001b[0m \u001b[31m31.1 MB/s\u001b[0m eta \u001b[36m0:00:00\u001b[0m\n",
            "\u001b[?25hRequirement already satisfied: pandas>=1.0 in /usr/local/lib/python3.8/dist-packages (from xarray==0.18.1) (1.3.5)\n",
            "Requirement already satisfied: setuptools>=40.4 in /usr/local/lib/python3.8/dist-packages (from xarray==0.18.1) (57.4.0)\n",
            "Requirement already satisfied: numpy>=1.17 in /usr/local/lib/python3.8/dist-packages (from xarray==0.18.1) (1.23.5)\n",
            "Requirement already satisfied: pytz>=2017.3 in /usr/local/lib/python3.8/dist-packages (from pandas>=1.0->xarray==0.18.1) (2022.7)\n",
            "Requirement already satisfied: python-dateutil>=2.7.3 in /usr/local/lib/python3.8/dist-packages (from pandas>=1.0->xarray==0.18.1) (2.8.2)\n",
            "Requirement already satisfied: six>=1.5 in /usr/local/lib/python3.8/dist-packages (from python-dateutil>=2.7.3->pandas>=1.0->xarray==0.18.1) (1.15.0)\n",
            "Installing collected packages: xarray\n",
            "  Attempting uninstall: xarray\n",
            "    Found existing installation: xarray 2022.12.0\n",
            "    Uninstalling xarray-2022.12.0:\n",
            "      Successfully uninstalled xarray-2022.12.0\n",
            "Successfully installed xarray-0.18.1\n"
          ]
        }
      ]
    },
    {
      "cell_type": "code",
      "source": [
        "from argparse import ArgumentParser\n",
        "import warnings\n",
        "warnings.filterwarnings('ignore')\n",
        "from dataclasses import dataclass, field\n",
        "from typing import List\n",
        "import getpass\n",
        "\n",
        "%load_ext autoreload\n",
        "%autoreload 2\n",
        "\n",
        "%matplotlib inline\n",
        "from Bias_GAN.code.src.utils import show_checkpoints\n",
        "\n",
        "import os\n",
        "import xarray as xr\n",
        "import torch\n",
        "from IPython.display import Image, display\n",
        "\n",
        "from Bias_GAN.code.src.model import  DataModule, ConstrainedGenerator\n",
        "from Bias_GAN.code.src.data import TestData, CycleDataset, ProjectionDataset,  load_cmip6_model, CMIP6Data\n",
        "from Bias_GAN.code.src.plots import PlotAnalysis\n",
        "from Bias_GAN.code.src.utils import log_transform, inv_norm_transform, inv_log_transform, inv_norm_minus1_to_plus1_transform, norm_minus1_to_plus1_transform, config_from_file\n",
        "from Bias_GAN.code.src.projection_utils import ProjectionPreparation\n",
        "from Bias_GAN.code.src.xarray_utils import write_dataset\n",
        "\n",
        "import pytorch_lightning as pl\n",
        "from pytorch_lightning.loggers import TensorBoardLogger\n",
        "import json\n",
        "\n",
        "from Bias_GAN.code.src.model import CycleGAN\n",
        "from Bias_GAN.code.src.data import DataModule\n",
        "from Bias_GAN.code.src.utils import get_version, set_environment, get_checkpoint_path, save_config\n",
        "from Bias_GAN.code.src.callbacks import get_cycle_gan_callbacks"
      ],
      "metadata": {
        "id": "ctpYd5RO0GJ3"
      },
      "execution_count": 6,
      "outputs": []
    },
    {
      "cell_type": "markdown",
      "source": [
        "# Main training loop"
      ],
      "metadata": {
        "id": "BDZR-hows48Z"
      }
    },
    {
      "cell_type": "code",
      "source": [
        "def train_cycle_gan(config, pretrain_path=False):\n",
        "    \"\"\" Main routing to train the Cycle GAN \"\"\"\n",
        "    \n",
        "    config = Config()\n",
        "    version = get_version()\n",
        "    print(f'Running model: {version}')\n",
        "    checkpoint_path = get_checkpoint_path(config, version)\n",
        "    \n",
        "    set_environment()\n",
        "    print(\"checkpoint_path before:\",checkpoint_path) \n",
        "    tb_logger = TensorBoardLogger(config.tensorboard_path,\n",
        "                           name=config.model_name,\n",
        "                           default_hp_metric=False,\n",
        "                           version = checkpoint_path)\n",
        "                           #version = version\n",
        "\n",
        "    trainer = pl.Trainer(gpus = 1,\n",
        "                         max_epochs = config.epochs,\n",
        "                         precision = 16, \n",
        "                         #progress_bar_refresh_rate = config.progress_bar_refresh_rate,\n",
        "                         callbacks = get_cycle_gan_callbacks(checkpoint_path),\n",
        "                         num_sanity_val_steps = 1,\n",
        "                         logger = tb_logger,\n",
        "                         log_every_n_steps = config.log_every_n_steps,\n",
        "                         deterministic = False,\n",
        "                         accelerator=accelerator) \n",
        "\n",
        "    datamodule = DataModule(config, training_batch_size = config.train_batch_size,\n",
        "                                    test_batch_size = config.test_batch_size)\n",
        "\n",
        "    datamodule.setup(\"fit\")\n",
        "\n",
        "    \n",
        "    \n",
        "    if pretrain_path==False:\n",
        "      print(\"no pretraining\")\n",
        "      model = CycleGAN(epoch_decay = config.epochs // 2,running_bias=config.running_bias)\n",
        "    else:\n",
        "      print(\"using pretrained model with path:\",pretrain_path)\n",
        "      model = CycleGAN(epoch_decay = config.epochs // 2,running_bias=config.running_bias).load_from_checkpoint(pretrain_path)\n",
        "\n",
        "    trainer.fit(model, datamodule)\n",
        "\n",
        "    save_config(config, version)\n",
        "    print('Training finished')\n",
        "    return model"
      ],
      "metadata": {
        "id": "efWHPrX2Ck9K"
      },
      "execution_count": 7,
      "outputs": []
    },
    {
      "cell_type": "markdown",
      "source": [
        "# Config"
      ],
      "metadata": {
        "id": "Bq-nYOq2tAfe"
      }
    },
    {
      "cell_type": "code",
      "execution_count": 8,
      "metadata": {
        "id": "RDSas-G6yYG1"
      },
      "outputs": [],
      "source": [
        "@dataclass\n",
        "class Config:\n",
        "    \"\"\" \n",
        "    Training configuration parameters. For model evaluation parameters see\n",
        "    src/configuration.py.\n",
        "    \"\"\"\n",
        "    \n",
        "    scratch_path: str = '/content/gdrive/MyDrive/bias_gan/results'\n",
        "    tensorboard_path: str = f'{scratch_path}/'\n",
        "    checkpoint_path: str = f'{scratch_path}/'\n",
        "    config_path: str = f'{scratch_path}/'\n",
        "    poem_path: str = f\"/content/gdrive/MyDrive/bias_gan/data_gan/pr_gfdl-esm4_historical_regionbox_1979-2014.nc\"\n",
        "    era5_path: str = f\"/content/gdrive/MyDrive/bias_gan/data_gan/pr_W5E5v2.0_regionbox_era5_1979-2014.nc\"\n",
        "   \n",
        "\n",
        "    results_path: str = f'{scratch_path}/'\n",
        "    projection_path: str = None\n",
        "\n",
        "    train_start: int = 1979\n",
        "    train_end: int = 2000 # set to 2000 for full run\n",
        "    valid_start: int = 2004 #was 2001\n",
        "    valid_end: int = 2004\n",
        "    test_start: int = 2004\n",
        "    test_end: int = 2014\n",
        "    \n",
        "    model_name: str = 'tibet_gan'\n",
        "\n",
        "    epochs: int = 20 # set to 250 for reproduction\n",
        "    progress_bar_refresh_rate: int = 1\n",
        "    train_batch_size: int = 1\n",
        "    test_batch_size: int = 64\n",
        "    transforms: List = field(default_factory=lambda: ['log', 'normalize_minus1_to_plus1'])\n",
        "    rescale: bool = False\n",
        "    epsilon: float = 0.0001\n",
        "    lazy: bool = False\n",
        "    log_every_n_steps: int = 5 ### was 10\n",
        "    norm_output: bool = True\n",
        "    running_bias: bool = False\n",
        "\n",
        "\n",
        "def main():\n",
        "    _ = train_cycle_gan(Config())"
      ]
    },
    {
      "cell_type": "markdown",
      "source": [
        "# Run"
      ],
      "metadata": {
        "id": "3cAL47h6s7RG"
      }
    },
    {
      "cell_type": "code",
      "source": [
        "do_training = True\n",
        "\n",
        "runtime_instance = \"2023_01_12_05h_34m_48s\"\n",
        "\n",
        "\n",
        "if do_training == True:\n",
        "    accelerator=\"gpu\"\n",
        "\n",
        "    ###### for doing a new run ######\n",
        "    #train_cycle_gan(Config())\n",
        "\n",
        "    ###### for running a pretrained checkpoint ######\n",
        "    train_cycle_gan(Config(),f\"/content/gdrive/MyDrive/bias_gan/results/{runtime_instance}/last.ckpt\")"
      ],
      "metadata": {
        "id": "Cid_5UwLyttz",
        "colab": {
          "base_uri": "https://localhost:8080/",
          "height": 486,
          "referenced_widgets": [
            "c9458d5fac1e4296877b0f84276ce96d",
            "c55d3f91d7ec4db3aa723d12c6b77aff",
            "32d4eedde71d40f69d9b6af95e3c4543",
            "e4a835714b3d4e4e8eecf4f570fc0c56",
            "33621d45981f40eda42e90c570b8ab6a",
            "38806527540041ce9448a09c7f86fa1a",
            "e2bcf1308fcb4c05abef58b71327a4d2",
            "dabf245749cf4750a52618250d59c2b8",
            "6e788b6ec6d04e6fb75ab7446993fa93",
            "58440689522847a2a25c5aa4bd8f7cb6",
            "6a50f5e8153740d099aff540db6081f4",
            "ada1ceb129b04144a5e1edce0b3a424c",
            "a33b172468354d058cd456d8bc6fb22e",
            "21a295e7952d4e0fb8bd1c830fbefb56",
            "935dd40dea7042f4abd2de7bdf5ab4a1",
            "d146f2a832454ea69dd5bc443f63b991",
            "df6f1b81f9c042618acb48d767920dd7",
            "e1ec5b07a8114f94b913d471404d7b02",
            "bb9d00573e5a44609b553f79ee271fb9",
            "9503ab2013dc4c0782316886c188f3bf",
            "91c2cd85dd944caaab21caab9a6b1b94",
            "c23b717992c94b04b3fa64941ab54458"
          ]
        },
        "outputId": "03f9bf42-1c96-4cce-89d6-7b08487ab836"
      },
      "execution_count": null,
      "outputs": [
        {
          "output_type": "stream",
          "name": "stderr",
          "text": [
            "INFO:lightning_lite.utilities.seed:Global seed set to 42\n"
          ]
        },
        {
          "output_type": "stream",
          "name": "stdout",
          "text": [
            "Running model: 2023_01_12_07h_34m_09s\n",
            "checkpoint_path before: /content/gdrive/MyDrive/bias_gan/results//2023_01_12_07h_34m_09s\n"
          ]
        },
        {
          "output_type": "stream",
          "name": "stderr",
          "text": [
            "/usr/local/lib/python3.8/dist-packages/pytorch_lightning/trainer/connectors/accelerator_connector.py:441: LightningDeprecationWarning: Setting `Trainer(gpus=1)` is deprecated in v1.7 and will be removed in v2.0. Please use `Trainer(accelerator='gpu', devices=1)` instead.\n",
            "  rank_zero_deprecation(\n",
            "INFO:pytorch_lightning.utilities.rank_zero:Using 16bit native Automatic Mixed Precision (AMP)\n",
            "INFO:pytorch_lightning.utilities.rank_zero:GPU available: True (cuda), used: True\n",
            "INFO:pytorch_lightning.utilities.rank_zero:TPU available: False, using: 0 TPU cores\n",
            "INFO:pytorch_lightning.utilities.rank_zero:IPU available: False, using: 0 IPUs\n",
            "INFO:pytorch_lightning.utilities.rank_zero:HPU available: False, using: 0 HPUs\n"
          ]
        },
        {
          "output_type": "stream",
          "name": "stdout",
          "text": [
            "using pretrained model with path: /content/gdrive/MyDrive/bias_gan/results/2023_01_12_05h_34m_48s/last.ckpt\n"
          ]
        },
        {
          "output_type": "stream",
          "name": "stderr",
          "text": [
            "INFO:pytorch_lightning.accelerators.cuda:LOCAL_RANK: 0 - CUDA_VISIBLE_DEVICES: [0]\n",
            "INFO:pytorch_lightning.callbacks.model_summary:\n",
            "  | Name  | Type          | Params\n",
            "----------------------------------------\n",
            "0 | d_A   | Discriminator | 2.8 M \n",
            "1 | d_B   | Discriminator | 2.8 M \n",
            "2 | g_A2B | Generator     | 449 K \n",
            "3 | g_B2A | Generator     | 449 K \n",
            "----------------------------------------\n",
            "6.4 M     Trainable params\n",
            "0         Non-trainable params\n",
            "6.4 M     Total params\n",
            "12.849    Total estimated model params size (MB)\n"
          ]
        },
        {
          "output_type": "display_data",
          "data": {
            "text/plain": [
              "Sanity Checking: 0it [00:00, ?it/s]"
            ],
            "application/vnd.jupyter.widget-view+json": {
              "version_major": 2,
              "version_minor": 0,
              "model_id": "c9458d5fac1e4296877b0f84276ce96d"
            }
          },
          "metadata": {}
        },
        {
          "output_type": "display_data",
          "data": {
            "text/plain": [
              "Training: 0it [00:00, ?it/s]"
            ],
            "application/vnd.jupyter.widget-view+json": {
              "version_major": 2,
              "version_minor": 0,
              "model_id": "ada1ceb129b04144a5e1edce0b3a424c"
            }
          },
          "metadata": {}
        }
      ]
    },
    {
      "cell_type": "markdown",
      "source": [
        "# Inference"
      ],
      "metadata": {
        "id": "z-ykm_eB95pn"
      }
    },
    {
      "cell_type": "markdown",
      "source": [
        "## inference"
      ],
      "metadata": {
        "id": "We_xzajk-9xY"
      }
    },
    {
      "cell_type": "code",
      "source": [
        "class Inference():\n",
        "\n",
        "    \"\"\" Execute model on test data and return output as NetCDF. \"\"\"\n",
        "    \n",
        "    def __init__(self,\n",
        "                 config,\n",
        "                 constrain=False,\n",
        "                 projection=False,\n",
        "                 projection_path=None,\n",
        "                 max_num_inference_steps=None):\n",
        "        \n",
        "\n",
        "        self.config = config\n",
        "        self.constrain = constrain\n",
        "        self.results_path = config.results_path\n",
        "\n",
        "        self.poem = xr.open_dataset(self.config.poem_path)\n",
        "        self.era5 = xr.open_dataset(self.config.era5_path)\n",
        "\n",
        "        self.train_start = str(config.train_start)\n",
        "        self.train_end = str(config.train_end)\n",
        "        self.test_start = str(config.test_start)\n",
        "        self.test_end = str(config.test_end)\n",
        "        self.epsilon = config.epsilon\n",
        "        self.projection = projection\n",
        "        self.projection_path = projection_path\n",
        "\n",
        "        self.model = None\n",
        "        self.model_output = None\n",
        "        self.dataset = None\n",
        "\n",
        "        self.transforms = config.transforms\n",
        "        self.max_num_inference_steps = max_num_inference_steps\n",
        "        self.tst_batch_sz = 64\n",
        "        self.device = torch.device('cuda' if torch.cuda.is_available() else 'cpu')\n",
        "\n",
        "        \n",
        "    def load_model(self, checkpoint_path):\n",
        "    \n",
        "        model = CycleGAN().load_from_checkpoint(checkpoint_path=checkpoint_path)\n",
        "        model.freeze()\n",
        "        self.model = model.to(self.device)\n",
        "        self.model = ConstrainedGenerator(self.model.g_B2A, constrain=self.constrain)\n",
        "\n",
        "\n",
        "    def get_model(self):\n",
        "        return self.model \n",
        "\n",
        "        \n",
        "    def get_dataloader(self):\n",
        "\n",
        "        #datamodule = DataModule(self.config,\n",
        "        #                        trn_batch_sz = 1,\n",
        "        #                        tst_batch_sz = self.tst_batch_sz)\n",
        "        datamodule = DataModule(self.config,\n",
        "                                training_batch_size = 1,\n",
        "                                test_batch_size = self.tst_batch_sz)\n",
        "        if self.projection:\n",
        "            print('running projection')\n",
        "            datamodule.setup(\"predict\")\n",
        "        else:\n",
        "            datamodule.setup(\"test\")\n",
        "        dataloader = datamodule.test_dataloader()\n",
        "\n",
        "        return dataloader\n",
        "\n",
        "    def get_projection_dataloader(self):\n",
        "\n",
        "        dataloader = ProjectionDataset(self.config)\n",
        "        return dataloader\n",
        "    \n",
        "        \n",
        "    def compute(self):\n",
        "        \"\"\" Use B (ESM) -> A (ERA5) generator for inference \"\"\"\n",
        "\n",
        "        test_data = self.get_dataloader()\n",
        "\n",
        "        data = []\n",
        "\n",
        "        print(\"Start inference:\")\n",
        "        for idx, sample in enumerate(test_data):\n",
        "            sample = sample['B'].to(self.device)\n",
        "            yhat = self.model(sample)\n",
        "\n",
        "            data.append(yhat.squeeze().cpu())\n",
        "            if self.max_num_inference_steps is not None:\n",
        "                if idx > self.max_num_inference_steps - 1:\n",
        "                    break\n",
        "            \n",
        "        self.model_output = torch.cat(data)\n",
        "\n",
        "\n",
        "    def test(self):\n",
        "        dataset = CycleDataset('test', self.config)\n",
        "        test_data = dataset[0]\n",
        "        sample = test_data['A'][0]\n",
        "        data = self.inv_transform(sample)\n",
        "        print(data.min(), data.max())\n",
        "\n",
        "    \n",
        "    def get_netcdf_result(self):\n",
        "        \n",
        "        time = self.poem.sel(time=slice(self.test_start, self.test_end)).time\n",
        "\n",
        "        if self.projection:\n",
        "            time = xr.open_dataset(self.projection_path).time\n",
        "\n",
        "        if self.max_num_inference_steps is not None:\n",
        "            time = time.isel(time=slice(0, (self.max_num_inference_steps+1)*self.tst_batch_sz))\n",
        "\n",
        "        latitude = self.poem.latitude\n",
        "        longitude = self.poem.longitude\n",
        "        \n",
        "        gan_data= xr.DataArray(\n",
        "            data=self.model_output,\n",
        "            dims=[\"time\", \"latitude\", \"longitude\"],\n",
        "            coords=dict(\n",
        "                time=time,\n",
        "                latitude=latitude,\n",
        "                longitude=longitude,\n",
        "            ),\n",
        "            attrs=dict(\n",
        "                description=\"gan_precipitation\",\n",
        "                units=\"mm/s\",\n",
        "            ))\n",
        "        \n",
        "        gan_dataset = gan_data.to_dataset(name=\"gan_precipitation\")\n",
        "        self.gan_dataset = gan_dataset.transpose('time', 'latitude', 'longitude')\n",
        "\n",
        "        return self.gan_dataset\n",
        "\n",
        "\n",
        "    def inv_transform(self, data, reference=None):\n",
        "        \"\"\" The output equals ERA5, therefore it needs to be\n",
        "            constraind with respect to it\n",
        "        \"\"\"\n",
        "        if reference is None:\n",
        "            reference = self.era5.era5_precipitation.sel(time=slice(self.train_start, self.train_end)).values\n",
        "\n",
        "        if 'log' in self.transforms:\n",
        "            reference = log_transform(reference, self.epsilon)\n",
        "\n",
        "        if 'normalize' in self.transforms:\n",
        "            data = inv_norm_transform(data, reference)\n",
        "\n",
        "        if 'normalize_minus1_to_plus1' in self.transforms:\n",
        "            data = inv_norm_minus1_to_plus1_transform(data, reference)\n",
        "\n",
        "        if 'log' in self.transforms:\n",
        "            data = inv_log_transform(data, self.epsilon)\n",
        "\n",
        "        return data\n",
        "\n",
        "    \n",
        "    def write(self, fname):\n",
        "        \n",
        "        ds = self.get_netcdf_result()\n",
        "        path  = self.results_path + fname\n",
        "        #path  ='/content/gdrive/MyDrive/bias_gan/results/' + fname\n",
        "        ds.to_netcdf(path)\n"
      ],
      "metadata": {
        "id": "JSAIRPD4--Ai"
      },
      "execution_count": null,
      "outputs": []
    },
    {
      "cell_type": "markdown",
      "source": [
        "## evaluate checkpoints fct"
      ],
      "metadata": {
        "id": "bgA1wp1y-yxZ"
      }
    },
    {
      "cell_type": "code",
      "source": [
        "def create_folder(path):\n",
        "    from pathlib import Path\n",
        "    Path(path).mkdir(parents=True, exist_ok=True)"
      ],
      "metadata": {
        "id": "uhJrYeojF8s9"
      },
      "execution_count": null,
      "outputs": []
    },
    {
      "cell_type": "code",
      "source": [
        "class EvaluateCheckpoints():\n",
        "    \"\"\" \n",
        "        Interate over model checkpoints and\n",
        "        show the test set results.\n",
        "    \"\"\"\n",
        "    \n",
        "    def __init__(self,\n",
        "                 checkpoint_path,\n",
        "                 config_path,\n",
        "                 plot_summary=False,\n",
        "                 show_plots=False,\n",
        "                 save_model=True,\n",
        "                 constrain=False,\n",
        "                 epoch_index=None,\n",
        "                 projection=False,\n",
        "                 max_num_inference_steps=None,\n",
        "                 projection_path=None\n",
        "                 ):\n",
        "\n",
        "        self.checkpoint_path = checkpoint_path\n",
        "        print(f'loading checkpoints from directory: {self.checkpoint_path}')\n",
        "        self.config_path = config_path\n",
        "        self.reports_path = f'{Config.results_path}reports/'\n",
        "        self.projection_path = projection_path\n",
        "        self.projection = projection\n",
        "        self.plot_summary = plot_summary\n",
        "        self.uuid = None\n",
        "        self.show_plots = show_plots\n",
        "        self.gan_results = None\n",
        "        self.save_model = save_model\n",
        "        self.model_fname = 'gan.nc'\n",
        "        self.model = None\n",
        "        self.test_data = None\n",
        "        self.constrain = constrain\n",
        "        self.epoch_index = epoch_index\n",
        "        self.max_num_inference_steps = max_num_inference_steps\n",
        "\n",
        "\n",
        "    def load_config(self):\n",
        "        path = self.config_path\n",
        "        config = config_from_file(path)\n",
        "        if self.projection_path is not None:\n",
        "            config.projection_path = self.projection_path\n",
        "        return config\n",
        "\n",
        "\n",
        "\n",
        "    def get_uuid_from_path(self, path: str):\n",
        "        import re\n",
        "        print(\"path in get_uuid\", path)\n",
        "        uuid4hex = re.compile('[0-9a-f]{8}-[0-9a-f]{4}-[1-5][0-9a-f]{3}-[89ab][0-9a-f]{3}-[0-9a-f]{12}', re.I)\n",
        "        print(\"uuid4hex\",uuid4hex)\n",
        "        print(\"uuid4hex search path\",uuid4hex.search(path))\n",
        "        uuid = uuid4hex.search(path).group(0)\n",
        "        return uuid\n",
        "\n",
        "\n",
        "    def run(self):         ############## maybe add checkpoint_path as variable ##############\n",
        "        \n",
        "        self.config = self.load_config()\n",
        "        \n",
        "        files = [self.checkpoint_path]\n",
        "        for i, fname in enumerate(files):\n",
        "            self.checkpoint_idx = i+1\n",
        "            self.num_checkpoints = len(files)\n",
        "            print(f'Checkpoint {self.checkpoint_idx} / {self.num_checkpoints}:')\n",
        "            print(fname)\n",
        "            print('')\n",
        "            self.run_inference(fname)\n",
        "            self.read_test_data()\n",
        "            self.get_plots()\n",
        "            \n",
        "        return self.get_test_data()\n",
        "        \n",
        "        \n",
        "    def get_files(self, path: str):\n",
        "        \n",
        "        if os.path.isfile(path):\n",
        "            files = []\n",
        "            files.append(path) \n",
        "        else:\n",
        "            files = os.listdir(path)\n",
        "            for i, f in enumerate(files):\n",
        "                files[i] = os.path.join(path, f) \n",
        "        return files\n",
        "\n",
        "    def run_inference(self, path: str):\n",
        "        \n",
        "        inf = Inference(self.config,\n",
        "                        constrain=self.constrain,\n",
        "                        projection=self.projection,\n",
        "                        projection_path=self.projection_path,\n",
        "                        max_num_inference_steps=self.max_num_inference_steps)\n",
        "        inf.load_model(path)\n",
        "        inf.compute()\n",
        "        self.gan_results = inf.get_netcdf_result()\n",
        "        self.model = inf.get_model()\n",
        "        \n",
        "        if self.save_model:\n",
        "            inf.write(self.model_fname)\n",
        "    \n",
        "        \n",
        "    def read_test_data(self):\n",
        "    \n",
        "        climate_model = xr.open_dataset(self.config.poem_path)\n",
        "        if 'poem_precipitation' in climate_model.variables:\n",
        "            climate_model =  climate_model.poem_precipitation#*3600*24                     #######is it nessecary to mulitply with this??########\n",
        "        else:\n",
        "            climate_model =  climate_model.precipitation #*3600*24                         #######is it nessecary to mulitply with this??########\n",
        "        era5 = xr.open_dataset(self.config.era5_path).era5_precipitation#*3600*24            #######is it nessecary to mulitply with this??########\n",
        "        gan = self.gan_results.gan_precipitation\n",
        "\n",
        "        data = TestData(era5, gan, climate_model=climate_model)\n",
        "        data.convert_units()\n",
        "        data.crop_test_period()\n",
        "        data.show_mean()\n",
        "        data.uuid = self.uuid\n",
        "        data.model = self.model\n",
        "        \n",
        "        self.test_data = data\n",
        "\n",
        "\n",
        "    def get_test_data(self):\n",
        "        return self.test_data\n",
        "\n",
        "\n",
        "    def show_reports(self, uuid):\n",
        "        path = f'{self.reports_path}{uuid}/'\n",
        "        files = self.get_files(path)\n",
        "        for file in files:\n",
        "            fig = Image(filename=file)\n",
        "            display(fig)\n",
        "        \n",
        "        \n",
        "    def get_plots(self):\n",
        "\n",
        "        if self.plot_summary:\n",
        "            plot = PlotAnalysis(self.test_data)\n",
        "            new_dir = f'{self.reports_path}{self.uuid}/'\n",
        "            create_folder(new_dir)\n",
        "            fname = f'{new_dir}model_{self.uuid}_number_{self.checkpoint_idx}.png'\n",
        "            plot.summary(plot_idx=self.checkpoint_idx, \n",
        "                         num_plots=self.num_checkpoints,\n",
        "                         fname=fname, show_plots=self.show_plots)"
      ],
      "metadata": {
        "id": "CvdLnaDF-0lK"
      },
      "execution_count": null,
      "outputs": []
    },
    {
      "cell_type": "markdown",
      "source": [
        "# Evaluation"
      ],
      "metadata": {
        "id": "2adJLjPo-15I"
      }
    },
    {
      "cell_type": "markdown",
      "source": [
        "## Define plot functions"
      ],
      "metadata": {
        "id": "cUzMub7XI6cE"
      }
    },
    {
      "cell_type": "markdown",
      "source": [
        "### baseplot function"
      ],
      "metadata": {
        "id": "Q5qxiDNZ1rh6"
      }
    },
    {
      "cell_type": "code",
      "source": [
        "def plot_basemap(data: xr.DataArray,\n",
        "                cbar_title: str,\n",
        "                vmin: float,\n",
        "                vmax: float,\n",
        "                alpha: float,\n",
        "                cmap: str,\n",
        "                cbar=True,\n",
        "                cbar_extend='max',\n",
        "                cbar_position='right',\n",
        "                return_cs=False,\n",
        "                axis=None,\n",
        "                plot_mask=False,\n",
        "                draw_coordinates=False,\n",
        "                parallel_label=[1, 0, 0, 0],\n",
        "                meridian_label=[0, 0, 0, 1],\n",
        "                contours=None,\n",
        "                fig=None,\n",
        "                projection='mill',\n",
        "                contourf=False,\n",
        "                map_resolution='c',\n",
        "                vmin_contours=0.15,\n",
        "                vmax_contours=0.40,\n",
        "                mask_threshold=1):\n",
        "\n",
        "    import matplotlib.pyplot as plt\n",
        "    \n",
        "    if axis is not None:\n",
        "        cbar_plt = plt\n",
        "        plt = axis\n",
        "\n",
        "    lats = data.latitude\n",
        "    lons = data.longitude\n",
        "\n",
        "    if projection == 'mill':\n",
        "        lon_0 = 0\n",
        "    else:\n",
        "        lon_0 = -180 \n",
        "\n",
        "    m = Basemap(llcrnrlon=lons[0], llcrnrlat=lats[0],\n",
        "                urcrnrlon=lons[-1], urcrnrlat=lats[-1],\n",
        "                projection=projection, lon_0=lon_0, \n",
        "                resolution=map_resolution, ax=axis)\n",
        "    \n",
        "    m.drawcounties()\n",
        "    m.drawcoastlines(color='k', linewidth=0.5)\n",
        "  \n",
        "    if draw_coordinates:\n",
        "        par = m.drawparallels(\n",
        "                              [-90, -60, 0, 60, 90],\n",
        "                              #[-90, -45, 0, 45, 90],\n",
        "                              linewidth=1.0,\n",
        "                              labels=parallel_label,\n",
        "                              color='grey')\n",
        "\n",
        "        merid = m.drawmeridians(\n",
        "                                [ -90, 0, 90, 180],\n",
        "                                #[-120, -60, 0, 60, 120, 180],\n",
        "                                linewidth=1.0,\n",
        "                                labels=meridian_label,\n",
        "                                color='grey')\n",
        "    \n",
        "    Lon, Lat = np.meshgrid(lons, lats)\n",
        "    \n",
        "    x, y = m(Lon, Lat)\n",
        "                    \n",
        "    if contourf:\n",
        "        cs = plt.contourf(x, y, data, 500, vmin=vmin, vmax=vmax,\n",
        "                        alpha=alpha, cmap=cmap,\n",
        "                        linewidth=0, shading='auto', extend='max')\n",
        "    else:\n",
        "        cs = plt.pcolormesh(x, y, data, vmin=vmin, vmax=vmax,\n",
        "                        alpha=alpha, cmap=cmap,\n",
        "                        linewidth=0, shading='auto')\n",
        "\n",
        "    if plot_mask is True:\n",
        "        mask = np.ma.masked_where(data > mask_threshold, data)\n",
        "        plt.pcolormesh(x,y, mask, vmin=-1, vmax=-1, alpha=1.0, cmap='Greys',shading='auto')\n",
        "\n",
        "    if contours is not None:\n",
        "        cs2 = plt.contour(x, y, abs(contours), 8, \n",
        "                            alpha=1.0, cmap='YlOrRd',\n",
        "                            linewidth=4.0, shading='auto')\n",
        "    if axis is None:\n",
        "        ax = plt.gca()\n",
        "        divider = make_axes_locatable(ax)\n",
        "        cax = divider.append_axes(cbar_position, size=\"1.5%\", pad=0.4)\n",
        "        cbar_plt = cax\n",
        "    if cbar:\n",
        "\n",
        "        if axis is not None:\n",
        "            ax = cbar_plt.gca()\n",
        "            divider = make_axes_locatable(ax)\n",
        "            cax = divider.append_axes(cbar_position, size=\"2.5%\", pad=0.2)\n",
        "            cbar = cbar_plt.colorbar(cs, cax=cax,  label=cbar_title, extend=cbar_extend)\n",
        "        else:\n",
        "            cbar = plt.colorbar(cs, cax=cax,  label=cbar_title, extend=cbar_extend)\n",
        "\n",
        "        cbar.solids.set(alpha=1)\n",
        "        if cbar_position == 'left':\n",
        "            cbar.ax.yaxis.set_ticks_position('left')\n",
        "            cbar.ax.yaxis.set_label_position('left')\n",
        "\n",
        "        if contours is not None:\n",
        "            norm = matplotlib.colors.Normalize(vmin=cs2.cvalues.min(), vmax=cs2.cvalues.max())\n",
        "            sm = plt.cm.ScalarMappable(norm=norm, cmap = cs2.cmap)\n",
        "            sm.set_array([])\n",
        "\n",
        "            #cax = divider.new_vertical(size=\"3%\", pad=0.2, pack_start=True)\n",
        "            cax = divider.append_axes('right', size=\"1.5%\", pad=0.2)\n",
        "            #fig.add_axes(cax)\n",
        "            fig.colorbar(sm,\n",
        "                         ticks=cs2.levels,\n",
        "                         cax=cax,\n",
        "                         #orientation=\"horizontal\",\n",
        "                         orientation=\"vertical\",\n",
        "                         extend='max',\n",
        "                         label='Feature importance [a.u.]')\n",
        "\n",
        "    else:\n",
        "        #cax = divider.append_axes(\"right\", size=\"2%\", pad=0.15)\n",
        "        if axis is None:\n",
        "            cax.set_visible(False)\n",
        "    if return_cs:\n",
        "        return cs"
      ],
      "metadata": {
        "id": "5sdeirFX1u9R"
      },
      "execution_count": null,
      "outputs": []
    },
    {
      "cell_type": "markdown",
      "source": [
        "## Plot Analysis fct"
      ],
      "metadata": {
        "id": "hrQ-wUsQ1vwB"
      }
    },
    {
      "cell_type": "code",
      "source": [
        "import xarray as xr\n",
        "import matplotlib\n",
        "import matplotlib.pyplot as plt\n",
        "import numpy as np\n",
        "import matplotlib.ticker\n",
        "from mpl_toolkits.basemap import Basemap\n",
        "from mpl_toolkits.axes_grid1 import make_axes_locatable\n",
        "from matplotlib.lines import Line2D\n",
        "\n",
        "class PlotAnalysis():\n",
        "    \n",
        "    def __init__(self, data: TestData):\n",
        "        \n",
        "        self.data = data\n",
        "        self.names = ['era5', 'gan', 'climate_model']\n",
        "                 \n",
        "\n",
        "    def single_frames(self, vmin=0,\n",
        "                              vmax=20,\n",
        "                              time_index=-1,\n",
        "                              cmap='Blues',\n",
        "                              mask=False,\n",
        "                              single_plot=False,\n",
        "                              projection=\"robin\"):\n",
        "        fig, axs = plt.subplots(1, 3, figsize=(12,7),  constrained_layout=True)\n",
        "        alpha = 1.0 \n",
        "        name = ['era5','gan', 'climate_model']\n",
        "        letters = ['a', 'b', 'c']\n",
        "\n",
        "        for ax, (name, letter) in zip(axs, zip(name, letters)):\n",
        "            data = abs(getattr(self.data, name).isel(time=time_index))\n",
        "            if name == 'era5':\n",
        "                print(data.time.values)\n",
        "\n",
        "            ax.annotate(f\"{letter}\", ha=\"center\", va=\"center\", size=15,\n",
        "                        xy=(1-0.955, 0.925), xycoords=ax,\n",
        "                        bbox=None) \n",
        "            ax.set_title(self.data.model_name_definition(name))\n",
        "            plt.title(self.data.model_name_definition(name))\n",
        "\n",
        "            cbar = False\n",
        "            cbar_title = ''\n",
        "\n",
        "            cs = plot_basemap(data, cbar_title, vmin, vmax, alpha, cmap,\n",
        "                        cbar=cbar,\n",
        "                        axis=ax,\n",
        "                        return_cs=True,\n",
        "                        projection=projection,\n",
        "                        map_resolution='c',\n",
        "                        plot_mask=mask)\n",
        "                 \n",
        "        norm = matplotlib.colors.Normalize(vmin=vmin, vmax=vmax)\n",
        "        sm = plt.cm.ScalarMappable(norm=norm, cmap = cmap)\n",
        "        sm.set_array([])\n",
        "\n",
        "        cbar = fig.colorbar(sm,\n",
        "                     ax=axs,\n",
        "                     location='bottom',\n",
        "                     shrink=0.4,\n",
        "                     aspect=10,\n",
        "                     extend='max'\n",
        "                     ).set_label('Precipitation [mm/d]', fontsize=13)\n",
        "\n",
        "\n",
        "    def histograms(self, single_plot=False, ax=None, show_legend=True, annotate=True,log=True,xlim_end=400):\n",
        "\n",
        "        if single_plot:\n",
        "            plt.figure(figsize=(6,4))\n",
        "\n",
        "        if ax is None:\n",
        "            _, ax = plt.subplots()\n",
        "\n",
        "        for name in reversed(self.names):\n",
        "\n",
        "            if name == 'era5':\n",
        "                alpha = 1.0\n",
        "            else:\n",
        "                alpha = 0.9\n",
        "\n",
        "            data = getattr(self.data, name).values.flatten()\n",
        "            era5_data = getattr(self.data, \"era5\").values.flatten()\n",
        "            if name != \"era5\":\n",
        "              print(f\" Absolute Difference era5&{name} (in test period):\",int(np.sum(era5_data)-np.sum(data)))\n",
        "              print('')\n",
        "              print(f\" Absolute Difference in percent era5&{name}\",abs(np.round((np.sum(era5_data)-np.sum(data))/np.sum(era5_data),5)))\n",
        "              print('')\n",
        "              counts, bin_edges = np.histogram(data, density=False, bins=100)\n",
        "              bin_widths = np.diff(bin_edges)\n",
        "              area = np.sum(counts * bin_widths)\n",
        "              print(f\"Area under the Histogram era5&{name}\",int(np.round(area)))\n",
        "              if name == \"climate_model\":\n",
        "                print(\"_______________________________________________________________\")\n",
        "                print('')\n",
        "\n",
        "\n",
        "\n",
        "            \n",
        "            label = self.data.model_name_definition(name)\n",
        "            _ = plt.hist(data,\n",
        "                        bins=100,\n",
        "                        histtype='step',\n",
        "                        log=log,\n",
        "                        label=label,\n",
        "                        alpha=alpha,\n",
        "                        density=True,\n",
        "                        linewidth=2,\n",
        "                        color=self.data.colors(name))\n",
        "            \n",
        "        \n",
        "        if ax is not None and annotate is True:\n",
        "            ax.annotate(\"b\", ha=\"center\", va=\"center\", size=15,\n",
        "                        xy=(1-0.955, 0.925), xycoords=ax,\n",
        "                        bbox=None) \n",
        "\n",
        "        plt.xlabel('Precipitation [mm/d]')\n",
        "        plt.ylabel('Histogram')\n",
        "        plt.xlim(0,xlim_end)\n",
        "        plt.grid()\n",
        "        if show_legend:\n",
        "            handles, labels = ax.get_legend_handles_labels()\n",
        "            new_handles = [Line2D([], [], c=h.get_edgecolor()) for h in handles]\n",
        "\n",
        "            plt.legend(handles=reversed(new_handles), labels=reversed(labels))\n",
        "\n",
        "        if single_plot:\n",
        "            plt.show()\n",
        "\n",
        "    def latitudinal_mean(self, single_plot=False, ax=None, show_legend=True, annotate=True):\n",
        "        \n",
        "        if single_plot:\n",
        "            plt.figure(figsize=(6,4))\n",
        "        names = self.names\n",
        "        for name in reversed(names):\n",
        "            if name == 'era5':\n",
        "                alpha = 1.0\n",
        "                linestyle = '--'\n",
        "            else:\n",
        "                alpha = 0.9\n",
        "                linestyle= '-'\n",
        "\n",
        "            data = getattr(self.data, name)\n",
        "            label = self.data.model_name_definition(name)\n",
        "            data = data.mean(dim=(\"longitude\", \"time\"))\n",
        "            plt.plot(data.latitude, data,\n",
        "                     label=label,\n",
        "                     alpha=alpha,\n",
        "                     linestyle=linestyle,\n",
        "                     linewidth=2,\n",
        "                     color=self.data.colors(name))\n",
        "        \n",
        "        if ax is not None and annotate is True:\n",
        "           ax.annotate(\"a\", ha=\"center\", va=\"center\", size=15,\n",
        "                     xy=(1-0.955, 0.925), xycoords=ax,\n",
        "                     bbox=None) \n",
        "\n",
        "        plt.ylim(0,7.5)\n",
        "        plt.xlim(25,58)\n",
        "        plt.xlabel('Latitude')\n",
        "        plt.ylabel('Mean precipitation [mm/d]')\n",
        "        plt.grid()\n",
        "\n",
        "        if show_legend:\n",
        "            plt.legend(loc='upper right')\n",
        "\n",
        "        if single_plot:\n",
        "            plt.show()       \n",
        "\n",
        "    def avg_frames_abs_err(self, vmin=0,\n",
        "                              vmax=20,\n",
        "                              time_index=-1,\n",
        "                              cmap='Blues',\n",
        "                              mask=False,\n",
        "                              single_plot=False,\n",
        "                              projection=\"robin\",\n",
        "                              scale_precip_by=1):\n",
        "        fig, axs = plt.subplots(1, 2, figsize=(12,7),  constrained_layout=True)\n",
        "        alpha = 1.0 \n",
        "        name = ['gan', 'climate_model']\n",
        "        letters = ['a', 'b']\n",
        "\n",
        "        for ax, (name, letter) in zip(axs, zip(name, letters)):\n",
        "\n",
        "            era5_data = np.mean(abs(getattr(self.data, 'era5')),axis=0) \n",
        "            data = np.mean(abs(getattr(self.data, name)),axis=0)\n",
        "\n",
        "            ax.annotate(f\"{letter}\", ha=\"center\", va=\"center\", size=15,\n",
        "                        xy=(1-0.955, 0.925), xycoords=ax,\n",
        "                        bbox=None) \n",
        "            ax.set_title(self.data.model_name_definition(name))\n",
        "            plt.title(self.data.model_name_definition(name))\n",
        "\n",
        "            cbar_title = ''\n",
        "            cs = plot_basemap(scale_precip_by*(era5_data-data), cbar_title, vmin, vmax, alpha, cmap,\n",
        "                        cbar=False,\n",
        "                        axis=ax,\n",
        "                        return_cs=True,\n",
        "                        projection=projection,\n",
        "                        map_resolution='c',\n",
        "                        plot_mask=mask)\n",
        "            print(f\"abs error era5_data- {name}:\", np.round(np.sum(np.abs(era5_data-data)).values,2))\n",
        "                 \n",
        "        norm = matplotlib.colors.Normalize(vmin=vmin, vmax=vmax)\n",
        "        sm = plt.cm.ScalarMappable(norm=norm, cmap = cmap)\n",
        "        sm.set_array([])\n",
        "\n",
        "        cbar = fig.colorbar(sm,\n",
        "                     ax=axs,\n",
        "                     location='bottom',\n",
        "                     shrink=0.4,\n",
        "                     aspect=10,\n",
        "                     extend='max'\n",
        "                     ).set_label(f'Precipitation Difference to ERA5 [mm/d] x {scale_precip_by}', fontsize=13) \n",
        "        if scale_precip_by != 1:\n",
        "            print(f\"carefull: precipitation in the plot is scaled by a factor of {scale_precip_by}\")\n",
        "\n",
        "\n",
        "    def avg_frames(self, vmin=0,\n",
        "                              vmax=20,\n",
        "                              time_index=-1,\n",
        "                              cmap='Blues',\n",
        "                              mask=False,\n",
        "                              single_plot=False,\n",
        "                              projection=\"robin\",\n",
        "                              scale_precip_by=1):\n",
        "        fig, axs = plt.subplots(1, 3, figsize=(12,7),  constrained_layout=True)\n",
        "        alpha = 1.0 \n",
        "        name = ['era5','gan', 'climate_model']\n",
        "        letters = ['a', 'b', 'c']\n",
        "        \n",
        "        \n",
        "        for ax, (name, letter) in zip(axs, zip(name, letters)):\n",
        "            data = np.mean(abs(getattr(self.data, name)),axis=0)\n",
        "\n",
        "\n",
        "            ax.annotate(f\"{letter}\", ha=\"center\", va=\"center\", size=15,\n",
        "                        xy=(1-0.955, 0.925), xycoords=ax,\n",
        "                        bbox=None) \n",
        "            ax.set_title(self.data.model_name_definition(name))\n",
        "            plt.title(self.data.model_name_definition(name))\n",
        "\n",
        "            cbar = False\n",
        "            cbar_title = ''\n",
        "\n",
        "            cs = plot_basemap(scale_precip_by*data, cbar_title, vmin, vmax, alpha, cmap,\n",
        "                        cbar=cbar,\n",
        "                        axis=ax,\n",
        "                        return_cs=True,\n",
        "                        projection=projection,\n",
        "                        map_resolution='c',\n",
        "                        plot_mask=mask)\n",
        "                 \n",
        "        norm = matplotlib.colors.Normalize(vmin=vmin, vmax=vmax)\n",
        "        sm = plt.cm.ScalarMappable(norm=norm, cmap = cmap)\n",
        "        sm.set_array([])\n",
        "\n",
        "        cbar = fig.colorbar(sm,\n",
        "                     ax=axs,\n",
        "                     location='bottom',\n",
        "                     shrink=0.4,\n",
        "                     aspect=10,\n",
        "                     extend='max'\n",
        "                     ).set_label(f'Precipitation [mm/d] x {scale_precip_by}', fontsize=13)\n",
        "\n",
        "        if scale_precip_by != 1:\n",
        "            print(f\"carefull: precipitation in the plot is scaled by a factor of {scale_precip_by}\")\n",
        "\n",
        "\n",
        "\n",
        "    def log_histograms(self, single_plot=False, ax=None, show_legend=True, annotate=True):\n",
        "\n",
        "        if single_plot:\n",
        "            plt.figure(figsize=(6,4))\n",
        "\n",
        "        if ax is None:\n",
        "            _, ax = plt.subplots()\n",
        "\n",
        "        for name in reversed(self.names):\n",
        "\n",
        "            if name == 'era5':\n",
        "                alpha = 1.0\n",
        "            else:\n",
        "                alpha = 0.9\n",
        "\n",
        "            \n",
        "            era5_data = getattr(self.data, \"era5\").values.flatten() \n",
        "            data = getattr(self.data, name).values.flatten() \n",
        "            \n",
        "            epsilon = 1e-10\n",
        "            if name != \"era5\":\n",
        "              print(f\"Absolute Difference era5&{name} (in test period):\",int(np.sum(np.log(era5_data+epsilon))-np.sum(np.log(data+epsilon))))\n",
        "              print('')\n",
        "              print(f\"Absolute Difference in percent era5&{name}\",abs(np.round((np.sum(np.log(era5_data+epsilon))-np.sum(np.log(data+epsilon)))/np.sum(abs(np.log(era5_data+epsilon))),3)))\n",
        "              print('')\n",
        "              counts, bin_edges = np.histogram(np.log(data+epsilon), bins=100)\n",
        "              bin_widths = np.diff(bin_edges)\n",
        "              area = np.sum(counts * bin_widths)\n",
        "              print(f\"Area under the Histogram era5&{name}\",int(np.round(area)))\n",
        "              if name == \"climate_model\":\n",
        "                print(\"_______________________________________________________________\")\n",
        "                print('')\n",
        "\n",
        "              \n",
        "\n",
        "            label = self.data.model_name_definition(name)\n",
        "            _ = plt.hist( np.log(data+epsilon),\n",
        "                        bins=100,\n",
        "                        histtype='step',\n",
        "                        log=False,\n",
        "                        label=label,\n",
        "                        alpha=alpha,\n",
        "                        density=True,\n",
        "                        linewidth=2,\n",
        "                        color=self.data.colors(name))\n",
        "            \n",
        "        \n",
        "        if ax is not None and annotate is True:\n",
        "            ax.annotate(\"b\", ha=\"center\", va=\"center\", size=15,xy=(1-0.955, 0.925), xycoords=ax,bbox=None) \n",
        "\n",
        "        plt.xlabel(' Precipitation [mm/d]')\n",
        "        plt.ylabel(' Precipitation Histogram')\n",
        "        plt.xlim(0,7)\n",
        "        plt.ylim(0,0.08)\n",
        "        plt.grid()\n",
        "        if show_legend:\n",
        "            handles, labels = ax.get_legend_handles_labels()\n",
        "            new_handles = [Line2D([], [], c=h.get_edgecolor()) for h in handles]\n",
        "\n",
        "            plt.legend(handles=reversed(new_handles), labels=reversed(labels))\n",
        "\n",
        "        if single_plot:\n",
        "            plt.show()\n",
        "\n",
        "    def histogram_diff(self, single_plot=False, ax=None, show_legend=True, annotate=True,log=True,xlim_end=500):\n",
        "\n",
        "        if single_plot:\n",
        "            plt.figure(figsize=(6,4))\n",
        "\n",
        "        if ax is None:\n",
        "            _, ax = plt.subplots()\n",
        "\n",
        "        for name in reversed(self.names):\n",
        "\n",
        "            if name == 'era5':\n",
        "                alpha = 1.0\n",
        "                pass\n",
        "            else:\n",
        "                alpha = 0.9\n",
        "\n",
        "            data = getattr(self.data, name).values.flatten()\n",
        "            era5_data = getattr(self.data, \"era5\").values.flatten()\n",
        "            if name != \"era5\":\n",
        "              print(f\"Absolute Difference era5&{name} (in test period):\",int(np.sum(era5_data)-np.sum(data)))\n",
        "              print('')\n",
        "              print(f\"Absolute Difference in percent era5&{name}\", abs(np.round((np.sum(era5_data)-np.sum(data) )/np.sum(era5_data),5)) )\n",
        "              print('')\n",
        "              counts, bin_edges = np.histogram(abs(era5_data-data), bins=100)\n",
        "              bin_widths = np.diff(bin_edges)\n",
        "              area = np.sum(counts * bin_widths)\n",
        "              print(f\"Area under the Histogram era5&{name}\",int(np.round(area)))\n",
        "              if name == \"climate_model\":\n",
        "                print(\"_______________________________________________________________\")\n",
        "                print('')\n",
        "\n",
        "            label = self.data.model_name_definition(name)\n",
        "            _ = plt.hist(abs(era5_data-data),\n",
        "                        bins=100,\n",
        "                        histtype='step',\n",
        "                        log=log,\n",
        "                        label=label,\n",
        "                        alpha=alpha,\n",
        "                        density=True,\n",
        "                        linewidth=2,\n",
        "                        color=self.data.colors(name))\n",
        "            \n",
        "        \n",
        "        if ax is not None and annotate is True:\n",
        "            ax.annotate(\"b\", ha=\"center\", va=\"center\", size=15,\n",
        "                        xy=(1-0.955, 0.925), xycoords=ax,\n",
        "                        bbox=None) \n",
        "\n",
        "        plt.xlabel('Precipitation [mm/d]')\n",
        "        plt.ylabel('Histogram')\n",
        "        plt.xlim(0,xlim_end)\n",
        "        plt.grid()\n",
        "        if show_legend:\n",
        "            handles, labels = ax.get_legend_handles_labels()\n",
        "            new_handles = [Line2D([], [], c=h.get_edgecolor()) for h in handles]\n",
        "\n",
        "            plt.legend(handles=reversed(new_handles), labels=reversed(labels))\n",
        "\n",
        "        if single_plot:\n",
        "            plt.show()\n",
        "\n",
        "\n",
        "    def log_histogram_diff(self, single_plot=False, ax=None, show_legend=True, annotate=True,log=True):\n",
        "\n",
        "        if single_plot:\n",
        "            plt.figure(figsize=(6,4))\n",
        "\n",
        "        if ax is None:\n",
        "            _, ax = plt.subplots()\n",
        "\n",
        "        for name in reversed(self.names):\n",
        "\n",
        "            if name == 'era5':\n",
        "                alpha = 1.0\n",
        "                pass\n",
        "            else:\n",
        "                alpha = 0.9\n",
        "\n",
        "            data = getattr(self.data, name).values.flatten()\n",
        "            era5_data = getattr(self.data, \"era5\").values.flatten()\n",
        "\n",
        "            epsilon = 1e-10\n",
        "            if name != \"era5\":\n",
        "              print(f\"Absolute Difference era5&{name} (in test period):\",int(np.sum(np.log(era5_data+epsilon))-np.sum(np.log(data+epsilon)) ))\n",
        "              print('')\n",
        "              print(f\"Absolute Difference in percent era5&{name}\",abs(np.round( (np.sum(np.log(era5_data+epsilon))- np.sum(np.log(data+epsilon)))/np.sum(np.log(era5_data+epsilon)),5)))\n",
        "              print('')\n",
        "              counts, bin_edges = np.histogram(abs(np.log(era5_data+epsilon)-np.log(data+epsilon)), bins=100)\n",
        "              bin_widths = np.diff(bin_edges)\n",
        "              area = np.sum(counts * bin_widths)\n",
        "              print(f\"Area under the Histogram era5&{name}\",int(np.round(area)))\n",
        "              if name == \"climate_model\":\n",
        "                print(\"_______________________________________________________________\")\n",
        "                print('')\n",
        "          \n",
        "            label = self.data.model_name_definition(name)\n",
        "            _ = plt.hist(abs(np.log(era5_data+epsilon)-np.log(data+epsilon)),\n",
        "                        bins=100,\n",
        "                        histtype='step',\n",
        "                        log=log,\n",
        "                        label=label,\n",
        "                        alpha=alpha,\n",
        "                        density=True,\n",
        "                        linewidth=2,\n",
        "                        color=self.data.colors(name))\n",
        "            \n",
        "  \n",
        "        \n",
        "        if ax is not None and annotate is True:\n",
        "            ax.annotate(\"b\", ha=\"center\", va=\"center\", size=15,\n",
        "                        xy=(1-0.955, 0.925), xycoords=ax,\n",
        "                        bbox=None) \n",
        "\n",
        "        plt.xlabel('Precipitation [mm/d]')\n",
        "        plt.ylabel('Histogram')\n",
        "        plt.xlim(0,30)\n",
        "        plt.grid()\n",
        "\n",
        "        \n",
        "\n",
        "        if show_legend:\n",
        "            handles, labels = ax.get_legend_handles_labels()\n",
        "            new_handles = [Line2D([], [], c=h.get_edgecolor()) for h in handles]\n",
        "\n",
        "            plt.legend(handles=reversed(new_handles), labels=reversed(labels))\n",
        "\n",
        "        if single_plot:\n",
        "            plt.show()"
      ],
      "metadata": {
        "id": "PcHg7xqCI9dh"
      },
      "execution_count": null,
      "outputs": []
    },
    {
      "cell_type": "markdown",
      "source": [
        "## Run Evaluation\n"
      ],
      "metadata": {
        "id": "VGpAmsXwFzjS"
      }
    },
    {
      "cell_type": "code",
      "source": [
        "checkpoint_path = f\"/content/gdrive/MyDrive/bias_gan/results/{runtime_instance}/last.ckpt\" \n",
        "config_path = f\"/content/gdrive/MyDrive/bias_gan/results/{runtime_instance}/config_model.json\"\n",
        "\n",
        "data = EvaluateCheckpoints(checkpoint_path=checkpoint_path, config_path=config_path, save_model=True)"
      ],
      "metadata": {
        "id": "LeBFJMy3-NSq"
      },
      "execution_count": null,
      "outputs": []
    },
    {
      "cell_type": "code",
      "source": [
        "data.run()"
      ],
      "metadata": {
        "id": "m3QONUVL_OMn"
      },
      "execution_count": null,
      "outputs": []
    },
    {
      "cell_type": "code",
      "source": [
        "test_data = data.get_test_data()"
      ],
      "metadata": {
        "id": "QZnmmO0oHfte"
      },
      "execution_count": null,
      "outputs": []
    },
    {
      "cell_type": "markdown",
      "source": [
        "# Plot  **frames**"
      ],
      "metadata": {
        "id": "rOMdYqIrEBEE"
      }
    },
    {
      "cell_type": "markdown",
      "source": [
        "## Plot single frames"
      ],
      "metadata": {
        "id": "aAh6JIg0nCC8"
      }
    },
    {
      "cell_type": "markdown",
      "source": [
        "set the chose_day parameter to plot the precipitation on a specific day"
      ],
      "metadata": {
        "id": "o7NrV7zfnELz"
      }
    },
    {
      "cell_type": "code",
      "source": [
        "chose_day=10\n",
        "\n",
        "PlotAnalysis(test_data).single_frames(time_index=chose_day)\n",
        "PlotAnalysis(test_data).single_frames(projection=\"cyl\",time_index=chose_day)"
      ],
      "metadata": {
        "id": "UdNmJG-jHyGp"
      },
      "execution_count": null,
      "outputs": []
    },
    {
      "cell_type": "markdown",
      "source": [
        "## plot of the average test_data for each data"
      ],
      "metadata": {
        "id": "rInMTAV9t7jZ"
      }
    },
    {
      "cell_type": "code",
      "source": [
        "PlotAnalysis(test_data).avg_frames(projection=\"cyl\",scale_precip_by = 1)"
      ],
      "metadata": {
        "id": "04wEV8jGnfkx"
      },
      "execution_count": null,
      "outputs": []
    },
    {
      "cell_type": "markdown",
      "source": [
        "## plot of the average **errors** between era5 & gan / climate_model"
      ],
      "metadata": {
        "id": "dZrUokXJuHxm"
      }
    },
    {
      "cell_type": "code",
      "source": [
        "PlotAnalysis(test_data).avg_frames_abs_err(projection=\"cyl\", scale_precip_by = 1)"
      ],
      "metadata": {
        "id": "xLvmxOQVgsqN"
      },
      "execution_count": null,
      "outputs": []
    },
    {
      "cell_type": "markdown",
      "source": [
        "**TODO**: plot spatial plot - mean Error - also show lands"
      ],
      "metadata": {
        "id": "M5e8_eN2Ggk7"
      }
    },
    {
      "cell_type": "markdown",
      "source": [
        "# Plot **histogram** statistics"
      ],
      "metadata": {
        "id": "lXihevAlFamY"
      }
    },
    {
      "cell_type": "markdown",
      "source": [
        "## histogram no log"
      ],
      "metadata": {
        "id": "O9B4JKnll_iR"
      }
    },
    {
      "cell_type": "markdown",
      "source": [
        "Here we plot the histogram over the daily precipitation values in the test dataset. "
      ],
      "metadata": {
        "id": "EfvPYKo3QKg5"
      }
    },
    {
      "cell_type": "code",
      "source": [
        "fig, ax = plt.subplots(1,1,figsize=(4, 4),  constrained_layout=True)\n",
        "\n",
        "PlotAnalysis(test_data).histograms(single_plot=False, ax=ax, show_legend=True, annotate=True,log=False,xlim_end=30)"
      ],
      "metadata": {
        "id": "gNlHXpskQVoF"
      },
      "execution_count": null,
      "outputs": []
    },
    {
      "cell_type": "markdown",
      "source": [
        "## histogram log on **density**"
      ],
      "metadata": {
        "id": "Et2xtAYKmCfn"
      }
    },
    {
      "cell_type": "markdown",
      "source": [
        "Because it is hard to see anything because precipitations over 50 are very rare and thus the 3 plots are right above eachother, we apply the log to the probability desnity to better see the differences."
      ],
      "metadata": {
        "id": "QYgwpz8CQYYT"
      }
    },
    {
      "cell_type": "code",
      "source": [
        "fig, ax = plt.subplots(1,1,figsize=(6, 6),  constrained_layout=True)\n",
        "\n",
        "PlotAnalysis(test_data).histograms(single_plot=False, ax=ax, show_legend=True, annotate=True,log=True)"
      ],
      "metadata": {
        "id": "fmVwmg1G3-Fb"
      },
      "execution_count": null,
      "outputs": []
    },
    {
      "cell_type": "markdown",
      "source": [
        "## plot histogram log density **differences**"
      ],
      "metadata": {
        "id": "b5VbVeqyF92W"
      }
    },
    {
      "cell_type": "markdown",
      "source": [
        "days in the test_data set"
      ],
      "metadata": {
        "id": "PyzvlWO2Lsaa"
      }
    },
    {
      "cell_type": "code",
      "source": [
        "len(getattr(test_data,\"gan\").time)"
      ],
      "metadata": {
        "id": "VQ4w2of3LT6c"
      },
      "execution_count": null,
      "outputs": []
    },
    {
      "cell_type": "code",
      "source": [
        "fig, ax = plt.subplots(1,1,figsize=(6, 6),  constrained_layout=True)\n",
        "\n",
        "PlotAnalysis(test_data).histogram_diff(single_plot=False, ax=ax, show_legend=True, annotate=True)"
      ],
      "metadata": {
        "id": "m60e1vv6F-B5"
      },
      "execution_count": null,
      "outputs": []
    },
    {
      "cell_type": "markdown",
      "source": [
        "## plot log **precipitation**"
      ],
      "metadata": {
        "id": "nolk4FVNloC9"
      }
    },
    {
      "cell_type": "markdown",
      "source": [
        "Applying the **log** to the data itself instead of to the amount of points in the bins as in the plot before results in the density to be on one scale:"
      ],
      "metadata": {
        "id": "zUlODjL9PuRr"
      }
    },
    {
      "cell_type": "code",
      "source": [
        "fig, ax = plt.subplots(1,1,figsize=(6, 6),  constrained_layout=True)\n",
        "PlotAnalysis(test_data).log_histograms(single_plot=False, ax=ax, show_legend=True, annotate=True)"
      ],
      "metadata": {
        "id": "wX7CMfFUE-JV"
      },
      "execution_count": null,
      "outputs": []
    },
    {
      "cell_type": "markdown",
      "source": [
        "## plot histogram log precipitation differences"
      ],
      "metadata": {
        "id": "jbqJBrV8O3un"
      }
    },
    {
      "cell_type": "code",
      "source": [
        "PlotAnalysis(test_data).log_histogram_diff(single_plot=False, ax=ax, show_legend=True, annotate=True)"
      ],
      "metadata": {
        "id": "qp7f8K0nO-a1"
      },
      "execution_count": null,
      "outputs": []
    },
    {
      "cell_type": "markdown",
      "source": [
        "# Plot **latitudinal** **mean**"
      ],
      "metadata": {
        "id": "tJEOwVMmFkZp"
      }
    },
    {
      "cell_type": "code",
      "source": [
        "PlotAnalysis(test_data).latitudinal_mean()"
      ],
      "metadata": {
        "id": "DkWfYREj2shn"
      },
      "execution_count": null,
      "outputs": []
    },
    {
      "cell_type": "markdown",
      "source": [
        "TODO: implement the print error method from codeocean"
      ],
      "metadata": {
        "id": "wFxNjSoApfd7"
      }
    },
    {
      "cell_type": "markdown",
      "source": [
        "# Further Evaluation methods"
      ],
      "metadata": {
        "id": "QLulOmkGm68S"
      }
    },
    {
      "cell_type": "code",
      "source": [
        "from Bias_GAN.code.src.plots import plot_gan_ensemble\n",
        "plot_gan_ensemble()"
      ],
      "metadata": {
        "id": "jTQ9Eqy2wJzN"
      },
      "execution_count": null,
      "outputs": []
    },
    {
      "cell_type": "code",
      "source": [],
      "metadata": {
        "id": "dovhiBt61Oxc"
      },
      "execution_count": null,
      "outputs": []
    },
    {
      "cell_type": "markdown",
      "source": [
        "# Implement SSIM"
      ],
      "metadata": {
        "id": "y8PqETITpXRo"
      }
    },
    {
      "cell_type": "code",
      "source": [],
      "metadata": {
        "id": "YlKppGu7pY4p"
      },
      "execution_count": null,
      "outputs": []
    }
  ]
}