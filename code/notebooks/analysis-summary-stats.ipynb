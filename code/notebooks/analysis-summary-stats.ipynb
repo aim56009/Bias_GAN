{
 "cells": [
  {
   "cell_type": "markdown",
   "id": "9221add3",
   "metadata": {
    "jp-MarkdownHeadingCollapsed": true,
    "tags": []
   },
   "source": [
    "# Evaluate Model Checkpoints\n",
    "\n",
    "Helper notebook to evaluate model checkpoints."
   ]
  },
  {
   "cell_type": "code",
   "execution_count": 1,
   "id": "3e12ee8d",
   "metadata": {},
   "outputs": [
    {
     "name": "stdout",
     "output_type": "stream",
     "text": [
      "/code\n"
     ]
    }
   ],
   "source": [
    "%load_ext autoreload\n",
    "%autoreload 2\n",
    "%cd /code"
   ]
  },
  {
   "cell_type": "code",
   "execution_count": 3,
   "id": "f7d575b8-1eab-4fe0-bdf3-45c6237a434e",
   "metadata": {},
   "outputs": [],
   "source": [
    "import os \n",
    "os.environ['PROJ_LIB'] = '/opt/conda/bin/python'"
   ]
  },
  {
   "cell_type": "code",
   "execution_count": 4,
   "id": "897d4f07",
   "metadata": {},
   "outputs": [],
   "source": [
    "%matplotlib inline\n",
    "from src.utils import show_checkpoints\n",
    "from src.inference import  EvaluateCheckpoints\n",
    "from main import Config"
   ]
  },
  {
   "cell_type": "code",
   "execution_count": 5,
   "id": "6a0f6fcd",
   "metadata": {},
   "outputs": [
    {
     "data": {
      "text/html": [
       "<div>\n",
       "<style scoped>\n",
       "    .dataframe tbody tr th:only-of-type {\n",
       "        vertical-align: middle;\n",
       "    }\n",
       "\n",
       "    .dataframe tbody tr th {\n",
       "        vertical-align: top;\n",
       "    }\n",
       "\n",
       "    .dataframe thead th {\n",
       "        text-align: right;\n",
       "    }\n",
       "</style>\n",
       "<table border=\"1\" class=\"dataframe\">\n",
       "  <thead>\n",
       "    <tr style=\"text-align: right;\">\n",
       "      <th></th>\n",
       "      <th>Creation Date</th>\n",
       "      <th>Execution Date</th>\n",
       "      <th>UUID</th>\n",
       "      <th>Path</th>\n",
       "      <th>Model name</th>\n",
       "    </tr>\n",
       "  </thead>\n",
       "  <tbody>\n",
       "  </tbody>\n",
       "</table>\n",
       "</div>"
      ],
      "text/plain": [
       "Empty DataFrame\n",
       "Columns: [Creation Date, Execution Date, UUID, Path, Model name]\n",
       "Index: []"
      ]
     },
     "metadata": {},
     "output_type": "display_data"
    }
   ],
   "source": [
    "\"\"\" Show runs for a given model name \"\"\"\n",
    "\n",
    "path = Config.checkpoint_path\n",
    "path = '/data' # directory of model checkpoints\n",
    "\n",
    "model_name = 'poem_gan'\n",
    "df = show_checkpoints(path, model_name=model_name)"
   ]
  },
  {
   "cell_type": "code",
   "execution_count": 8,
   "id": "8e7cf06c",
   "metadata": {
    "scrolled": true
   },
   "outputs": [
    {
     "name": "stdout",
     "output_type": "stream",
     "text": [
      "loading checkpoints from directory: /data\n"
     ]
    }
   ],
   "source": [
    "\"\"\"Evaluate run defined by UUID \"\"\"\n",
    "\n",
    "data = EvaluateCheckpoints(path, plot_summary=True)"
   ]
  },
  {
   "cell_type": "code",
   "execution_count": null,
   "id": "89677cf5-118f-4b8b-a512-4b2eaac04d98",
   "metadata": {},
   "outputs": [],
   "source": []
  }
 ],
 "metadata": {
  "kernelspec": {
   "display_name": "Python 3 (ipykernel)",
   "language": "python",
   "name": "python3"
  },
  "language_info": {
   "codemirror_mode": {
    "name": "ipython",
    "version": 3
   },
   "file_extension": ".py",
   "mimetype": "text/x-python",
   "name": "python",
   "nbconvert_exporter": "python",
   "pygments_lexer": "ipython3",
   "version": "3.7.4"
  }
 },
 "nbformat": 4,
 "nbformat_minor": 5
}
