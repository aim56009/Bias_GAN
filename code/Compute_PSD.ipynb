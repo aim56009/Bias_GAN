{
  "nbformat": 4,
  "nbformat_minor": 0,
  "metadata": {
    "colab": {
      "provenance": [],
      "authorship_tag": "ABX9TyNA7w9EY/wqzdZVXb1PGJ2m",
      "include_colab_link": true
    },
    "kernelspec": {
      "name": "python3",
      "display_name": "Python 3"
    },
    "language_info": {
      "name": "python"
    }
  },
  "cells": [
    {
      "cell_type": "markdown",
      "metadata": {
        "id": "view-in-github",
        "colab_type": "text"
      },
      "source": [
        "<a href=\"https://colab.research.google.com/github/aim56009/Bias_GAN/blob/master/code/Compute_PSD.ipynb\" target=\"_parent\"><img src=\"https://colab.research.google.com/assets/colab-badge.svg\" alt=\"Open In Colab\"/></a>"
      ]
    },
    {
      "cell_type": "code",
      "source": [
        "from google.colab import drive\n",
        "drive.mount(\"/content/gdrive\")\n"
      ],
      "metadata": {
        "colab": {
          "base_uri": "https://localhost:8080/"
        },
        "id": "70VVjqUFgj1h",
        "outputId": "a298b73b-844c-49a9-9729-e03b0aebaba5"
      },
      "execution_count": 9,
      "outputs": [
        {
          "output_type": "stream",
          "name": "stdout",
          "text": [
            "Mounted at /content/gdrive\n"
          ]
        }
      ]
    },
    {
      "cell_type": "code",
      "execution_count": 10,
      "metadata": {
        "colab": {
          "base_uri": "https://localhost:8080/"
        },
        "id": "SaGkSKKaeT6-",
        "outputId": "a90411a6-1f87-401e-dc1e-2711c44a6001"
      },
      "outputs": [
        {
          "output_type": "stream",
          "name": "stdout",
          "text": [
            "Looking in indexes: https://pypi.org/simple, https://us-python.pkg.dev/colab-wheels/public/simple/\n",
            "Requirement already satisfied: numpy==1.21.2 in /usr/local/lib/python3.8/dist-packages (1.21.2)\n",
            "Looking in indexes: https://pypi.org/simple, https://us-python.pkg.dev/colab-wheels/public/simple/\n",
            "Requirement already satisfied: pysteps==1.3.2 in /usr/local/lib/python3.8/dist-packages (1.3.2)\n",
            "Requirement already satisfied: jsonschema in /usr/local/lib/python3.8/dist-packages (from pysteps==1.3.2) (4.3.3)\n",
            "Requirement already satisfied: matplotlib in /usr/local/lib/python3.8/dist-packages (from pysteps==1.3.2) (3.2.2)\n",
            "Requirement already satisfied: numpy in /usr/local/lib/python3.8/dist-packages (from pysteps==1.3.2) (1.21.2)\n",
            "Requirement already satisfied: scipy in /usr/local/lib/python3.8/dist-packages (from pysteps==1.3.2) (1.7.3)\n",
            "Requirement already satisfied: jsmin in /usr/local/lib/python3.8/dist-packages (from pysteps==1.3.2) (3.0.1)\n",
            "Requirement already satisfied: pyrsistent!=0.17.0,!=0.17.1,!=0.17.2,>=0.14.0 in /usr/local/lib/python3.8/dist-packages (from jsonschema->pysteps==1.3.2) (0.19.2)\n",
            "Requirement already satisfied: importlib-resources>=1.4.0 in /usr/local/lib/python3.8/dist-packages (from jsonschema->pysteps==1.3.2) (5.10.1)\n",
            "Requirement already satisfied: attrs>=17.4.0 in /usr/local/lib/python3.8/dist-packages (from jsonschema->pysteps==1.3.2) (22.2.0)\n",
            "Requirement already satisfied: cycler>=0.10 in /usr/local/lib/python3.8/dist-packages (from matplotlib->pysteps==1.3.2) (0.11.0)\n",
            "Requirement already satisfied: pyparsing!=2.0.4,!=2.1.2,!=2.1.6,>=2.0.1 in /usr/local/lib/python3.8/dist-packages (from matplotlib->pysteps==1.3.2) (3.0.9)\n",
            "Requirement already satisfied: python-dateutil>=2.1 in /usr/local/lib/python3.8/dist-packages (from matplotlib->pysteps==1.3.2) (2.8.2)\n",
            "Requirement already satisfied: kiwisolver>=1.0.1 in /usr/local/lib/python3.8/dist-packages (from matplotlib->pysteps==1.3.2) (1.4.4)\n",
            "Requirement already satisfied: zipp>=3.1.0 in /usr/local/lib/python3.8/dist-packages (from importlib-resources>=1.4.0->jsonschema->pysteps==1.3.2) (3.11.0)\n",
            "Requirement already satisfied: six>=1.5 in /usr/local/lib/python3.8/dist-packages (from python-dateutil>=2.1->matplotlib->pysteps==1.3.2) (1.15.0)\n"
          ]
        }
      ],
      "source": [
        "!pip install numpy==1.21.2 \n",
        "!pip install pysteps==1.3.2\n"
      ]
    },
    {
      "cell_type": "code",
      "source": [
        "from pysteps.utils.spectral import rapsd, corrcoef\n",
        "import matplotlib.pyplot as plt\n",
        "import numpy as np\n",
        "import xarray as xr\n",
        "import matplotlib.ticker as ticker\n",
        "\n",
        "\n",
        "class SpatialSpectralDensity():\n",
        "    \n",
        "    def __init__(self):\n",
        "        \n",
        "        self.time_period = ('2001', '2014')\n",
        "        self.num_times = None\n",
        "        \n",
        "        self.gan = xr.open_dataset('/content/gdrive/MyDrive/bias_gan/results/gan.nc').gan_precipitation\n",
        "        self.era5 = xr.open_dataset(f\"/content/gdrive/MyDrive/bias_gan/data_gan/pr_W5E5v2.0_regionbox_era5_1979-2014.nc\").era5_precipitation*3600*24 \n",
        "        self.poem = xr.open_dataset(f\"/content/gdrive/MyDrive/bias_gan/data_gan/pr_gfdl-esm4_historical_regionbox_1979-2014.nc\").precipitation*3600*24 \n",
        "        \n",
        "        \n",
        "\n",
        "        \n",
        "    def compute_mean_spectral_density(self, data: xr.DataArray):\n",
        "        \n",
        "        #data = data.sel(time=slice(self.time_period[0], self.time_period[1]))\n",
        "        data = data.isel(longitude=slice(0+10,59+10), latitude=slice(0+10,59+10))\n",
        "        num_frequencies = np.max((len(data.latitude.values),\n",
        "                                  len(data.longitude.values)))/2\n",
        "        mean_spectral_density = np.zeros(int(num_frequencies))\n",
        "        if self.num_times is None:\n",
        "            num_times = int(len(data.time))\n",
        "            \n",
        "        elif self.timestamp is not None:\n",
        "            num_times = 1\n",
        "            \n",
        "        else:\n",
        "            num_times = self.num_times\n",
        "        \n",
        "        for t in range(num_times):\n",
        "            if self.timestamp is not None:\n",
        "                tmp = data.sel(time=self.timestamp).values\n",
        "            else:\n",
        "                tmp = data.isel(time=t).values\n",
        "            psd, freq = rapsd(tmp, return_freq=True, normalize=True, fft_method=np.fft)\n",
        "            mean_spectral_density += psd\n",
        "        mean_spectral_density /= num_times\n",
        "        \n",
        "        return mean_spectral_density, freq\n",
        "    \n",
        "    \n",
        "    def run(self, num_times=None, timestamp=None):\n",
        "        \n",
        "        self.num_times = num_times\n",
        "        self.timestamp = timestamp\n",
        "        self.gan_psd, self.freq = self.compute_mean_spectral_density(self.gan)\n",
        "        self.era5_psd, self.freq = self.compute_mean_spectral_density(self.era5)\n",
        "        self.poem_psd, self.freq = self.compute_mean_spectral_density(self.poem)\n",
        "        #self.cmip_psd, self.freq = self.compute_mean_spectral_density(self.cmip)\n",
        "        #self.quantile_mapping_psd, self.freq = self.compute_mean_spectral_density(self.quantile_mapping)\n",
        "        \n",
        "        \n",
        "    def plot(self, axis=None, fname=None, fontsize=None, linewidth=None):\n",
        "        \n",
        "\n",
        "        if axis is None: \n",
        "            _, ax = plt.subplots(figsize=(7,6))\n",
        "        else:\n",
        "            ax = axis\n",
        "\n",
        "        plt.rcParams.update({'font.size': 12})\n",
        "        x_vals = 1/self.freq*3.75*111/2\n",
        "        ax.plot(x_vals, self.era5_psd, label='ERA5', color='k', linewidth=linewidth)\n",
        "        ax.plot(x_vals, self.poem_psd, label='CM2Mc-LPJmL', color='r', linewidth=linewidth)\n",
        "        #ax.plot(x_vals, self.cmip_psd, label='GFDL-ESM4', color='b', linewidth=linewidth)\n",
        "        #ax.plot(x_vals, self.quantile_mapping_psd, label='Quantile mapping', color='m', linewidth=linewidth)\n",
        "        ax.plot(x_vals, self.gan_psd, label='GAN', color='c', linewidth=linewidth)\n",
        "        ax.legend(loc='lower left', fontsize=fontsize)\n",
        "        ax.set_xlim(x_vals[1]+1024, x_vals[-1]-32)\n",
        "        ax.set_yscale('log', basey=2)\n",
        "        ax.set_xscale('log', basex=2)\n",
        "        ax.set_xticks([2**9, 2**10, 2**11, 2**12, 2**13])\n",
        "        ax.tick_params(axis='x', labelsize=fontsize)\n",
        "        ax.tick_params(axis='y', labelsize=fontsize)\n",
        "        ax.get_xaxis().set_major_formatter(ticker.ScalarFormatter())\n",
        "        ax.grid()\n",
        "        ax.set_ylim(4.5e-5, 0.07)\n",
        "        ax.set_xlabel(r'k [km]', fontsize=fontsize)\n",
        "        ax.set_ylabel('PSD [a.u]', fontsize=fontsize)\n",
        "        \n",
        "        if fname is not None:\n",
        "            plt.savefig(fname, format='pdf', bbox_inches='tight')"
      ],
      "metadata": {
        "id": "RQxhvjxIffmL"
      },
      "execution_count": 11,
      "outputs": []
    },
    {
      "cell_type": "code",
      "source": [
        "#from Bias_GAN.code.src.spectral_density import SpatialSpectralDensity\n",
        "ssd = SpatialSpectralDensity()\n",
        "ssd.run(num_times=None)\n",
        "\n",
        "\n",
        "fname = f'/content/gdrive/MyDrive/bias_gan/results/poem_gan_psd.pdf' \n",
        "ssd.plot(fname=fname)\n",
        "print(fname)\n",
        "\n"
      ],
      "metadata": {
        "colab": {
          "base_uri": "https://localhost:8080/",
          "height": 447
        },
        "id": "6sHO-4JKgLMH",
        "outputId": "7965befb-10cf-41be-f1d0-ba3a45a9a656"
      },
      "execution_count": 13,
      "outputs": [
        {
          "output_type": "stream",
          "name": "stdout",
          "text": [
            "/content/gdrive/MyDrive/bias_gan/results/poem_gan_psd.pdf\n"
          ]
        },
        {
          "output_type": "execute_result",
          "data": {
            "text/plain": [
              "\"\\nplot = PlotAnalysis(plot_data)\\n\\nfname = f'/results/poem_gan_single_frame.pdf' \\n\\nplot.single_frames(cmap='YlGnBu', time_index=-7, mask=True)\\nplt.rcParams.update({'font.size': 12})\\nplt.savefig(fname, format='pdf', bbox_inches='tight')\\nplt.show()\\nprint(fname)\\n\""
            ],
            "application/vnd.google.colaboratory.intrinsic+json": {
              "type": "string"
            }
          },
          "metadata": {},
          "execution_count": 13
        },
        {
          "output_type": "display_data",
          "data": {
            "text/plain": [
              "<Figure size 504x432 with 1 Axes>"
            ],
            "image/png": "[encoded data removed]"
          },
          "metadata": {
            "needs_background": "light"
          }
        }
      ]
    },
    {
      "cell_type": "code",
      "source": [],
      "metadata": {
        "id": "o0wR_7FwgLdl"
      },
      "execution_count": null,
      "outputs": []
    }
  ]
}