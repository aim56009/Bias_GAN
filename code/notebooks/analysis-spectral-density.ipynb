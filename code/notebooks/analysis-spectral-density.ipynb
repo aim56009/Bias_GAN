{
 "cells": [
  {
   "cell_type": "markdown",
   "metadata": {},
   "source": [
    "# Correcting Spatial Patterns\n",
    "\n",
    "The notebook reproduces figures shown in the main text, regarding the correction of spatial patterns (intermittency)."
   ]
  },
  {
   "cell_type": "code",
   "execution_count": 1,
   "metadata": {},
   "outputs": [
    {
     "name": "stdout",
     "output_type": "stream",
     "text": [
      "/code\n"
     ]
    }
   ],
   "source": [
    "%load_ext autoreload\n",
    "%autoreload 2\n",
    "%cd /code"
   ]
  },
  {
   "cell_type": "code",
   "execution_count": 2,
   "metadata": {},
   "outputs": [],
   "source": [
    "import os \n",
    "os.environ['PROJ_LIB'] = '/opt/conda/bin/python'"
   ]
  },
  {
   "cell_type": "code",
   "execution_count": 3,
   "metadata": {},
   "outputs": [
    {
     "name": "stdout",
     "output_type": "stream",
     "text": [
      "NumExpr defaulting to 8 threads.\n"
     ]
    }
   ],
   "source": [
    "import matplotlib.pyplot as plt\n",
    "import numpy as np\n",
    "import src.xarray_utils as xu\n",
    "import xarray as xr\n",
    "\n",
    "from src.plots import PlotAnalysis\n",
    "from src.data import TestData, load_cmip6_model, slice_time\n",
    "from src.projection_utils import ProjectionPreparation\n",
    "from src.inference import Inference, EvaluateCheckpoints, LoadData\n",
    "from src.configuration import HistoricalConfig, ProjectionConfig"
   ]
  },
  {
   "cell_type": "markdown",
   "metadata": {},
   "source": [
    "### Define params"
   ]
  },
  {
   "cell_type": "code",
   "execution_count": 4,
   "metadata": {},
   "outputs": [
    {
     "data": {
      "text/plain": [
       "HistoricalConfig(scratch_path='/results', tensorboard_path='/results/', checkpoint_path='/results/', config_path='/results/', poem_path='/data/poem_historical.nc', era5_path='/data/era5.nc', results_path='/results/', projection_path=None, train_start=1950, train_end=1951, valid_start=2001, valid_end=2004, test_start=2001, test_end=2019, model_name='poem_gan', epochs=2, progress_bar_refresh_rate=1, train_batch_size=1, test_batch_size=64, transforms=['log', 'normalize_minus1_to_plus1'], rescale=False, epsilon=0.0001, lazy=False, log_every_n_steps=10, norm_output=True, running_bias=False, run_models=False, epoch_index=50)"
      ]
     },
     "execution_count": 4,
     "metadata": {},
     "output_type": "execute_result"
    }
   ],
   "source": [
    "HistoricalConfig()"
   ]
  },
  {
   "cell_type": "code",
   "execution_count": 5,
   "metadata": {},
   "outputs": [],
   "source": [
    "gan_path = f'/data'\n",
    "\n",
    "ld = LoadData(gan_path, HistoricalConfig)\n",
    "plot_data = ld.collect_historical_data()"
   ]
  },
  {
   "cell_type": "markdown",
   "metadata": {},
   "source": [
    "### Compute PSD"
   ]
  },
  {
   "cell_type": "code",
   "execution_count": 6,
   "metadata": {},
   "outputs": [
    {
     "name": "stdout",
     "output_type": "stream",
     "text": [
      "Pysteps configuration file found at: /opt/conda/lib/python3.7/site-packages/pysteps/pystepsrc\n",
      "\n"
     ]
    }
   ],
   "source": [
    "from src.spectral_density import SpatialSpectralDensity\n",
    "ssd = SpatialSpectralDensity()\n",
    "ssd.run(num_times=None)\n"
   ]
  },
  {
   "cell_type": "markdown",
   "metadata": {},
   "source": [
    "### Plot"
   ]
  },
  {
   "cell_type": "code",
   "execution_count": 7,
   "metadata": {},
   "outputs": [
    {
     "name": "stdout",
     "output_type": "stream",
     "text": [
      "/results/poem_gan_psd.pdf\n"
     ]
    }
   ],
   "source": [
    "fname = f'/results/poem_gan_psd.pdf' \n",
    "ssd.plot(fname=fname)\n",
    "print(fname)"
   ]
  },
  {
   "cell_type": "code",
   "execution_count": 8,
   "metadata": {},
   "outputs": [
    {
     "name": "stdout",
     "output_type": "stream",
     "text": [
      "2014-12-25T00:00:00.000000000\n",
      "/results/poem_gan_single_frame.pdf\n"
     ]
    }
   ],
   "source": [
    "plot = PlotAnalysis(plot_data)\n",
    "\n",
    "fname = f'/results/poem_gan_single_frame.pdf' \n",
    "\n",
    "plot.single_frames(cmap='YlGnBu', time_index=-7, mask=True)\n",
    "plt.rcParams.update({'font.size': 12})\n",
    "plt.savefig(fname, format='pdf', bbox_inches='tight')\n",
    "plt.show()\n",
    "print(fname)"
   ]
  },
  {
   "cell_type": "code",
   "execution_count": null,
   "metadata": {},
   "outputs": [],
   "source": []
  }
 ],
 "metadata": {
  "kernelspec": {
   "display_name": "Python 3 (ipykernel)",
   "language": "python",
   "name": "python3"
  },
  "language_info": {
   "codemirror_mode": {
    "name": "ipython",
    "version": 3
   },
   "file_extension": ".py",
   "mimetype": "text/x-python",
   "name": "python",
   "nbconvert_exporter": "python",
   "pygments_lexer": "ipython3",
   "version": "3.7.4"
  }
 },
 "nbformat": 4,
 "nbformat_minor": 4
}
