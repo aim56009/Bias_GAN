{
  "nbformat": 4,
  "nbformat_minor": 0,
  "metadata": {
    "colab": {
      "provenance": [],
      "collapsed_sections": [
        "h3yHWmlizCSY"
      ],
      "include_colab_link": true
    },
    "kernelspec": {
      "name": "python3",
      "display_name": "Python 3"
    },
    "language_info": {
      "name": "python"
    },
    "gpuClass": "standard",
    "accelerator": "GPU"
  },
  "cells": [
    {
      "cell_type": "markdown",
      "metadata": {
        "id": "view-in-github",
        "colab_type": "text"
      },
      "source": [
        "<a href=\"https://colab.research.google.com/github/aim56009/Bias_GAN/blob/master/code/run_notebook.ipynb\" target=\"_parent\"><img src=\"https://colab.research.google.com/assets/colab-badge.svg\" alt=\"Open In Colab\"/></a>"
      ]
    },
    {
      "cell_type": "markdown",
      "source": [
        "# Imports "
      ],
      "metadata": {
        "id": "h3yHWmlizCSY"
      }
    },
    {
      "cell_type": "code",
      "source": [
        "from google.colab import drive\n",
        "drive.mount(\"/content/gdrive\")\n",
        "#%cd \"/content/gdrive/MyDrive/data_gan\""
      ],
      "metadata": {
        "id": "pM43-ErszEe2"
      },
      "execution_count": null,
      "outputs": []
    },
    {
      "cell_type": "code",
      "source": [
        "!git clone https://github.com/aim56009/Bias_GAN.git"
      ],
      "metadata": {
        "id": "UabaOuiKzJtx"
      },
      "execution_count": null,
      "outputs": []
    },
    {
      "cell_type": "code",
      "source": [
        "%%capture\n",
        "!pip install pytorch_lightning"
      ],
      "metadata": {
        "id": "yg_fJ3Fi0rzt"
      },
      "execution_count": null,
      "outputs": []
    },
    {
      "cell_type": "code",
      "source": [
        "!pip install importlib-metadata==4.0.1\n",
        "!pip install xarray==0.18.1"
      ],
      "metadata": {
        "id": "zGlKJUfZe1Nb"
      },
      "execution_count": null,
      "outputs": []
    },
    {
      "cell_type": "code",
      "source": [
        "from argparse import ArgumentParser\n",
        "import warnings\n",
        "warnings.filterwarnings('ignore')\n",
        "from dataclasses import dataclass, field\n",
        "from typing import List\n",
        "import getpass\n",
        "\n",
        "#from Bias_GAN.code.src.trainer import train_cycle_gan"
      ],
      "metadata": {
        "id": "ctpYd5RO0GJ3"
      },
      "execution_count": null,
      "outputs": []
    },
    {
      "cell_type": "markdown",
      "source": [
        "# Training"
      ],
      "metadata": {
        "id": "BDZR-hows48Z"
      }
    },
    {
      "cell_type": "code",
      "source": [
        "import pytorch_lightning as pl\n",
        "from pytorch_lightning.loggers import TensorBoardLogger\n",
        "import json\n",
        "\n",
        "from Bias_GAN.code.src.model import CycleGAN\n",
        "from Bias_GAN.code.src.data import DataModule\n",
        "from Bias_GAN.code.src.utils import get_version, set_environment, get_checkpoint_path, save_config\n",
        "from Bias_GAN.code.src.callbacks import get_cycle_gan_callbacks"
      ],
      "metadata": {
        "id": "IRy8p9GeConu"
      },
      "execution_count": null,
      "outputs": []
    },
    {
      "cell_type": "code",
      "source": [
        "def train_cycle_gan(config):\n",
        "    \"\"\" Main routing to train the Cycle GAN \"\"\"\n",
        "    \n",
        "    config = Config()\n",
        "    version = get_version()\n",
        "    print(f'Running model: {version}')\n",
        "    checkpoint_path = get_checkpoint_path(config, version)\n",
        "    set_environment()\n",
        "    print(\"checkpoint_path before:\",checkpoint_path) \n",
        "    tb_logger = TensorBoardLogger(config.tensorboard_path,\n",
        "                           name=config.model_name,\n",
        "                           default_hp_metric=False,\n",
        "                           version = checkpoint_path)\n",
        "                           #version = version\n",
        "\n",
        "    trainer = pl.Trainer(gpus = 1,\n",
        "                         max_epochs = config.epochs,\n",
        "                         precision = 16, \n",
        "                         #progress_bar_refresh_rate = config.progress_bar_refresh_rate,\n",
        "                         callbacks = get_cycle_gan_callbacks(checkpoint_path),\n",
        "                         num_sanity_val_steps = 1,\n",
        "                         logger = tb_logger,\n",
        "                         log_every_n_steps = config.log_every_n_steps,\n",
        "                         deterministic = False) \n",
        "\n",
        "    datamodule = DataModule(config, training_batch_size = config.train_batch_size,\n",
        "                                    test_batch_size = config.test_batch_size)\n",
        "\n",
        "    datamodule.setup(\"fit\")\n",
        "\n",
        "    model = CycleGAN(epoch_decay = config.epochs // 2,\n",
        "                     running_bias=config.running_bias)\n",
        "    \n",
        "    #model = MyLightningModule.load_from_checkpoint(\"/path/to/checkpoint.ckpt\")\n",
        "\n",
        "    trainer.fit(model, datamodule)\n",
        "\n",
        "    print('Training finished')\n",
        "    return model"
      ],
      "metadata": {
        "id": "efWHPrX2Ck9K"
      },
      "execution_count": null,
      "outputs": []
    },
    {
      "cell_type": "code",
      "source": [
        "\"\"\"\n",
        "import pytorch_lightning as pl\n",
        "from pytorch_lightning.loggers import TensorBoardLogger\n",
        "\n",
        "from Bias_GAN.code.src.model import CycleGAN\n",
        "from Bias_GAN.code.src.data import DataModule\n",
        "from Bias_GAN.code.src.utils import get_version, set_environment, get_checkpoint_path, save_config\n",
        "from Bias_GAN.code.src.callbacks import get_cycle_gan_callbacks\n",
        "\n",
        "import json\n",
        "\n",
        "\n",
        "config = Config()\n",
        "version = get_version()\n",
        "print(f'Running model: {version}')\n",
        "#print(json.dumps(config.__dict__, indent=4))\n",
        "checkpoint_path = get_checkpoint_path(config, version)\n",
        "print(\"checkpoint_path before:\",checkpoint_path)\n",
        "\n",
        "\n",
        "\n",
        "tb_logger = TensorBoardLogger(config.tensorboard_path,\n",
        "                           name=config.model_name,\n",
        "                           default_hp_metric=False,\n",
        "                           version = version)\n",
        "\n",
        "trainer = pl.Trainer(gpus = 1,\n",
        "                         max_epochs = config.epochs,\n",
        "                         precision = 16, \n",
        "                         callbacks = get_cycle_gan_callbacks(checkpoint_path),\n",
        "                         num_sanity_val_steps = 1,\n",
        "                         logger = tb_logger,\n",
        "                         log_every_n_steps = config.log_every_n_steps,\n",
        "                         deterministic = False)\n",
        "\"\"\"\n"
      ],
      "metadata": {
        "id": "Av1Rjx2QusaI"
      },
      "execution_count": null,
      "outputs": []
    },
    {
      "cell_type": "markdown",
      "source": [
        "# Config"
      ],
      "metadata": {
        "id": "Bq-nYOq2tAfe"
      }
    },
    {
      "cell_type": "code",
      "execution_count": null,
      "metadata": {
        "id": "RDSas-G6yYG1"
      },
      "outputs": [],
      "source": [
        "@dataclass\n",
        "class Config:\n",
        "    \"\"\" \n",
        "    Training configuration parameters. For model evaluation parameters see\n",
        "    src/configuration.py.\n",
        "    \"\"\"\n",
        "    \n",
        "    scratch_path: str = '/content/gdrive/MyDrive/bias_gan/results'\n",
        "    tensorboard_path: str = f'{scratch_path}/'\n",
        "    checkpoint_path: str = f'{scratch_path}/'\n",
        "    config_path: str = f'{scratch_path}/'\n",
        "    poem_path: str = f\"/content/gdrive/MyDrive/bias_gan/data_gan/pr_gfdl-esm4_historical_regionbox_1979-2014.nc\"\n",
        "    era5_path: str = f\"/content/gdrive/MyDrive/bias_gan/data_gan/pr_W5E5v2.0_regionbox_era5_1979-2014.nc\"\n",
        "   \n",
        "\n",
        "    results_path: str = f'{scratch_path}/'\n",
        "    projection_path: str = None\n",
        "\n",
        "    train_start: int = 1979\n",
        "    train_end: int = 1980 # set to 2000 for full run\n",
        "    valid_start: int = 2004 #was 2001\n",
        "    valid_end: int = 2004\n",
        "    test_start: int = 2004\n",
        "    test_end: int = 2014\n",
        "    \n",
        "    model_name: str = 'tibet_gan'\n",
        "\n",
        "    epochs: int = 2 # set to 250 for reproduction\n",
        "    progress_bar_refresh_rate: int = 1\n",
        "    train_batch_size: int = 1\n",
        "    test_batch_size: int = 64\n",
        "    transforms: List = field(default_factory=lambda: ['log', 'normalize_minus1_to_plus1'])\n",
        "    rescale: bool = False\n",
        "    epsilon: float = 0.0001\n",
        "    lazy: bool = False\n",
        "    log_every_n_steps: int = 2 ### was 10\n",
        "    norm_output: bool = True\n",
        "    running_bias: bool = False\n",
        "\n",
        "\n",
        "def main():\n",
        "    _ = train_cycle_gan(Config())"
      ]
    },
    {
      "cell_type": "markdown",
      "source": [
        "# Run"
      ],
      "metadata": {
        "id": "3cAL47h6s7RG"
      }
    },
    {
      "cell_type": "code",
      "source": [
        "main()"
      ],
      "metadata": {
        "id": "Cid_5UwLyttz"
      },
      "execution_count": null,
      "outputs": []
    },
    {
      "cell_type": "code",
      "source": [
        "from datetime import datetime\n",
        "time = datetime.now().time().strftime(\"%Hh_%Mm_%Ss\")\n",
        "date = datetime.now().date().strftime(\"%Y_%m_%d\")\n",
        "f'{Config.config_path}config_model_{date}_{time}.json'"
      ],
      "metadata": {
        "id": "wB6JyrPRXu_9"
      },
      "execution_count": null,
      "outputs": []
    },
    {
      "cell_type": "code",
      "source": [
        "f'{Config.config_path}config_model_{version}.json'"
      ],
      "metadata": {
        "id": "qTbxv6VyJ_xt"
      },
      "execution_count": null,
      "outputs": []
    },
    {
      "cell_type": "code",
      "source": [
        "def save_config(config, version):\n",
        "    import json\n",
        "    uuid_legth = 36\n",
        "    fname = f'{config.config_path}config_model_{version[len(version)-uuid_legth:]}.json'\n",
        "    #fname = f'config_model_{version[len(version)-uuid_legth:]}.json'\n",
        "    with open(fname, 'w') as file:\n",
        "        file.write(json.dumps(vars(config))) "
      ],
      "metadata": {
        "id": "XFdCIKezKDG4"
      },
      "execution_count": null,
      "outputs": []
    },
    {
      "cell_type": "code",
      "source": [
        "uuid_legth = 36\n",
        "f'{config.config_path}config_model_{version[len(version)-uuid_legth:]}.json'"
      ],
      "metadata": {
        "id": "sTeJ7RaAZJRN"
      },
      "execution_count": null,
      "outputs": []
    },
    {
      "cell_type": "code",
      "source": [
        "def get_checkpoint_path(config, version):\n",
        "\n",
        "    model_name = config.model_name    \n",
        "    checkpoint_path = config.checkpoint_path\n",
        "    uuid_legth = 36\n",
        "    date_legth = 10\n",
        "\n",
        "    checkpoint_path = f'{Config.checkpoint_path}/{\"tibet_gan\"}/{version[len(version)-uuid_legth:][:-1]}'\n",
        "\n",
        "    Path(path).mkdir(parents=True, exist_ok=True)\n",
        "\n",
        "    return path"
      ],
      "metadata": {
        "id": "wdr6F5V-KF2V"
      },
      "execution_count": null,
      "outputs": []
    },
    {
      "cell_type": "code",
      "source": [
        "uuid_legth = 36\n",
        "date_legth = 10\n",
        "print(checkpoint_path)\n",
        "#f'{checkpoint_path[:-1]}/{\"tibet_gan\"}/{version[:date_legth]}/{version[len(version)-uuid_legth:]}'\n",
        "f'{Config.checkpoint_path}/{\"tibet_gan\"}/{version[len(version)-uuid_legth:][:-1]}'"
      ],
      "metadata": {
        "id": "G9eq2TbBPFcg"
      },
      "execution_count": null,
      "outputs": []
    },
    {
      "cell_type": "code",
      "source": [
        "Config.checkpoint_path"
      ],
      "metadata": {
        "id": "tIoB5ElbPHFH"
      },
      "execution_count": null,
      "outputs": []
    },
    {
      "cell_type": "code",
      "source": [],
      "metadata": {
        "id": "pj4vNt8OPi8p"
      },
      "execution_count": null,
      "outputs": []
    }
  ]
}