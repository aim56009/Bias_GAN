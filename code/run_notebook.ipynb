{
  "nbformat": 4,
  "nbformat_minor": 0,
  "metadata": {
    "colab": {
      "provenance": [],
      "collapsed_sections": [
        "BDZR-hows48Z",
        "We_xzajk-9xY",
        "bgA1wp1y-yxZ",
        "ecz59xDYFx7c"
      ],
      "machine_shape": "hm",
      "include_colab_link": true
    },
    "kernelspec": {
      "name": "python3",
      "display_name": "Python 3"
    },
    "language_info": {
      "name": "python"
    },
    "gpuClass": "premium",
    "accelerator": "GPU"
  },
  "cells": [
    {
      "cell_type": "markdown",
      "metadata": {
        "id": "view-in-github",
        "colab_type": "text"
      },
      "source": [
        "<a href=\"https://colab.research.google.com/github/aim56009/Bias_GAN/blob/master/code/run_notebook.ipynb\" target=\"_parent\"><img src=\"https://colab.research.google.com/assets/colab-badge.svg\" alt=\"Open In Colab\"/></a>"
      ]
    },
    {
      "cell_type": "markdown",
      "source": [
        "# Imports "
      ],
      "metadata": {
        "id": "h3yHWmlizCSY"
      }
    },
    {
      "cell_type": "code",
      "source": [
        "gpu_info = !nvidia-smi\n",
        "gpu_info = '\\n'.join(gpu_info)\n",
        "if gpu_info.find('failed') >= 0:\n",
        "  print('Not connected to a GPU')\n",
        "else:\n",
        "  print(gpu_info)"
      ],
      "metadata": {
        "colab": {
          "base_uri": "https://localhost:8080/"
        },
        "id": "UtBBY2Vx4kVx",
        "outputId": "5fccbffc-208a-4ee9-9c86-5f95fa4021e4"
      },
      "execution_count": 1,
      "outputs": [
        {
          "output_type": "stream",
          "name": "stdout",
          "text": [
            "Fri Jan 27 08:23:25 2023       \n",
            "+-----------------------------------------------------------------------------+\n",
            "| NVIDIA-SMI 510.47.03    Driver Version: 510.47.03    CUDA Version: 11.6     |\n",
            "|-------------------------------+----------------------+----------------------+\n",
            "| GPU  Name        Persistence-M| Bus-Id        Disp.A | Volatile Uncorr. ECC |\n",
            "| Fan  Temp  Perf  Pwr:Usage/Cap|         Memory-Usage | GPU-Util  Compute M. |\n",
            "|                               |                      |               MIG M. |\n",
            "|===============================+======================+======================|\n",
            "|   0  Tesla T4            Off  | 00000000:00:04.0 Off |                    0 |\n",
            "| N/A   60C    P8    10W /  70W |      0MiB / 15360MiB |      0%      Default |\n",
            "|                               |                      |                  N/A |\n",
            "+-------------------------------+----------------------+----------------------+\n",
            "                                                                               \n",
            "+-----------------------------------------------------------------------------+\n",
            "| Processes:                                                                  |\n",
            "|  GPU   GI   CI        PID   Type   Process name                  GPU Memory |\n",
            "|        ID   ID                                                   Usage      |\n",
            "|=============================================================================|\n",
            "|  No running processes found                                                 |\n",
            "+-----------------------------------------------------------------------------+\n"
          ]
        }
      ]
    },
    {
      "cell_type": "code",
      "source": [
        "from google.colab import drive\n",
        "drive.mount(\"/content/gdrive\")"
      ],
      "metadata": {
        "id": "pM43-ErszEe2",
        "colab": {
          "base_uri": "https://localhost:8080/"
        },
        "outputId": "c8ca1d74-46e0-44a1-9793-c5c236bafbdc"
      },
      "execution_count": 2,
      "outputs": [
        {
          "output_type": "stream",
          "name": "stdout",
          "text": [
            "Mounted at /content/gdrive\n"
          ]
        }
      ]
    },
    {
      "cell_type": "code",
      "source": [
        "!git clone https://github.com/aim56009/Bias_GAN.git"
      ],
      "metadata": {
        "id": "UabaOuiKzJtx",
        "outputId": "cb8b41b6-e245-4197-81ee-b78391ac781b",
        "colab": {
          "base_uri": "https://localhost:8080/"
        }
      },
      "execution_count": 3,
      "outputs": [
        {
          "output_type": "stream",
          "name": "stdout",
          "text": [
            "Cloning into 'Bias_GAN'...\n",
            "remote: Enumerating objects: 522, done.\u001b[K\n",
            "remote: Counting objects: 100% (323/323), done.\u001b[K\n",
            "remote: Compressing objects: 100% (146/146), done.\u001b[K\n",
            "remote: Total 522 (delta 182), reused 309 (delta 172), pack-reused 199\u001b[K\n",
            "Receiving objects: 100% (522/522), 98.29 MiB | 15.12 MiB/s, done.\n",
            "Resolving deltas: 100% (306/306), done.\n"
          ]
        }
      ]
    },
    {
      "cell_type": "code",
      "source": [
        "%%capture\n",
        "!pip install pytorch_lightning\n",
        "from pytorch_lightning.loggers import TensorBoardLogger\n",
        "#TensorBoardLogger(\"ls\")"
      ],
      "metadata": {
        "id": "3Auznd5f_8rf"
      },
      "execution_count": 4,
      "outputs": []
    },
    {
      "cell_type": "code",
      "source": [
        "%%capture\n",
        "!pip install pytorch_lightning\n",
        "!pip install basemap\n",
        "!pip install importlib-metadata==4.0.1\n",
        "!pip install xarray==0.18.1\n",
        "!pip install torchvision"
      ],
      "metadata": {
        "id": "yg_fJ3Fi0rzt"
      },
      "execution_count": 5,
      "outputs": []
    },
    {
      "cell_type": "code",
      "source": [
        "from argparse import ArgumentParser\n",
        "import warnings\n",
        "warnings.filterwarnings('ignore')\n",
        "from dataclasses import dataclass, field\n",
        "from typing import List\n",
        "import getpass\n",
        "\n",
        "%load_ext autoreload\n",
        "%autoreload 2\n",
        "\n",
        "%matplotlib inline\n",
        "from Bias_GAN.code.src.utils import show_checkpoints\n",
        "\n",
        "import os\n",
        "import xarray as xr\n",
        "import torch\n",
        "from IPython.display import Image, display\n",
        "\n",
        "from Bias_GAN.code.src.model import  DataModule, ConstrainedGenerator\n",
        "from Bias_GAN.code.src.data import TestData, CycleDataset, ProjectionDataset,  load_cmip6_model, CMIP6Data\n",
        "from Bias_GAN.code.src.plots import PlotAnalysis\n",
        "from Bias_GAN.code.src.utils import log_transform, inv_norm_transform, inv_log_transform, inv_norm_minus1_to_plus1_transform, norm_minus1_to_plus1_transform, config_from_file\n",
        "from Bias_GAN.code.src.projection_utils import ProjectionPreparation\n",
        "from Bias_GAN.code.src.xarray_utils import write_dataset\n",
        "\n",
        "import pytorch_lightning as pl\n",
        "from pytorch_lightning.loggers import TensorBoardLogger\n",
        "import json\n",
        "\n",
        "from Bias_GAN.code.src.model import CycleGAN\n",
        "from Bias_GAN.code.src.data import DataModule\n",
        "from Bias_GAN.code.src.utils import get_version, set_environment, get_checkpoint_path, save_config\n",
        "from Bias_GAN.code.src.callbacks import get_cycle_gan_callbacks\n",
        "\n",
        "from pytorch_lightning.callbacks import Callback\n",
        "import glob\n",
        "from datetime import datetime\n",
        "from uuid import uuid1\n",
        "from io import BytesIO\n",
        "from PIL import Image\n",
        "import torchvision\n",
        "\n",
        "import xarray as xr\n",
        "import matplotlib\n",
        "import matplotlib.pyplot as plt\n",
        "import numpy as np\n",
        "import matplotlib.ticker\n",
        "from mpl_toolkits.basemap import Basemap\n",
        "from mpl_toolkits.axes_grid1 import make_axes_locatable\n",
        "from matplotlib.lines import Line2D"
      ],
      "metadata": {
        "id": "ctpYd5RO0GJ3"
      },
      "execution_count": 6,
      "outputs": []
    },
    {
      "cell_type": "markdown",
      "source": [
        "# Define plot functions"
      ],
      "metadata": {
        "id": "cUzMub7XI6cE"
      }
    },
    {
      "cell_type": "markdown",
      "source": [
        "### baseplot function"
      ],
      "metadata": {
        "id": "Q5qxiDNZ1rh6"
      }
    },
    {
      "cell_type": "code",
      "source": [
        "def plot_basemap(data: xr.DataArray,\n",
        "                cbar_title: str,\n",
        "                vmin: float,\n",
        "                vmax: float,\n",
        "                alpha: float,\n",
        "                cmap: str,\n",
        "                cbar=True,\n",
        "                cbar_extend='max',\n",
        "                cbar_position='right',\n",
        "                return_cs=False,\n",
        "                axis=None,\n",
        "                plot_mask=False,\n",
        "                draw_coordinates=False,\n",
        "                parallel_label=[1, 0, 0, 0],\n",
        "                meridian_label=[0, 0, 0, 1],\n",
        "                contours=None,\n",
        "                fig=None,\n",
        "                projection='mill',\n",
        "                contourf=False,\n",
        "                map_resolution='c',\n",
        "                vmin_contours=0.15,\n",
        "                vmax_contours=0.40,\n",
        "                mask_threshold=1):\n",
        "\n",
        "    import matplotlib.pyplot as plt\n",
        "    \n",
        "    if axis is not None:\n",
        "        cbar_plt = plt\n",
        "        plt = axis\n",
        "\n",
        "    lats = data.latitude\n",
        "    lons = data.longitude\n",
        "\n",
        "    if projection == 'mill':\n",
        "        lon_0 = 0\n",
        "    else:\n",
        "        lon_0 = -180 \n",
        "    \n",
        "    m = Basemap(llcrnrlon=lons[0], llcrnrlat=lats[0],\n",
        "                urcrnrlon=lons[-1], urcrnrlat=lats[-1],\n",
        "                projection=projection, lon_0=lon_0, \n",
        "                resolution=map_resolution, ax=axis)\n",
        "    \n",
        "    m.drawcounties()\n",
        "    m.drawcoastlines(color='k', linewidth=0.5)\n",
        "  \n",
        "    if draw_coordinates:\n",
        "        par = m.drawparallels(\n",
        "                              [-90, -60, 0, 60, 90],\n",
        "                              #[-90, -45, 0, 45, 90],\n",
        "                              linewidth=1.0,\n",
        "                              labels=parallel_label,\n",
        "                              color='grey')\n",
        "\n",
        "        merid = m.drawmeridians(\n",
        "                                [ -90, 0, 90, 180],\n",
        "                                #[-120, -60, 0, 60, 120, 180],\n",
        "                                linewidth=1.0,\n",
        "                                labels=meridian_label,\n",
        "                                color='grey')\n",
        "    \n",
        "    Lon, Lat = np.meshgrid(lons, lats)\n",
        "    \n",
        "    x, y = m(Lon, Lat)\n",
        "                    \n",
        "    if contourf:\n",
        "        cs = plt.contourf(x, y, data, 500, vmin=vmin, vmax=vmax,\n",
        "                        alpha=alpha, cmap=cmap,\n",
        "                        linewidth=0, shading='auto', extend='max')\n",
        "    else:\n",
        "        cs = plt.pcolormesh(x, y, data, vmin=vmin, vmax=vmax,\n",
        "                        alpha=alpha, cmap=cmap,\n",
        "                        linewidth=0, shading='auto')\n",
        "\n",
        "    if plot_mask is True:\n",
        "        mask = np.ma.masked_where(data > mask_threshold, data)\n",
        "        plt.pcolormesh(x,y, mask, vmin=-1, vmax=-1, alpha=1.0, cmap='Greys',shading='auto')\n",
        "\n",
        "    if contours is not None:\n",
        "        cs2 = plt.contour(x, y, abs(contours), 8, \n",
        "                            alpha=1.0, cmap='YlOrRd',\n",
        "                            linewidth=4.0, shading='auto')\n",
        "    if axis is None:\n",
        "        ax = plt.gca()\n",
        "        divider = make_axes_locatable(ax)\n",
        "        cax = divider.append_axes(cbar_position, size=\"1.5%\", pad=0.4)\n",
        "        cbar_plt = cax\n",
        "    if cbar:\n",
        "\n",
        "        if axis is not None:\n",
        "            ax = cbar_plt.gca()\n",
        "            divider = make_axes_locatable(ax)\n",
        "            cax = divider.append_axes(cbar_position, size=\"2.5%\", pad=0.2)\n",
        "            cbar = cbar_plt.colorbar(cs, cax=cax,  label=cbar_title, extend=cbar_extend)\n",
        "        else:\n",
        "            cbar = plt.colorbar(cs, cax=cax,  label=cbar_title, extend=cbar_extend)\n",
        "\n",
        "        cbar.solids.set(alpha=1)\n",
        "        if cbar_position == 'left':\n",
        "            cbar.ax.yaxis.set_ticks_position('left')\n",
        "            cbar.ax.yaxis.set_label_position('left')\n",
        "\n",
        "        if contours is not None:\n",
        "            norm = matplotlib.colors.Normalize(vmin=cs2.cvalues.min(), vmax=cs2.cvalues.max())\n",
        "            sm = plt.cm.ScalarMappable(norm=norm, cmap = cs2.cmap)\n",
        "            sm.set_array([])\n",
        "\n",
        "            #cax = divider.new_vertical(size=\"3%\", pad=0.2, pack_start=True)\n",
        "            cax = divider.append_axes('right', size=\"1.5%\", pad=0.2)\n",
        "            #fig.add_axes(cax)\n",
        "            fig.colorbar(sm,\n",
        "                         ticks=cs2.levels,\n",
        "                         cax=cax,\n",
        "                         #orientation=\"horizontal\",\n",
        "                         orientation=\"vertical\",\n",
        "                         extend='max',\n",
        "                         label='Feature importance [a.u.]')\n",
        "\n",
        "    else:\n",
        "        #cax = divider.append_axes(\"right\", size=\"2%\", pad=0.15)\n",
        "        if axis is None:\n",
        "            cax.set_visible(False)\n",
        "    if return_cs:\n",
        "        return cs"
      ],
      "metadata": {
        "id": "5sdeirFX1u9R"
      },
      "execution_count": 62,
      "outputs": []
    },
    {
      "cell_type": "markdown",
      "source": [
        "### Plot Analysis fct"
      ],
      "metadata": {
        "id": "hrQ-wUsQ1vwB"
      }
    },
    {
      "cell_type": "code",
      "source": [
        "def plot_reconstruction(plot_data, vmin=0,\n",
        "                          vmax=20,\n",
        "                          time_index=-1,\n",
        "                          cmap='Blues',\n",
        "                          mask=False,\n",
        "                          single_plot=False,\n",
        "                          projection=\"robin\",\n",
        "                          scale_precip_by=1):\n",
        "    fig, axs = plt.subplots(1, 1, figsize=(12,7),  constrained_layout=True)\n",
        "    alpha = 1.0 \n",
        "    data = abs(plot_data[\"gan_reconstruct\"].isel(time=time_index))\n",
        "  \n",
        "    plt.title(\"reconstructed gan data \")\n",
        "    cbar = False\n",
        "    cbar_title = ''\n",
        "    cs = plot_basemap(scale_precip_by*data, cbar_title, vmin, vmax, alpha, cmap,cbar=cbar,axis=None,return_cs=True,projection=projection,map_resolution='c',plot_mask=mask)\n",
        "              \n",
        "    norm = matplotlib.colors.Normalize(vmin=vmin, vmax=vmax)\n",
        "    sm = plt.cm.ScalarMappable(norm=norm, cmap = cmap)\n",
        "    sm.set_array([])\n",
        "\n",
        "    cbar = fig.colorbar(sm,ax=axs,location='bottom',shrink=0.4,aspect=10,extend='max').set_label('Precipitation [mm/d]', fontsize=13)"
      ],
      "metadata": {
        "id": "NrJ0vY1AX8l6"
      },
      "execution_count": 8,
      "outputs": []
    },
    {
      "cell_type": "code",
      "source": [
        "def plot_reconstruction_day(plot_data, vmin=0,\n",
        "                          vmax=20,\n",
        "                          time_index=-1,\n",
        "                          cmap='Blues',\n",
        "                          mask=False,\n",
        "                          single_plot=False,\n",
        "                          projection=\"robin\",\n",
        "                          scale_precip_by=1):\n",
        "    fig, axs = plt.subplots(1, 1, figsize=(12,7),  constrained_layout=True)\n",
        "    alpha = 1.0 \n",
        "    data = abs(plot_data)\n",
        "  \n",
        "    plt.title(\"reconstructed gan data \")\n",
        "    cbar = False\n",
        "    cbar_title = ''\n",
        "    cs = plot_basemap(scale_precip_by*data, cbar_title, vmin, vmax, alpha, cmap,cbar=cbar,axis=None,return_cs=True,projection=projection,map_resolution='c',plot_mask=mask)\n",
        "              \n",
        "    norm = matplotlib.colors.Normalize(vmin=vmin, vmax=vmax)\n",
        "    sm = plt.cm.ScalarMappable(norm=norm, cmap = cmap)\n",
        "    sm.set_array([])\n",
        "\n",
        "    cbar = fig.colorbar(sm,ax=axs,location='bottom',shrink=0.4,aspect=10,extend='max').set_label('Precipitation [mm/d]', fontsize=13)"
      ],
      "metadata": {
        "id": "3xkWGaI3UaC7"
      },
      "execution_count": 9,
      "outputs": []
    },
    {
      "cell_type": "code",
      "source": [
        "def plot_gan(plot_data, vmin=0,\n",
        "                          vmax=20,\n",
        "                          time_index=-1,\n",
        "                          cmap='Blues',\n",
        "                          mask=False,\n",
        "                          single_plot=False,\n",
        "                          projection=\"robin\",\n",
        "                          scale_precip_by=1):\n",
        "    fig, axs = plt.subplots(1, 1, figsize=(12,7),  constrained_layout=True)\n",
        "    alpha = 1.0 \n",
        "    data = plot_data\n",
        "  \n",
        "    plt.title(\"reconstructed gan data \")\n",
        "    cbar = False\n",
        "    cbar_title = ''\n",
        "    cs = plot_basemap(scale_precip_by*data, cbar_title, vmin, vmax, alpha, cmap,cbar=cbar,axis=None,return_cs=True,projection=projection,map_resolution='c',plot_mask=mask)\n",
        "              \n",
        "    norm = matplotlib.colors.Normalize(vmin=vmin, vmax=vmax)\n",
        "    sm = plt.cm.ScalarMappable(norm=norm, cmap = cmap)\n",
        "    sm.set_array([])\n",
        "\n",
        "    cbar = fig.colorbar(sm,ax=axs,location='bottom',shrink=0.4,aspect=10,extend='max').set_label('Precipitation [mm/d]', fontsize=13)"
      ],
      "metadata": {
        "id": "vGqWLlmwS01b"
      },
      "execution_count": 10,
      "outputs": []
    },
    {
      "cell_type": "code",
      "source": [
        "class PlotAnalysis():\n",
        "    \n",
        "    def __init__(self, data: TestData):\n",
        "        \n",
        "        self.data = data\n",
        "        self.names = ['era5', 'gan', 'climate_model']\n",
        "                 \n",
        "\n",
        "    def single_frames(self, vmin=0,\n",
        "                              vmax=20,\n",
        "                              time_index=-1,\n",
        "                              cmap='Blues',\n",
        "                              mask=False,\n",
        "                              single_plot=False,\n",
        "                              projection=\"robin\"):\n",
        "        fig, axs = plt.subplots(1, 3, figsize=(12,7),  constrained_layout=True)\n",
        "        alpha = 1.0 \n",
        "        name = ['era5','gan', 'climate_model']\n",
        "        letters = ['a', 'b', 'c']\n",
        "\n",
        "        for ax, (name, letter) in zip(axs, zip(name, letters)):\n",
        "            data = abs(getattr(self.data, name).isel(time=time_index))\n",
        "            if name == 'era5':\n",
        "                print(data.time.values)\n",
        "\n",
        "            ax.annotate(f\"{letter}\", ha=\"center\", va=\"center\", size=15,\n",
        "                        xy=(1-0.955, 0.925), xycoords=ax,\n",
        "                        bbox=None) \n",
        "            ax.set_title(self.data.model_name_definition(name))\n",
        "            plt.title(self.data.model_name_definition(name))\n",
        "\n",
        "            cbar = False\n",
        "            cbar_title = ''\n",
        "\n",
        "            cs = plot_basemap(data, cbar_title, vmin, vmax, alpha, cmap,\n",
        "                        cbar=cbar,\n",
        "                        axis=ax,\n",
        "                        return_cs=True,\n",
        "                        projection=projection,\n",
        "                        map_resolution='c',\n",
        "                        plot_mask=mask)\n",
        "                 \n",
        "        norm = matplotlib.colors.Normalize(vmin=vmin, vmax=vmax)\n",
        "        sm = plt.cm.ScalarMappable(norm=norm, cmap = cmap)\n",
        "        sm.set_array([])\n",
        "\n",
        "        cbar = fig.colorbar(sm,\n",
        "                     ax=axs,\n",
        "                     location='bottom',\n",
        "                     shrink=0.4,\n",
        "                     aspect=10,\n",
        "                     extend='max'\n",
        "                     ).set_label('Precipitation [mm/d]', fontsize=13)\n",
        "\n",
        "\n",
        "    def histograms(self, single_plot=False, ax=None, show_legend=True, annotate=True,log=True,xlim_end=400):\n",
        "\n",
        "        if single_plot:\n",
        "            plt.figure(figsize=(6,4))\n",
        "\n",
        "        if ax is None:\n",
        "            _, ax = plt.subplots()\n",
        "\n",
        "        for name in reversed(self.names):\n",
        "\n",
        "            if name == 'era5':\n",
        "                alpha = 1.0\n",
        "            else:\n",
        "                alpha = 0.9\n",
        "\n",
        "            data = getattr(self.data, name).values.flatten()\n",
        "            era5_data = getattr(self.data, \"era5\").values.flatten()\n",
        "            if name != \"era5\":\n",
        "              print(f\" Absolute Difference era5&{name} (in test period):\",int(np.sum(era5_data)-np.sum(data)))\n",
        "              print('')\n",
        "              print(f\" Absolute Difference in percent era5&{name}\",abs(np.round((np.sum(era5_data)-np.sum(data))/np.sum(era5_data),5)))\n",
        "              print('')\n",
        "              counts, bin_edges = np.histogram(data, density=False, bins=100)\n",
        "              bin_widths = np.diff(bin_edges)\n",
        "              area = np.sum(counts * bin_widths)\n",
        "              print(f\"Area under the Histogram era5&{name}\",int(np.round(area)))\n",
        "              if name == \"climate_model\":\n",
        "                print(\"_______________________________________________________________\")\n",
        "                print('')\n",
        "\n",
        "\n",
        "\n",
        "            \n",
        "            label = self.data.model_name_definition(name)\n",
        "            _ = plt.hist(data,\n",
        "                        bins=100,\n",
        "                        histtype='step',\n",
        "                        log=log,\n",
        "                        label=label,\n",
        "                        alpha=alpha,\n",
        "                        density=True,\n",
        "                        linewidth=2,\n",
        "                        color=self.data.colors(name))\n",
        "            \n",
        "        \n",
        "        if ax is not None and annotate is True:\n",
        "            ax.annotate(\"b\", ha=\"center\", va=\"center\", size=15,\n",
        "                        xy=(1-0.955, 0.925), xycoords=ax,\n",
        "                        bbox=None) \n",
        "\n",
        "        plt.xlabel('Precipitation [mm/d]')\n",
        "        plt.ylabel('Histogram')\n",
        "        plt.xlim(0,xlim_end)\n",
        "        plt.grid()\n",
        "        if show_legend:\n",
        "            handles, labels = ax.get_legend_handles_labels()\n",
        "            new_handles = [Line2D([], [], c=h.get_edgecolor()) for h in handles]\n",
        "\n",
        "            plt.legend(handles=reversed(new_handles), labels=reversed(labels))\n",
        "\n",
        "        if single_plot:\n",
        "            plt.show()\n",
        "\n",
        "    def latitudinal_mean(self, single_plot=False, ax=None, show_legend=True, annotate=True):\n",
        "        if single_plot:\n",
        "            plt.figure(figsize=(12,8))\n",
        "        names = self.names\n",
        "        for name in reversed(names):\n",
        "            if name == 'era5':\n",
        "                alpha = 1.0\n",
        "                linestyle = '--'\n",
        "            else:\n",
        "                alpha = 0.9\n",
        "                linestyle= '-'\n",
        "      \n",
        "            data = getattr(self.data, name)\n",
        "            label = self.data.model_name_definition(name)\n",
        "            if name != \"era5\":\n",
        "                era5_data = getattr(self.data, \"era5\")\n",
        "                bias = data.mean('time') - era5_data.mean('time') \n",
        "                print(label,f\" \\t \\t MAE: {abs(bias).values.mean():2.3f} [mm/d]\")\n",
        "\n",
        "            data = data.mean(dim=(\"longitude\", \"time\"))\n",
        "            \n",
        "            plt.plot(data.latitude, data,\n",
        "                     label=label,\n",
        "                     alpha=alpha,\n",
        "                     linestyle=linestyle,\n",
        "                     linewidth=2,\n",
        "                     color=self.data.colors(name))\n",
        "        \n",
        "        if ax is not None and annotate is True:\n",
        "           ax.annotate(\"a\", ha=\"center\", va=\"center\", size=15,\n",
        "                     xy=(1-0.955, 0.925), xycoords=ax,\n",
        "                     bbox=None) \n",
        "\n",
        "        plt.ylim(0,3)\n",
        "        plt.xlim(25,58)\n",
        "        plt.xlabel('Latitude')\n",
        "        plt.ylabel('Mean precipitation [mm/d]')\n",
        "        plt.grid()\n",
        "\n",
        "        if show_legend:\n",
        "            plt.legend(loc='upper right')\n",
        "\n",
        "        if single_plot:\n",
        "            plt.show()       \n",
        "\n",
        "\n",
        "    def avg_frames_abs_err(self, vmin=0,\n",
        "                              vmax=20,\n",
        "                              time_index=-1,\n",
        "                              cmap='Blues',\n",
        "                              mask=False,\n",
        "                              single_plot=False,\n",
        "                              projection=\"robin\",\n",
        "                              scale_precip_by=1):\n",
        "        fig, axs = plt.subplots(1, 2, figsize=(12,7),  constrained_layout=True)\n",
        "        alpha = 1.0 \n",
        "        name = ['gan', 'climate_model']\n",
        "        letters = ['a', 'b']\n",
        "\n",
        "        for ax, (name, letter) in zip(axs, zip(name, letters)):\n",
        "\n",
        "            era5_data = np.mean(abs(getattr(self.data, 'era5')),axis=0) \n",
        "            data = np.mean(abs(getattr(self.data, name)),axis=0)\n",
        "\n",
        "            ax.annotate(f\"{letter}\", ha=\"center\", va=\"center\", size=15,\n",
        "                        xy=(1-0.955, 0.925), xycoords=ax,\n",
        "                        bbox=None) \n",
        "            ax.set_title(self.data.model_name_definition(name))\n",
        "            plt.title(self.data.model_name_definition(name))\n",
        "\n",
        "            cbar_title = ''\n",
        "            cs = plot_basemap(scale_precip_by*(era5_data-data), cbar_title, vmin, vmax, alpha, cmap,\n",
        "                        cbar=False,\n",
        "                        axis=ax,\n",
        "                        return_cs=True,\n",
        "                        projection=projection,\n",
        "                        map_resolution='c',\n",
        "                        plot_mask=mask)\n",
        "            print(f\"abs error era5_data- {name}:\", np.round(np.sum(np.abs(era5_data-data)).values,2))\n",
        "                 \n",
        "        norm = matplotlib.colors.Normalize(vmin=vmin, vmax=vmax)\n",
        "        sm = plt.cm.ScalarMappable(norm=norm, cmap = cmap)\n",
        "        sm.set_array([])\n",
        "\n",
        "        cbar = fig.colorbar(sm,\n",
        "                     ax=axs,\n",
        "                     location='bottom',\n",
        "                     shrink=0.4,\n",
        "                     aspect=10,\n",
        "                     extend='max'\n",
        "                     ).set_label(f'Precipitation Difference to ERA5 [mm/d] x {scale_precip_by}', fontsize=13) \n",
        "        if scale_precip_by != 1:\n",
        "            print(f\"carefull: precipitation in the plot is scaled by a factor of {scale_precip_by}\")\n",
        "\n",
        "\n",
        "    def avg_frames(self, vmin=0,\n",
        "                              vmax=20,\n",
        "                              time_index=-1,\n",
        "                              cmap='Blues',\n",
        "                              mask=False,\n",
        "                              single_plot=False,\n",
        "                              projection=\"robin\",\n",
        "                              scale_precip_by=1):\n",
        "        fig, axs = plt.subplots(1, 3, figsize=(12,7),  constrained_layout=True)\n",
        "        alpha = 1.0 \n",
        "        name = ['era5','gan', 'climate_model']\n",
        "        letters = ['a', 'b', 'c']\n",
        "        \n",
        "        \n",
        "        for ax, (name, letter) in zip(axs, zip(name, letters)):\n",
        "            data = np.mean(abs(getattr(self.data, name)),axis=0)\n",
        "\n",
        "\n",
        "            ax.annotate(f\"{letter}\", ha=\"center\", va=\"center\", size=15,\n",
        "                        xy=(1-0.955, 0.925), xycoords=ax,\n",
        "                        bbox=None) \n",
        "            ax.set_title(self.data.model_name_definition(name))\n",
        "            plt.title(self.data.model_name_definition(name))\n",
        "\n",
        "            cbar = False\n",
        "            cbar_title = ''\n",
        "\n",
        "            cs = plot_basemap(scale_precip_by*data, cbar_title, vmin, vmax, alpha, cmap,\n",
        "                        cbar=cbar,\n",
        "                        axis=ax,\n",
        "                        return_cs=True,\n",
        "                        projection=projection,\n",
        "                        map_resolution='c',\n",
        "                        plot_mask=mask)\n",
        "                 \n",
        "        norm = matplotlib.colors.Normalize(vmin=vmin, vmax=vmax)\n",
        "        sm = plt.cm.ScalarMappable(norm=norm, cmap = cmap)\n",
        "        sm.set_array([])\n",
        "\n",
        "        cbar = fig.colorbar(sm,\n",
        "                     ax=axs,\n",
        "                     location='bottom',\n",
        "                     shrink=0.4,\n",
        "                     aspect=10,\n",
        "                     extend='max'\n",
        "                     ).set_label(f'Precipitation [mm/d] x {scale_precip_by}', fontsize=13)\n",
        "\n",
        "        if scale_precip_by != 1:\n",
        "            print(f\"carefull: precipitation in the plot is scaled by a factor of {scale_precip_by}\")\n",
        "\n",
        "\n",
        "\n",
        "    def log_histograms(self, single_plot=False, ax=None, show_legend=True, annotate=True):\n",
        "\n",
        "        if single_plot:\n",
        "            plt.figure(figsize=(6,4))\n",
        "\n",
        "        if ax is None:\n",
        "            _, ax = plt.subplots()\n",
        "\n",
        "        for name in reversed(self.names):\n",
        "\n",
        "            if name == 'era5':\n",
        "                alpha = 1.0\n",
        "            else:\n",
        "                alpha = 0.9\n",
        "\n",
        "            \n",
        "            era5_data = getattr(self.data, \"era5\").values.flatten() \n",
        "            data = getattr(self.data, name).values.flatten() \n",
        "            \n",
        "            epsilon = 1e-10\n",
        "            if name != \"era5\":\n",
        "              print(f\"Absolute Difference era5&{name} (in test period):\",int(np.sum(np.log(era5_data+epsilon))-np.sum(np.log(data+epsilon))))\n",
        "              print('')\n",
        "              print(f\"Absolute Difference in percent era5&{name}\",abs(np.round((np.sum(np.log(era5_data+epsilon))-np.sum(np.log(data+epsilon)))/np.sum(abs(np.log(era5_data+epsilon))),3)))\n",
        "              print('')\n",
        "              counts, bin_edges = np.histogram(np.log(data+epsilon), bins=100)\n",
        "              bin_widths = np.diff(bin_edges)\n",
        "              area = np.sum(counts * bin_widths)\n",
        "              print(f\"Area under the Histogram era5&{name}\",int(np.round(area)))\n",
        "              if name == \"climate_model\":\n",
        "                print(\"_______________________________________________________________\")\n",
        "                print('')\n",
        "\n",
        "              \n",
        "\n",
        "            label = self.data.model_name_definition(name)\n",
        "            _ = plt.hist( np.log(data+epsilon),\n",
        "                        bins=100,\n",
        "                        histtype='step',\n",
        "                        log=False,\n",
        "                        label=label,\n",
        "                        alpha=alpha,\n",
        "                        density=True,\n",
        "                        linewidth=2,\n",
        "                        color=self.data.colors(name))\n",
        "            \n",
        "        \n",
        "        if ax is not None and annotate is True:\n",
        "            ax.annotate(\"b\", ha=\"center\", va=\"center\", size=15,xy=(1-0.955, 0.925), xycoords=ax,bbox=None) \n",
        "\n",
        "        plt.xlabel(' Precipitation [mm/d]')\n",
        "        plt.ylabel(' Precipitation Histogram')\n",
        "        plt.xlim(0,7)\n",
        "        plt.ylim(0,0.08)\n",
        "        plt.grid()\n",
        "        if show_legend:\n",
        "            handles, labels = ax.get_legend_handles_labels()\n",
        "            new_handles = [Line2D([], [], c=h.get_edgecolor()) for h in handles]\n",
        "\n",
        "            plt.legend(handles=reversed(new_handles), labels=reversed(labels))\n",
        "\n",
        "        if single_plot:\n",
        "            plt.show()\n",
        "\n",
        "    def histogram_diff(self, single_plot=False, ax=None, show_legend=True, annotate=True,log=True,xlim_end=500):\n",
        "\n",
        "        if single_plot:\n",
        "            plt.figure(figsize=(6,4))\n",
        "\n",
        "        if ax is None:\n",
        "            _, ax = plt.subplots()\n",
        "\n",
        "        for name in reversed(self.names):\n",
        "\n",
        "            if name == 'era5':\n",
        "                alpha = 1.0\n",
        "                pass\n",
        "            else:\n",
        "                alpha = 0.9\n",
        "\n",
        "            data = getattr(self.data, name).values.flatten()\n",
        "            era5_data = getattr(self.data, \"era5\").values.flatten()\n",
        "            if name != \"era5\":\n",
        "              print(f\"Absolute Difference era5&{name} (in test period):\",int(np.sum(era5_data)-np.sum(data)))\n",
        "              print('')\n",
        "              print(f\"Absolute Difference in percent era5&{name}\", abs(np.round((np.sum(era5_data)-np.sum(data) )/np.sum(era5_data),5)) )\n",
        "              print('')\n",
        "              counts, bin_edges = np.histogram(abs(era5_data-data), bins=100)\n",
        "              bin_widths = np.diff(bin_edges)\n",
        "              area = np.sum(counts * bin_widths)\n",
        "              print(f\"Area under the Histogram era5&{name}\",int(np.round(area)))\n",
        "              if name == \"climate_model\":\n",
        "                print(\"_______________________________________________________________\")\n",
        "                print('')\n",
        "\n",
        "            label = self.data.model_name_definition(name)\n",
        "            _ = plt.hist(abs(era5_data-data),\n",
        "                        bins=100,\n",
        "                        histtype='step',\n",
        "                        log=log,\n",
        "                        label=label,\n",
        "                        alpha=alpha,\n",
        "                        density=True,\n",
        "                        linewidth=2,\n",
        "                        color=self.data.colors(name))\n",
        "            \n",
        "        \n",
        "        if ax is not None and annotate is True:\n",
        "            ax.annotate(\"b\", ha=\"center\", va=\"center\", size=15,\n",
        "                        xy=(1-0.955, 0.925), xycoords=ax,\n",
        "                        bbox=None) \n",
        "\n",
        "        plt.xlabel('Precipitation [mm/d]')\n",
        "        plt.ylabel('Histogram')\n",
        "        plt.xlim(0,xlim_end)\n",
        "        plt.grid()\n",
        "        if show_legend:\n",
        "            handles, labels = ax.get_legend_handles_labels()\n",
        "            new_handles = [Line2D([], [], c=h.get_edgecolor()) for h in handles]\n",
        "\n",
        "            plt.legend(handles=reversed(new_handles), labels=reversed(labels))\n",
        "\n",
        "        if single_plot:\n",
        "            plt.show()\n",
        "\n",
        "\n",
        "    def log_histogram_diff(self, single_plot=False, ax=None, show_legend=True, annotate=True,log=True):\n",
        "\n",
        "        if single_plot:\n",
        "            plt.figure(figsize=(6,4))\n",
        "\n",
        "        if ax is None:\n",
        "            _, ax = plt.subplots()\n",
        "\n",
        "        for name in reversed(self.names):\n",
        "\n",
        "            if name == 'era5':\n",
        "                alpha = 1.0\n",
        "                pass\n",
        "            else:\n",
        "                alpha = 0.9\n",
        "\n",
        "            data = getattr(self.data, name).values.flatten()\n",
        "            era5_data = getattr(self.data, \"era5\").values.flatten()\n",
        "\n",
        "            epsilon = 1e-10\n",
        "            if name != \"era5\":\n",
        "              print(f\"Absolute Difference era5&{name} (in test period):\",int(np.sum(np.log(era5_data+epsilon))-np.sum(np.log(data+epsilon)) ))\n",
        "              print('')\n",
        "              print(f\"Absolute Difference in percent era5&{name}\",abs(np.round( (np.sum(np.log(era5_data+epsilon))- np.sum(np.log(data+epsilon)))/np.sum(np.log(era5_data+epsilon)),5)))\n",
        "              print('')\n",
        "              counts, bin_edges = np.histogram(abs(np.log(era5_data+epsilon)-np.log(data+epsilon)), bins=100)\n",
        "              bin_widths = np.diff(bin_edges)\n",
        "              area = np.sum(counts * bin_widths)\n",
        "              print(f\"Area under the Histogram era5&{name}\",int(np.round(area)))\n",
        "              if name == \"climate_model\":\n",
        "                print(\"_______________________________________________________________\")\n",
        "                print('')\n",
        "          \n",
        "            label = self.data.model_name_definition(name)\n",
        "            _ = plt.hist(abs(np.log(era5_data+epsilon)-np.log(data+epsilon)),\n",
        "                        bins=100,\n",
        "                        histtype='step',\n",
        "                        log=log,\n",
        "                        label=label,\n",
        "                        alpha=alpha,\n",
        "                        density=True,\n",
        "                        linewidth=2,\n",
        "                        color=self.data.colors(name))\n",
        "            \n",
        "  \n",
        "        \n",
        "        if ax is not None and annotate is True:\n",
        "            ax.annotate(\"b\", ha=\"center\", va=\"center\", size=15,\n",
        "                        xy=(1-0.955, 0.925), xycoords=ax,\n",
        "                        bbox=None) \n",
        "\n",
        "        plt.xlabel('Precipitation [mm/d]')\n",
        "        plt.ylabel('Histogram')\n",
        "        plt.xlim(0,30)\n",
        "        plt.grid()\n",
        "\n",
        "        \n",
        "\n",
        "        if show_legend:\n",
        "            handles, labels = ax.get_legend_handles_labels()\n",
        "            new_handles = [Line2D([], [], c=h.get_edgecolor()) for h in handles]\n",
        "\n",
        "            plt.legend(handles=reversed(new_handles), labels=reversed(labels))\n",
        "\n",
        "        if single_plot:\n",
        "            plt.show()"
      ],
      "metadata": {
        "id": "PcHg7xqCI9dh"
      },
      "execution_count": 11,
      "outputs": []
    },
    {
      "cell_type": "markdown",
      "source": [
        "# Main training loop"
      ],
      "metadata": {
        "id": "BDZR-hows48Z"
      }
    },
    {
      "cell_type": "markdown",
      "source": [
        "## define MAE callback"
      ],
      "metadata": {
        "id": "AtINdQOafvRG"
      }
    },
    {
      "cell_type": "code",
      "source": [
        "def get_version(date,time):\n",
        "\n",
        "    model_id = str(uuid1())\n",
        "    version = f'{date}_{time}'\n",
        "\n",
        "    return version"
      ],
      "metadata": {
        "id": "Nso7MQZAn-tO"
      },
      "execution_count": 12,
      "outputs": []
    },
    {
      "cell_type": "code",
      "source": [
        "def get_checkpoint_path(config, version):\n",
        "\n",
        "    model_name = config.model_name    \n",
        "    checkpoint_path = config.checkpoint_path\n",
        "    uuid_legth = 36\n",
        "    date_legth = 10\n",
        "\n",
        "    path = f'{config.checkpoint_path}{version}'\n",
        "    return path"
      ],
      "metadata": {
        "id": "3dmLbpULo7Gt"
      },
      "execution_count": 13,
      "outputs": []
    },
    {
      "cell_type": "code",
      "source": [
        "class MAE_Callback(Callback):\n",
        "    def __init__(self,logger,checkpoint_path,config, validation=True, lat_mean=False, plt_hist=False):\n",
        "        self.MAE_list = []\n",
        "        self.logger = logger\n",
        "        self.checkpoint_path = checkpoint_path\n",
        "        self.config = config\n",
        "        self.version = get_version(config.date,config.time)\n",
        "        self.validation = validation\n",
        "        self.lat_mean = lat_mean\n",
        "        self.plt_hist = plt_hist\n",
        "        \n",
        "\n",
        "    def on_train_epoch_end(self, trainer, pl_module):\n",
        "        checkpoint_files = glob.glob(str(self.checkpoint_path) + '/*.ckpt')\n",
        "        if not checkpoint_files:\n",
        "            test_data_ = None\n",
        "        else:\n",
        "            last_checkpoint = max(checkpoint_files, key=os.path.getctime)\n",
        "            data = EvaluateCheckpoints(checkpoint_path=last_checkpoint, config_path=self.config.config_path + self.version + \"/config_model.json\", save_model=True,validation=self.validation, version=self.version)\n",
        "            _, reconstruction_data = data.run()\n",
        "            test_data_ = data.get_test_data()\n",
        "\n",
        "\n",
        "        if test_data_ is None or not test_data_:\n",
        "            print(\"No test data available.\")\n",
        "            return\n",
        "\n",
        "        gan_data = getattr(test_data_, 'gan')\n",
        "        era5_data = getattr(test_data_, \"era5\")\n",
        "        bias = gan_data.mean('time') - era5_data.mean('time') \n",
        "        print(\"GAN-OBS\",f\" \\t \\t MAE: {abs(bias).values.mean():2.3f} [mm/d]\")\n",
        "        self.MAE_list.append(abs(bias).values.mean())\n",
        "        print(\"MAE_list:\",self.MAE_list)\n",
        "\n",
        "        self.log('MAE', abs(bias).values.mean())\n",
        "\n",
        "        if test_data_ is not None and self.lat_mean==True:\n",
        "            data_era5 = era5_data.mean(dim=(\"longitude\", \"time\"))\n",
        "            data_gan= gan_data.mean(dim=(\"longitude\", \"time\"))\n",
        "            plt.figure()\n",
        "            plt.plot(data_gan.latitude, data_gan.data,\n",
        "                      label=\"gan\",\n",
        "                      alpha=0.9,\n",
        "                      linestyle='-',\n",
        "                      linewidth=2,\n",
        "                      color=\"red\")\n",
        "            \n",
        "            plt.plot(data_era5.latitude, data_era5,\n",
        "                      label=\"era5\",\n",
        "                      alpha=1,\n",
        "                      linestyle='--',\n",
        "                      linewidth=2,\n",
        "                      color=\"black\")\n",
        "            \n",
        "            plt.ylim(0,3)\n",
        "            plt.xlim(25,58)\n",
        "            plt.xlabel('Latitude')\n",
        "            plt.ylabel('Mean precipitation [mm/d]')\n",
        "            plt.grid()\n",
        "            plt.legend(loc='upper right')  \n",
        "          \n",
        "            buf = BytesIO()\n",
        "            plt.savefig(buf, format='png')\n",
        "            buf.seek(0)\n",
        "            im = Image.open(buf)\n",
        "            img = torchvision.transforms.ToTensor()(im)\n",
        "            \n",
        "            self.logger.experiment.add_image(f\"latitudinal_mean\", img, trainer.current_epoch)\n",
        "\n",
        "        if test_data_ is not None and self.plt_hist==True:\n",
        "            data_gan = getattr(test_data_, \"gan\").values.flatten()\n",
        "            data_era5 = getattr(test_data_, \"era5\").values.flatten()\n",
        "            plt.figure()\n",
        "            _ = plt.hist(data_gan,\n",
        "                        bins=100,\n",
        "                        histtype='step',\n",
        "                        log=True,\n",
        "                        label=\"gan\",\n",
        "                        alpha=0.9,\n",
        "                        density=True,\n",
        "                        linewidth=2,\n",
        "                        color=\"red\")\n",
        "            \n",
        "            _ = plt.hist(data_era5,\n",
        "                        bins=100,\n",
        "                        histtype='step',\n",
        "                        log=True,\n",
        "                        label=\"era5\",\n",
        "                        alpha=1,\n",
        "                        density=True,\n",
        "                        linewidth=2,\n",
        "                        color=\"black\")\n",
        "\n",
        "            plt.xlabel('Precipitation [mm/d]')\n",
        "            plt.ylabel('Histogram')\n",
        "            plt.xlim(0,400)\n",
        "            plt.grid()\n",
        "            plt.legend(loc='upper right')\n",
        "\n",
        "            buf = BytesIO()\n",
        "            plt.savefig(buf, format='png')\n",
        "            buf.seek(0)\n",
        "            im_ = Image.open(buf)\n",
        "            img_ = torchvision.transforms.ToTensor()(im_)\n",
        "            \n",
        "            self.logger.experiment.add_image(f\"histogram\", img_, trainer.current_epoch)"
      ],
      "metadata": {
        "id": "KpchPItBC6E6"
      },
      "execution_count": 14,
      "outputs": []
    },
    {
      "cell_type": "markdown",
      "source": [
        "## Train Cycle GAN"
      ],
      "metadata": {
        "id": "RO0_lUBIfzaH"
      }
    },
    {
      "cell_type": "code",
      "source": [
        "def train_cycle_gan(config, pretrain_path=False,validation=True,track_lat_mean=False,plt_hist=False ):\n",
        "    \"\"\" Main routing to train the Cycle GAN \"\"\"\n",
        "\n",
        "    config = Config()\n",
        "    global version\n",
        "    version = get_version(config.date,config.time)\n",
        "    print(f'Running model: {version}')\n",
        "    checkpoint_path = get_checkpoint_path(config, version)\n",
        "    set_environment()\n",
        "\n",
        "    tb_logger = TensorBoardLogger(config.tensorboard_path,name=\"\",version=version,default_hp_metric=False)\n",
        "    \n",
        "    create_folder(f\"/content/gdrive/MyDrive/bias_gan/results/{version}\")\n",
        "    save_config(config, version)\n",
        "    \n",
        "    mse_callback = MAE_Callback(tb_logger,checkpoint_path,config,validation,lat_mean=track_lat_mean,plt_hist=plt_hist)\n",
        "    \n",
        "    \n",
        "    trainer = pl.Trainer(callbacks=[mse_callback] + get_cycle_gan_callbacks(checkpoint_path),\n",
        "                         gpus = 1,\n",
        "                         max_epochs = config.epochs,\n",
        "                         precision = 16, \n",
        "                         num_sanity_val_steps = 1,\n",
        "                         logger = tb_logger,\n",
        "                         log_every_n_steps = config.log_every_n_steps,\n",
        "                         deterministic = False,\n",
        "                         accelerator=accelerator,\n",
        "                         enable_model_summary=False) \n",
        "    \n",
        "\n",
        "\n",
        "    datamodule = DataModule(config, training_batch_size = config.train_batch_size,\n",
        "                                    test_batch_size = config.test_batch_size)\n",
        "\n",
        "    datamodule.setup(\"fit\")\n",
        "\n",
        "    \n",
        "    \n",
        "    if pretrain_path==False:\n",
        "      print(\"no pretraining\")\n",
        "      model = CycleGAN(d_lr=config.d_lr, g_lr=config.g_lr, beta_1=config.beta_1, beta_2=config.beta_2,\n",
        "                       epoch_decay = config.epochs // 2,running_bias=config.running_bias,num_resnet_blocks=config.num_resnet_layer, default_nbr_resnet=config.default_nbr_resnet)\n",
        "    else:\n",
        "      print(\"using pretrained model with path:\",pretrain_path)\n",
        "      model = CycleGAN(d_lr=config.d_lr, g_lr=config.g_lr, beta_1=config.beta_1, beta_2=config.beta_2,\n",
        "                       epoch_decay = config.epochs // 2, running_bias=config.running_bias,num_resnet_blocks=config.num_resnet_layer, default_nbr_resnet=config.default_nbr_resnet).load_from_checkpoint(pretrain_path)\n",
        "\n",
        "    trainer.fit(model, datamodule)\n",
        "\n",
        "    print('Training finished')\n",
        "    return model"
      ],
      "metadata": {
        "id": "efWHPrX2Ck9K"
      },
      "execution_count": 15,
      "outputs": []
    },
    {
      "cell_type": "markdown",
      "source": [
        "# Config"
      ],
      "metadata": {
        "id": "Bq-nYOq2tAfe"
      }
    },
    {
      "cell_type": "code",
      "source": [
        "load_pretrained_world_gan=False"
      ],
      "metadata": {
        "id": "fzdyv2Wdw1JG"
      },
      "execution_count": 16,
      "outputs": []
    },
    {
      "cell_type": "code",
      "execution_count": 17,
      "metadata": {
        "id": "RDSas-G6yYG1"
      },
      "outputs": [],
      "source": [
        "@dataclass\n",
        "class Config:\n",
        "    \"\"\" \n",
        "    Training configuration parameters. For model evaluation parameters see\n",
        "    src/configuration.py.\n",
        "    \"\"\"\n",
        "    \n",
        "    scratch_path: str = '/content/gdrive/MyDrive/bias_gan/results'\n",
        "    tensorboard_path: str = f'{scratch_path}/'\n",
        "    checkpoint_path: str = f'{scratch_path}/'\n",
        "    config_path: str = f'{scratch_path}/'\n",
        "    poem_path: str = f\"/content/gdrive/MyDrive/bias_gan/data_gan/pr_gfdl-esm4_historical_regionbox_1979-2014.nc\"\n",
        "    era5_path: str = f\"/content/gdrive/MyDrive/bias_gan/data_gan/pr_W5E5v2.0_regionbox_era5_1979-2014.nc\"\n",
        "   \n",
        "\n",
        "    results_path: str = f'{scratch_path}/'\n",
        "    projection_path: str = None\n",
        "\n",
        "    train_start: int = 1979\n",
        "    train_end: int = 2000 # set to 2000 for full run\n",
        "    valid_start: int = 2001 #was 2001\n",
        "    valid_end: int = 2004\n",
        "    test_start: int = 2004\n",
        "    test_end: int = 2014\n",
        "    \n",
        "    model_name: str = 'tibet_gan'\n",
        "\n",
        "    epochs: int = 2 # set to 250 for reproduction\n",
        "    progress_bar_refresh_rate: int = 50\n",
        "    train_batch_size: int = 1\n",
        "    test_batch_size: int = 64\n",
        "    transforms: List = field(default_factory=lambda: ['log', 'normalize_minus1_to_plus1'])\n",
        "    rescale: bool = False\n",
        "    epsilon: float = 0.0001\n",
        "    lazy: bool = False\n",
        "    log_every_n_steps: int = 10 ### was 10\n",
        "    norm_output: bool = True\n",
        "    running_bias: bool = False\n",
        "\n",
        "    d_lr = 2e-4\n",
        "    g_lr = 2e-4\n",
        "    beta_1 = 0.5\n",
        "    beta_2 = 0.999\n",
        "    epoch_decay = 200\n",
        "    \n",
        "\n",
        "    time = datetime.now().time().strftime(\"%Hh_%Mm_%Ss\")\n",
        "    date = datetime.now().date().strftime(\"%Y_%m_%d\")\n",
        "\n",
        "    if load_pretrained_world_gan==True:\n",
        "      default_nbr_resnet=False\n",
        "      num_resnet_layer=7\n",
        "    else:\n",
        "      default_nbr_resnet=True\n",
        "      num_resnet_layer=6\n",
        "\n",
        "\n",
        "def main():\n",
        "    _ = train_cycle_gan(Config())"
      ]
    },
    {
      "cell_type": "markdown",
      "source": [
        "# Inference"
      ],
      "metadata": {
        "id": "z-ykm_eB95pn"
      }
    },
    {
      "cell_type": "markdown",
      "source": [
        "## inference"
      ],
      "metadata": {
        "id": "We_xzajk-9xY"
      }
    },
    {
      "cell_type": "code",
      "source": [
        "class Inference():\n",
        "\n",
        "    \"\"\" Execute model on test data and return output as NetCDF. \"\"\"\n",
        "    \n",
        "    def __init__(self,\n",
        "                 config,\n",
        "                 constrain=False,\n",
        "                 validation=False,\n",
        "                 projection=False,\n",
        "                 projection_path=None,\n",
        "                 max_num_inference_steps=None):\n",
        "        \n",
        "\n",
        "        self.config = config\n",
        "        self.constrain = constrain\n",
        "        self.results_path = config.results_path\n",
        "\n",
        "        self.poem = xr.open_dataset(self.config.poem_path)\n",
        "        self.era5 = xr.open_dataset(self.config.era5_path)\n",
        "\n",
        "        self.train_start = str(config.train_start)\n",
        "        self.train_end = str(config.train_end)\n",
        "        self.test_start = str(config.test_start)\n",
        "        self.test_end = str(config.test_end)\n",
        "        \n",
        "        self.validation = validation\n",
        "        if self.validation==True:\n",
        "          self.valid_start = str(config.valid_start)\n",
        "          self.valid_end = str(config.valid_end)\n",
        "\n",
        "        self.epsilon = config.epsilon\n",
        "        self.projection = projection\n",
        "        self.projection_path = projection_path\n",
        "\n",
        "        self.model = None\n",
        "        self.model_output = None\n",
        "        self.dataset = None\n",
        "        \n",
        "        self.reconstruct_model = None\n",
        "        self.model_output_reconstr = None\n",
        "\n",
        "        self.transforms = config.transforms\n",
        "        self.max_num_inference_steps = max_num_inference_steps\n",
        "        self.tst_batch_sz = 64\n",
        "        self.device = torch.device('cuda' if torch.cuda.is_available() else 'cpu')\n",
        "\n",
        "        \n",
        "    def load_model(self, checkpoint_path):\n",
        "    \n",
        "        model = CycleGAN().load_from_checkpoint(checkpoint_path=checkpoint_path)\n",
        "        model.freeze()\n",
        "        self.model = model.to(self.device)\n",
        "        self.model = ConstrainedGenerator(self.model.g_B2A, constrain=self.constrain)\n",
        "\n",
        "        model_ = CycleGAN().load_from_checkpoint(checkpoint_path=checkpoint_path)\n",
        "        model_.freeze()\n",
        "        self.reconstruct_model = model_.to(self.device)\n",
        "        self.reconstruct_model = ConstrainedGenerator(self.reconstruct_model.g_A2B, constrain=self.constrain)\n",
        "\n",
        "\n",
        "    def get_model(self):\n",
        "        return self.model , self.reconstruct_model\n",
        "\n",
        "        \n",
        "    def get_dataloader(self):\n",
        "        datamodule = DataModule(self.config,\n",
        "                                training_batch_size = 1,\n",
        "                                test_batch_size = self.tst_batch_sz)\n",
        "        if self.projection:\n",
        "            print('running projection')\n",
        "            datamodule.setup(\"predict\")\n",
        "        else:\n",
        "            datamodule.setup(\"test\")\n",
        "        \n",
        "        if self.validation==False:\n",
        "          dataloader = datamodule.test_dataloader()\n",
        "        else:\n",
        "          dataloader = datamodule.val_dataloader()\n",
        "\n",
        "        return dataloader\n",
        "\n",
        "    def get_projection_dataloader(self):\n",
        "\n",
        "        dataloader = ProjectionDataset(self.config)\n",
        "        return dataloader\n",
        "    \n",
        "        \n",
        "    def compute(self):\n",
        "        \"\"\" Use B (ESM) -> A (ERA5) generator for inference \"\"\"\n",
        "\n",
        "        data = []\n",
        "        print(\"Start inference:\")\n",
        "        if self.validation==True:\n",
        "          valid_data = self.get_dataloader()\n",
        "          for idx, sample in enumerate(valid_data):\n",
        "              sample = sample['B'].to(self.device)\n",
        "              yhat = self.model(sample)\n",
        "\n",
        "              data.append(yhat.squeeze().cpu())\n",
        "              if self.max_num_inference_steps is not None:\n",
        "                  if idx > self.max_num_inference_steps - 1:\n",
        "                      break\n",
        "        else:\n",
        "          test_data = self.get_dataloader()\n",
        "          for idx, sample in enumerate(test_data):\n",
        "              sample = sample['B'].to(self.device)\n",
        "              yhat = self.model(sample)\n",
        "\n",
        "              data.append(yhat.squeeze().cpu())\n",
        "              if self.max_num_inference_steps is not None:\n",
        "                  if idx > self.max_num_inference_steps - 1:\n",
        "                      break\n",
        "            \n",
        "        self.model_output = torch.cat(data)\n",
        "\n",
        "\n",
        "    def compute_reconstruction(self):\n",
        "          \"\"\" Use generated  A' (ERA5) -> B (ESM)  for inference \"\"\"\n",
        "\n",
        "          data_reconstr = []\n",
        "          data = []\n",
        "          print(\"Start inference:\")\n",
        "          if self.validation==True:\n",
        "            valid_data = self.get_dataloader()\n",
        "            for idx, sample in enumerate(valid_data):\n",
        "                sample = sample['B'].to(self.device)\n",
        "                yhat = self.model(sample) ### self.g_B2A\n",
        "                reconstruct = self.reconstruct_model(yhat) ### self.g_A2B\n",
        "                plot_reconstruction(reconstruct)\n",
        "                \n",
        "                data_reconstr.append(reconstruct.squeeze().cpu())\n",
        "                data.append(yhat.squeeze().cpu())\n",
        "                if self.max_num_inference_steps is not None:\n",
        "                    if idx > self.max_num_inference_steps - 1:\n",
        "                        break\n",
        "          else:\n",
        "            test_data = self.get_dataloader()\n",
        "            for idx, sample in enumerate(test_data):\n",
        "                sample = sample['B'].to(self.device)        \n",
        "                yhat = self.model(sample.cpu())  ### self.g_B2A\n",
        "                reconstruct = self.reconstruct_model(yhat) ### self.g_A2B\n",
        "                \n",
        "\n",
        "\n",
        "                print(\"plot first sample of batch - original data\")\n",
        "\n",
        "                #sample_ = self.inv_transform(sample['B'].cuda(), reference=['log', 'normalize_minus1_to_plus1'])\n",
        "                #lons= sample_[0,:]\n",
        "                #lats=sample_[:,0]\n",
        "                #cs = plt.pcolormesh(x,y,sample)\n",
        "                #print(\"sample_\".sample_.shape)\n",
        "\n",
        "\n",
        "                lons= sample.squeeze().cpu()[0,:,:][0,:]\n",
        "                lats= sample.squeeze().cpu()[0,:,:][:,0]\n",
        "                \n",
        "                m = Basemap(llcrnrlon=lons[0], llcrnrlat=lats[0],\n",
        "                                urcrnrlon=lons[-1], urcrnrlat=lats[-1],\n",
        "                                projection=\"cyl\", lon_0=-180, \n",
        "                                resolution=\"c\", ax=None)\n",
        "                m.drawcounties()\n",
        "                m.drawcoastlines(color='k', linewidth=0.5)\n",
        "\n",
        "                Lon, Lat = np.meshgrid(lons, lats)\n",
        "                x, y = m(Lon, Lat)\n",
        "\n",
        "                cs = plt.pcolormesh(x,y,sample.squeeze().cpu()[0,:,:])\n",
        "\n",
        "\n",
        "                #cs = plt.pcolormesh(x, y, sample.squeeze().cpu()[0,:,:], vmin=0, vmax=0.0001,alpha=1, cmap=\"Blues\",linewidth=0, shading='auto')\n",
        "              \n",
        "                plt.colorbar(cs, cax = make_axes_locatable(plt.gca()).append_axes('right', size=\"1.5%\", pad=0.4), extend='max')\n",
        "                plt.show()\n",
        "\n",
        "\n",
        "                print(\"plot first sample of batch - generated data\")\n",
        "                cs = plt.pcolormesh(yhat.squeeze().cpu()[0,:,:])\n",
        "                plt.colorbar(cs, cax = make_axes_locatable(plt.gca()).append_axes('right', size=\"1.5%\", pad=0.4), extend='max')\n",
        "                plt.show()\n",
        "                print(\"plot first sample of batch - reconstructed data\")\n",
        "                cs = plt.pcolormesh(reconstruct.squeeze().cpu()[0,:,:],)\n",
        "                plt.colorbar(cs, cax = make_axes_locatable(plt.gca()).append_axes('right', size=\"1.5%\", pad=0.4), extend='max')\n",
        "                plt.show()\n",
        "\n",
        "                data_reconstr.append(reconstruct.squeeze().cpu())\n",
        "                data.append(yhat.squeeze().cpu())\n",
        "                if self.max_num_inference_steps is not None:\n",
        "                    if idx > self.max_num_inference_steps - 1:\n",
        "                        break\n",
        "                        \n",
        "          self.model_output = torch.cat(data)    \n",
        "          self.model_output_reconstr = torch.cat(data_reconstr)\n",
        "          #return ori, gen , back\n",
        "\n",
        "    def test(self):\n",
        "        dataset = CycleDataset('test', self.config)\n",
        "        test_data = dataset[0]\n",
        "        sample = test_data['A'][0]\n",
        "        data = self.inv_transform(sample)\n",
        "        print(data.min(), data.max())\n",
        "\n",
        "    \n",
        "    def get_netcdf_result(self):\n",
        "        \n",
        "        if self.validation==False:\n",
        "            print(\"MODE: TESTING\")\n",
        "            time = self.poem.sel(time=slice(self.test_start, self.test_end)).time\n",
        "        if self.validation==True:\n",
        "            print(\"MODE: VALIDATION\")\n",
        "            time = self.poem.sel(time=slice(self.valid_start, self.valid_end)).time\n",
        "\n",
        "        if self.projection:\n",
        "            time = xr.open_dataset(self.projection_path).time\n",
        "\n",
        "        if self.max_num_inference_steps is not None:\n",
        "            time = time.isel(time=slice(0, (self.max_num_inference_steps+1)*self.tst_batch_sz))\n",
        "\n",
        "        latitude = self.poem.latitude\n",
        "        longitude = self.poem.longitude\n",
        "        \n",
        "        gan_data= xr.DataArray(\n",
        "            data=self.model_output,\n",
        "            dims=[\"time\", \"latitude\", \"longitude\"],\n",
        "            coords=dict(\n",
        "                time=time,\n",
        "                latitude=latitude,\n",
        "                longitude=longitude,),\n",
        "            attrs=dict(description=\"gan_precipitation\",units=\"mm/s\",))\n",
        "        \n",
        "        ### for reconstruction ###\n",
        "        gan_reconstruct= xr.DataArray(\n",
        "            data=self.model_output_reconstr,\n",
        "            dims=[\"time\", \"latitude\", \"longitude\"],\n",
        "            coords=dict(\n",
        "                time=time,\n",
        "                latitude=latitude,\n",
        "                longitude=longitude,),\n",
        "            attrs=dict(description=\"reconstruction_precipitation\",units=\"mm/s\",))\n",
        "\n",
        "        gan_reconstr_dataset = gan_reconstruct.to_dataset(name=\"gan_reconstruct\")\n",
        "        self.gan_reconstr_dataset = gan_reconstr_dataset.transpose('time', 'latitude', 'longitude')\n",
        "\n",
        "        gan_dataset = gan_data.to_dataset(name=\"gan_precipitation\")\n",
        "        self.gan_dataset = gan_dataset.transpose('time', 'latitude', 'longitude')\n",
        "\n",
        "        return self.gan_dataset, self.gan_reconstr_dataset\n",
        "\n",
        "\n",
        "    def inv_transform(self, data, reference=None):\n",
        "        \"\"\" The output equals ERA5, therefore it needs to be\n",
        "            constraind with respect to it\n",
        "        \"\"\"\n",
        "        if reference is None:\n",
        "            reference = self.era5.era5_precipitation.sel(time=slice(self.train_start, self.train_end)).values\n",
        "\n",
        "        if 'log' in self.transforms:\n",
        "            reference = log_transform(reference, self.epsilon)\n",
        "\n",
        "        if 'normalize' in self.transforms:\n",
        "            data = inv_norm_transform(data, reference)\n",
        "\n",
        "        if 'normalize_minus1_to_plus1' in self.transforms:\n",
        "            data = inv_norm_minus1_to_plus1_transform(data, reference)\n",
        "\n",
        "        if 'log' in self.transforms:\n",
        "            data = inv_log_transform(data, self.epsilon)\n",
        "\n",
        "        return data\n",
        "\n",
        "    \n",
        "    def write(self, fname):\n",
        "        \n",
        "        ds, ds_reconstr = self.get_netcdf_result()\n",
        "        path  = self.results_path + fname\n",
        "        ds.to_netcdf(path)\n",
        "        ds.to_netcdf(path + \"reconstruction\")"
      ],
      "metadata": {
        "id": "JSAIRPD4--Ai"
      },
      "execution_count": 157,
      "outputs": []
    },
    {
      "cell_type": "code",
      "source": [
        "data = EvaluateCheckpoints(checkpoint_path=checkpoint_path, config_path=config_path, save_model=True, version=version_)\n",
        "test_data, reconstruct_data = data.run()\n",
        "test_data = data.get_test_data()"
      ],
      "metadata": {
        "colab": {
          "base_uri": "https://localhost:8080/",
          "height": 381
        },
        "id": "BB75hHqSXqPL",
        "outputId": "35856a36-57b9-4896-a88a-b92f2507465f"
      },
      "execution_count": 158,
      "outputs": [
        {
          "output_type": "stream",
          "name": "stdout",
          "text": [
            "Checkpoint 1 / 1:\n",
            "Start inference:\n"
          ]
        },
        {
          "output_type": "error",
          "ename": "RuntimeError",
          "evalue": "ignored",
          "traceback": [
            "\u001b[0;31m---------------------------------------------------------------------------\u001b[0m",
            "\u001b[0;31mRuntimeError\u001b[0m                              Traceback (most recent call last)",
            "\u001b[0;32m<ipython-input-158-21f28d26e52d>\u001b[0m in \u001b[0;36m<module>\u001b[0;34m\u001b[0m\n\u001b[1;32m      1\u001b[0m \u001b[0mdata\u001b[0m \u001b[0;34m=\u001b[0m \u001b[0mEvaluateCheckpoints\u001b[0m\u001b[0;34m(\u001b[0m\u001b[0mcheckpoint_path\u001b[0m\u001b[0;34m=\u001b[0m\u001b[0mcheckpoint_path\u001b[0m\u001b[0;34m,\u001b[0m \u001b[0mconfig_path\u001b[0m\u001b[0;34m=\u001b[0m\u001b[0mconfig_path\u001b[0m\u001b[0;34m,\u001b[0m \u001b[0msave_model\u001b[0m\u001b[0;34m=\u001b[0m\u001b[0;32mTrue\u001b[0m\u001b[0;34m,\u001b[0m \u001b[0mversion\u001b[0m\u001b[0;34m=\u001b[0m\u001b[0mversion_\u001b[0m\u001b[0;34m)\u001b[0m\u001b[0;34m\u001b[0m\u001b[0;34m\u001b[0m\u001b[0m\n\u001b[0;32m----> 2\u001b[0;31m \u001b[0mtest_data\u001b[0m\u001b[0;34m,\u001b[0m \u001b[0mreconstruct_data\u001b[0m \u001b[0;34m=\u001b[0m \u001b[0mdata\u001b[0m\u001b[0;34m.\u001b[0m\u001b[0mrun\u001b[0m\u001b[0;34m(\u001b[0m\u001b[0;34m)\u001b[0m\u001b[0;34m\u001b[0m\u001b[0;34m\u001b[0m\u001b[0m\n\u001b[0m\u001b[1;32m      3\u001b[0m \u001b[0mtest_data\u001b[0m \u001b[0;34m=\u001b[0m \u001b[0mdata\u001b[0m\u001b[0;34m.\u001b[0m\u001b[0mget_test_data\u001b[0m\u001b[0;34m(\u001b[0m\u001b[0;34m)\u001b[0m\u001b[0;34m\u001b[0m\u001b[0;34m\u001b[0m\u001b[0m\n",
            "\u001b[0;32m<ipython-input-24-b6c995ffc2f1>\u001b[0m in \u001b[0;36mrun\u001b[0;34m(self)\u001b[0m\n\u001b[1;32m     70\u001b[0m             \u001b[0mself\u001b[0m\u001b[0;34m.\u001b[0m\u001b[0mnum_checkpoints\u001b[0m \u001b[0;34m=\u001b[0m \u001b[0mlen\u001b[0m\u001b[0;34m(\u001b[0m\u001b[0mfiles\u001b[0m\u001b[0;34m)\u001b[0m\u001b[0;34m\u001b[0m\u001b[0;34m\u001b[0m\u001b[0m\n\u001b[1;32m     71\u001b[0m             \u001b[0mprint\u001b[0m\u001b[0;34m(\u001b[0m\u001b[0;34mf'Checkpoint {self.checkpoint_idx} / {self.num_checkpoints}:'\u001b[0m\u001b[0;34m)\u001b[0m\u001b[0;34m\u001b[0m\u001b[0;34m\u001b[0m\u001b[0m\n\u001b[0;32m---> 72\u001b[0;31m             \u001b[0mreconstruct_model_data\u001b[0m \u001b[0;34m=\u001b[0m \u001b[0mself\u001b[0m\u001b[0;34m.\u001b[0m\u001b[0mrun_inference\u001b[0m\u001b[0;34m(\u001b[0m\u001b[0mfname\u001b[0m\u001b[0;34m)\u001b[0m\u001b[0;34m\u001b[0m\u001b[0;34m\u001b[0m\u001b[0m\n\u001b[0m\u001b[1;32m     73\u001b[0m             \u001b[0mself\u001b[0m\u001b[0;34m.\u001b[0m\u001b[0mread_test_data\u001b[0m\u001b[0;34m(\u001b[0m\u001b[0;34m)\u001b[0m\u001b[0;34m\u001b[0m\u001b[0;34m\u001b[0m\u001b[0m\n\u001b[1;32m     74\u001b[0m             \u001b[0mself\u001b[0m\u001b[0;34m.\u001b[0m\u001b[0mget_plots\u001b[0m\u001b[0;34m(\u001b[0m\u001b[0;34m)\u001b[0m\u001b[0;34m\u001b[0m\u001b[0;34m\u001b[0m\u001b[0m\n",
            "\u001b[0;32m<ipython-input-24-b6c995ffc2f1>\u001b[0m in \u001b[0;36mrun_inference\u001b[0;34m(self, path)\u001b[0m\n\u001b[1;32m     98\u001b[0m         \u001b[0minf\u001b[0m\u001b[0;34m.\u001b[0m\u001b[0mload_model\u001b[0m\u001b[0;34m(\u001b[0m\u001b[0mpath\u001b[0m\u001b[0;34m)\u001b[0m\u001b[0;34m\u001b[0m\u001b[0;34m\u001b[0m\u001b[0m\n\u001b[1;32m     99\u001b[0m         \u001b[0;31m#inf.compute()\u001b[0m\u001b[0;34m\u001b[0m\u001b[0;34m\u001b[0m\u001b[0;34m\u001b[0m\u001b[0m\n\u001b[0;32m--> 100\u001b[0;31m         \u001b[0minf\u001b[0m\u001b[0;34m.\u001b[0m\u001b[0mcompute_reconstruction\u001b[0m\u001b[0;34m(\u001b[0m\u001b[0;34m)\u001b[0m\u001b[0;34m\u001b[0m\u001b[0;34m\u001b[0m\u001b[0m\n\u001b[0m\u001b[1;32m    101\u001b[0m         \u001b[0mself\u001b[0m\u001b[0;34m.\u001b[0m\u001b[0mgan_results\u001b[0m\u001b[0;34m,\u001b[0m \u001b[0mself\u001b[0m\u001b[0;34m.\u001b[0m\u001b[0mgan_reconstruction\u001b[0m \u001b[0;34m=\u001b[0m \u001b[0minf\u001b[0m\u001b[0;34m.\u001b[0m\u001b[0mget_netcdf_result\u001b[0m\u001b[0;34m(\u001b[0m\u001b[0;34m)\u001b[0m\u001b[0;34m\u001b[0m\u001b[0;34m\u001b[0m\u001b[0m\n\u001b[1;32m    102\u001b[0m         \u001b[0mself\u001b[0m\u001b[0;34m.\u001b[0m\u001b[0mmodel\u001b[0m\u001b[0;34m,\u001b[0m \u001b[0mself\u001b[0m\u001b[0;34m.\u001b[0m\u001b[0mreconstruct_model\u001b[0m \u001b[0;34m=\u001b[0m \u001b[0minf\u001b[0m\u001b[0;34m.\u001b[0m\u001b[0mget_model\u001b[0m\u001b[0;34m(\u001b[0m\u001b[0;34m)\u001b[0m\u001b[0;34m\u001b[0m\u001b[0;34m\u001b[0m\u001b[0m\n",
            "\u001b[0;32m<ipython-input-157-bab04bde4e1f>\u001b[0m in \u001b[0;36mcompute_reconstruction\u001b[0;34m(self)\u001b[0m\n\u001b[1;32m    138\u001b[0m             \u001b[0;32mfor\u001b[0m \u001b[0midx\u001b[0m\u001b[0;34m,\u001b[0m \u001b[0msample\u001b[0m \u001b[0;32min\u001b[0m \u001b[0menumerate\u001b[0m\u001b[0;34m(\u001b[0m\u001b[0mtest_data\u001b[0m\u001b[0;34m)\u001b[0m\u001b[0;34m:\u001b[0m\u001b[0;34m\u001b[0m\u001b[0;34m\u001b[0m\u001b[0m\n\u001b[1;32m    139\u001b[0m                 \u001b[0msample\u001b[0m \u001b[0;34m=\u001b[0m \u001b[0msample\u001b[0m\u001b[0;34m[\u001b[0m\u001b[0;34m'B'\u001b[0m\u001b[0;34m]\u001b[0m\u001b[0;34m.\u001b[0m\u001b[0mto\u001b[0m\u001b[0;34m(\u001b[0m\u001b[0mself\u001b[0m\u001b[0;34m.\u001b[0m\u001b[0mdevice\u001b[0m\u001b[0;34m)\u001b[0m\u001b[0;34m\u001b[0m\u001b[0;34m\u001b[0m\u001b[0m\n\u001b[0;32m--> 140\u001b[0;31m                 \u001b[0myhat\u001b[0m \u001b[0;34m=\u001b[0m \u001b[0mself\u001b[0m\u001b[0;34m.\u001b[0m\u001b[0mmodel\u001b[0m\u001b[0;34m(\u001b[0m\u001b[0msample\u001b[0m\u001b[0;34m.\u001b[0m\u001b[0mcpu\u001b[0m\u001b[0;34m(\u001b[0m\u001b[0;34m)\u001b[0m\u001b[0;34m)\u001b[0m  \u001b[0;31m### self.g_B2A\u001b[0m\u001b[0;34m\u001b[0m\u001b[0;34m\u001b[0m\u001b[0m\n\u001b[0m\u001b[1;32m    141\u001b[0m                 \u001b[0mreconstruct\u001b[0m \u001b[0;34m=\u001b[0m \u001b[0mself\u001b[0m\u001b[0;34m.\u001b[0m\u001b[0mreconstruct_model\u001b[0m\u001b[0;34m(\u001b[0m\u001b[0myhat\u001b[0m\u001b[0;34m)\u001b[0m \u001b[0;31m### self.g_A2B\u001b[0m\u001b[0;34m\u001b[0m\u001b[0;34m\u001b[0m\u001b[0m\n\u001b[1;32m    142\u001b[0m \u001b[0;34m\u001b[0m\u001b[0m\n",
            "\u001b[0;32m/usr/local/lib/python3.8/dist-packages/torch/nn/modules/module.py\u001b[0m in \u001b[0;36m_call_impl\u001b[0;34m(self, *input, **kwargs)\u001b[0m\n\u001b[1;32m   1188\u001b[0m         if not (self._backward_hooks or self._forward_hooks or self._forward_pre_hooks or _global_backward_hooks\n\u001b[1;32m   1189\u001b[0m                 or _global_forward_hooks or _global_forward_pre_hooks):\n\u001b[0;32m-> 1190\u001b[0;31m             \u001b[0;32mreturn\u001b[0m \u001b[0mforward_call\u001b[0m\u001b[0;34m(\u001b[0m\u001b[0;34m*\u001b[0m\u001b[0minput\u001b[0m\u001b[0;34m,\u001b[0m \u001b[0;34m**\u001b[0m\u001b[0mkwargs\u001b[0m\u001b[0;34m)\u001b[0m\u001b[0;34m\u001b[0m\u001b[0;34m\u001b[0m\u001b[0m\n\u001b[0m\u001b[1;32m   1191\u001b[0m         \u001b[0;31m# Do not call functions when jit is used\u001b[0m\u001b[0;34m\u001b[0m\u001b[0;34m\u001b[0m\u001b[0;34m\u001b[0m\u001b[0m\n\u001b[1;32m   1192\u001b[0m         \u001b[0mfull_backward_hooks\u001b[0m\u001b[0;34m,\u001b[0m \u001b[0mnon_full_backward_hooks\u001b[0m \u001b[0;34m=\u001b[0m \u001b[0;34m[\u001b[0m\u001b[0;34m]\u001b[0m\u001b[0;34m,\u001b[0m \u001b[0;34m[\u001b[0m\u001b[0;34m]\u001b[0m\u001b[0;34m\u001b[0m\u001b[0;34m\u001b[0m\u001b[0m\n",
            "\u001b[0;32m/content/Bias_GAN/code/src/model.py\u001b[0m in \u001b[0;36mforward\u001b[0;34m(self, x)\u001b[0m\n\u001b[1;32m     86\u001b[0m \u001b[0;34m\u001b[0m\u001b[0m\n\u001b[1;32m     87\u001b[0m     \u001b[0;32mdef\u001b[0m \u001b[0mforward\u001b[0m\u001b[0;34m(\u001b[0m\u001b[0mself\u001b[0m\u001b[0;34m,\u001b[0m \u001b[0mx\u001b[0m\u001b[0;34m)\u001b[0m\u001b[0;34m:\u001b[0m\u001b[0;34m\u001b[0m\u001b[0;34m\u001b[0m\u001b[0m\n\u001b[0;32m---> 88\u001b[0;31m         \u001b[0mout\u001b[0m \u001b[0;34m=\u001b[0m \u001b[0mself\u001b[0m\u001b[0;34m.\u001b[0m\u001b[0mgenerator\u001b[0m\u001b[0;34m(\u001b[0m\u001b[0mx\u001b[0m\u001b[0;34m)\u001b[0m\u001b[0;34m\u001b[0m\u001b[0;34m\u001b[0m\u001b[0m\n\u001b[0m\u001b[1;32m     89\u001b[0m         \u001b[0mout\u001b[0m \u001b[0;34m=\u001b[0m \u001b[0mself\u001b[0m\u001b[0;34m.\u001b[0m\u001b[0mconstrained_layer\u001b[0m\u001b[0;34m(\u001b[0m\u001b[0mx\u001b[0m\u001b[0;34m,\u001b[0m \u001b[0mout\u001b[0m\u001b[0;34m)\u001b[0m\u001b[0;34m\u001b[0m\u001b[0;34m\u001b[0m\u001b[0m\n\u001b[1;32m     90\u001b[0m         \u001b[0;32mreturn\u001b[0m \u001b[0mout\u001b[0m\u001b[0;34m\u001b[0m\u001b[0;34m\u001b[0m\u001b[0m\n",
            "\u001b[0;32m/usr/local/lib/python3.8/dist-packages/torch/nn/modules/module.py\u001b[0m in \u001b[0;36m_call_impl\u001b[0;34m(self, *input, **kwargs)\u001b[0m\n\u001b[1;32m   1188\u001b[0m         if not (self._backward_hooks or self._forward_hooks or self._forward_pre_hooks or _global_backward_hooks\n\u001b[1;32m   1189\u001b[0m                 or _global_forward_hooks or _global_forward_pre_hooks):\n\u001b[0;32m-> 1190\u001b[0;31m             \u001b[0;32mreturn\u001b[0m \u001b[0mforward_call\u001b[0m\u001b[0;34m(\u001b[0m\u001b[0;34m*\u001b[0m\u001b[0minput\u001b[0m\u001b[0;34m,\u001b[0m \u001b[0;34m**\u001b[0m\u001b[0mkwargs\u001b[0m\u001b[0;34m)\u001b[0m\u001b[0;34m\u001b[0m\u001b[0;34m\u001b[0m\u001b[0m\n\u001b[0m\u001b[1;32m   1191\u001b[0m         \u001b[0;31m# Do not call functions when jit is used\u001b[0m\u001b[0;34m\u001b[0m\u001b[0;34m\u001b[0m\u001b[0;34m\u001b[0m\u001b[0m\n\u001b[1;32m   1192\u001b[0m         \u001b[0mfull_backward_hooks\u001b[0m\u001b[0;34m,\u001b[0m \u001b[0mnon_full_backward_hooks\u001b[0m \u001b[0;34m=\u001b[0m \u001b[0;34m[\u001b[0m\u001b[0;34m]\u001b[0m\u001b[0;34m,\u001b[0m \u001b[0;34m[\u001b[0m\u001b[0;34m]\u001b[0m\u001b[0;34m\u001b[0m\u001b[0;34m\u001b[0m\u001b[0m\n",
            "\u001b[0;32m/content/Bias_GAN/code/src/model.py\u001b[0m in \u001b[0;36mforward\u001b[0;34m(self, x)\u001b[0m\n\u001b[1;32m    219\u001b[0m     \u001b[0;32mdef\u001b[0m \u001b[0mforward\u001b[0m\u001b[0;34m(\u001b[0m\u001b[0mself\u001b[0m\u001b[0;34m,\u001b[0m \u001b[0mx\u001b[0m\u001b[0;34m)\u001b[0m\u001b[0;34m:\u001b[0m\u001b[0;34m\u001b[0m\u001b[0;34m\u001b[0m\u001b[0m\n\u001b[1;32m    220\u001b[0m \u001b[0;34m\u001b[0m\u001b[0m\n\u001b[0;32m--> 221\u001b[0;31m         \u001b[0mx\u001b[0m \u001b[0;34m=\u001b[0m \u001b[0mself\u001b[0m\u001b[0;34m.\u001b[0m\u001b[0mnet\u001b[0m\u001b[0;34m(\u001b[0m\u001b[0mx\u001b[0m\u001b[0;34m)\u001b[0m\u001b[0;34m\u001b[0m\u001b[0;34m\u001b[0m\u001b[0m\n\u001b[0m\u001b[1;32m    222\u001b[0m \u001b[0;34m\u001b[0m\u001b[0m\n\u001b[1;32m    223\u001b[0m         \u001b[0;32mreturn\u001b[0m \u001b[0mx\u001b[0m\u001b[0;34m\u001b[0m\u001b[0;34m\u001b[0m\u001b[0m\n",
            "\u001b[0;32m/usr/local/lib/python3.8/dist-packages/torch/nn/modules/module.py\u001b[0m in \u001b[0;36m_call_impl\u001b[0;34m(self, *input, **kwargs)\u001b[0m\n\u001b[1;32m   1188\u001b[0m         if not (self._backward_hooks or self._forward_hooks or self._forward_pre_hooks or _global_backward_hooks\n\u001b[1;32m   1189\u001b[0m                 or _global_forward_hooks or _global_forward_pre_hooks):\n\u001b[0;32m-> 1190\u001b[0;31m             \u001b[0;32mreturn\u001b[0m \u001b[0mforward_call\u001b[0m\u001b[0;34m(\u001b[0m\u001b[0;34m*\u001b[0m\u001b[0minput\u001b[0m\u001b[0;34m,\u001b[0m \u001b[0;34m**\u001b[0m\u001b[0mkwargs\u001b[0m\u001b[0;34m)\u001b[0m\u001b[0;34m\u001b[0m\u001b[0;34m\u001b[0m\u001b[0m\n\u001b[0m\u001b[1;32m   1191\u001b[0m         \u001b[0;31m# Do not call functions when jit is used\u001b[0m\u001b[0;34m\u001b[0m\u001b[0;34m\u001b[0m\u001b[0;34m\u001b[0m\u001b[0m\n\u001b[1;32m   1192\u001b[0m         \u001b[0mfull_backward_hooks\u001b[0m\u001b[0;34m,\u001b[0m \u001b[0mnon_full_backward_hooks\u001b[0m \u001b[0;34m=\u001b[0m \u001b[0;34m[\u001b[0m\u001b[0;34m]\u001b[0m\u001b[0;34m,\u001b[0m \u001b[0;34m[\u001b[0m\u001b[0;34m]\u001b[0m\u001b[0;34m\u001b[0m\u001b[0;34m\u001b[0m\u001b[0m\n",
            "\u001b[0;32m/usr/local/lib/python3.8/dist-packages/torch/nn/modules/container.py\u001b[0m in \u001b[0;36mforward\u001b[0;34m(self, input)\u001b[0m\n\u001b[1;32m    202\u001b[0m     \u001b[0;32mdef\u001b[0m \u001b[0mforward\u001b[0m\u001b[0;34m(\u001b[0m\u001b[0mself\u001b[0m\u001b[0;34m,\u001b[0m \u001b[0minput\u001b[0m\u001b[0;34m)\u001b[0m\u001b[0;34m:\u001b[0m\u001b[0;34m\u001b[0m\u001b[0;34m\u001b[0m\u001b[0m\n\u001b[1;32m    203\u001b[0m         \u001b[0;32mfor\u001b[0m \u001b[0mmodule\u001b[0m \u001b[0;32min\u001b[0m \u001b[0mself\u001b[0m\u001b[0;34m:\u001b[0m\u001b[0;34m\u001b[0m\u001b[0;34m\u001b[0m\u001b[0m\n\u001b[0;32m--> 204\u001b[0;31m             \u001b[0minput\u001b[0m \u001b[0;34m=\u001b[0m \u001b[0mmodule\u001b[0m\u001b[0;34m(\u001b[0m\u001b[0minput\u001b[0m\u001b[0;34m)\u001b[0m\u001b[0;34m\u001b[0m\u001b[0;34m\u001b[0m\u001b[0m\n\u001b[0m\u001b[1;32m    205\u001b[0m         \u001b[0;32mreturn\u001b[0m \u001b[0minput\u001b[0m\u001b[0;34m\u001b[0m\u001b[0;34m\u001b[0m\u001b[0m\n\u001b[1;32m    206\u001b[0m \u001b[0;34m\u001b[0m\u001b[0m\n",
            "\u001b[0;32m/usr/local/lib/python3.8/dist-packages/torch/nn/modules/module.py\u001b[0m in \u001b[0;36m_call_impl\u001b[0;34m(self, *input, **kwargs)\u001b[0m\n\u001b[1;32m   1188\u001b[0m         if not (self._backward_hooks or self._forward_hooks or self._forward_pre_hooks or _global_backward_hooks\n\u001b[1;32m   1189\u001b[0m                 or _global_forward_hooks or _global_forward_pre_hooks):\n\u001b[0;32m-> 1190\u001b[0;31m             \u001b[0;32mreturn\u001b[0m \u001b[0mforward_call\u001b[0m\u001b[0;34m(\u001b[0m\u001b[0;34m*\u001b[0m\u001b[0minput\u001b[0m\u001b[0;34m,\u001b[0m \u001b[0;34m**\u001b[0m\u001b[0mkwargs\u001b[0m\u001b[0;34m)\u001b[0m\u001b[0;34m\u001b[0m\u001b[0;34m\u001b[0m\u001b[0m\n\u001b[0m\u001b[1;32m   1191\u001b[0m         \u001b[0;31m# Do not call functions when jit is used\u001b[0m\u001b[0;34m\u001b[0m\u001b[0;34m\u001b[0m\u001b[0;34m\u001b[0m\u001b[0m\n\u001b[1;32m   1192\u001b[0m         \u001b[0mfull_backward_hooks\u001b[0m\u001b[0;34m,\u001b[0m \u001b[0mnon_full_backward_hooks\u001b[0m \u001b[0;34m=\u001b[0m \u001b[0;34m[\u001b[0m\u001b[0;34m]\u001b[0m\u001b[0;34m,\u001b[0m \u001b[0;34m[\u001b[0m\u001b[0;34m]\u001b[0m\u001b[0;34m\u001b[0m\u001b[0;34m\u001b[0m\u001b[0m\n",
            "\u001b[0;32m/usr/local/lib/python3.8/dist-packages/torch/nn/modules/conv.py\u001b[0m in \u001b[0;36mforward\u001b[0;34m(self, input)\u001b[0m\n\u001b[1;32m    461\u001b[0m \u001b[0;34m\u001b[0m\u001b[0m\n\u001b[1;32m    462\u001b[0m     \u001b[0;32mdef\u001b[0m \u001b[0mforward\u001b[0m\u001b[0;34m(\u001b[0m\u001b[0mself\u001b[0m\u001b[0;34m,\u001b[0m \u001b[0minput\u001b[0m\u001b[0;34m:\u001b[0m \u001b[0mTensor\u001b[0m\u001b[0;34m)\u001b[0m \u001b[0;34m->\u001b[0m \u001b[0mTensor\u001b[0m\u001b[0;34m:\u001b[0m\u001b[0;34m\u001b[0m\u001b[0;34m\u001b[0m\u001b[0m\n\u001b[0;32m--> 463\u001b[0;31m         \u001b[0;32mreturn\u001b[0m \u001b[0mself\u001b[0m\u001b[0;34m.\u001b[0m\u001b[0m_conv_forward\u001b[0m\u001b[0;34m(\u001b[0m\u001b[0minput\u001b[0m\u001b[0;34m,\u001b[0m \u001b[0mself\u001b[0m\u001b[0;34m.\u001b[0m\u001b[0mweight\u001b[0m\u001b[0;34m,\u001b[0m \u001b[0mself\u001b[0m\u001b[0;34m.\u001b[0m\u001b[0mbias\u001b[0m\u001b[0;34m)\u001b[0m\u001b[0;34m\u001b[0m\u001b[0;34m\u001b[0m\u001b[0m\n\u001b[0m\u001b[1;32m    464\u001b[0m \u001b[0;34m\u001b[0m\u001b[0m\n\u001b[1;32m    465\u001b[0m \u001b[0;32mclass\u001b[0m \u001b[0mConv3d\u001b[0m\u001b[0;34m(\u001b[0m\u001b[0m_ConvNd\u001b[0m\u001b[0;34m)\u001b[0m\u001b[0;34m:\u001b[0m\u001b[0;34m\u001b[0m\u001b[0;34m\u001b[0m\u001b[0m\n",
            "\u001b[0;32m/usr/local/lib/python3.8/dist-packages/torch/nn/modules/conv.py\u001b[0m in \u001b[0;36m_conv_forward\u001b[0;34m(self, input, weight, bias)\u001b[0m\n\u001b[1;32m    457\u001b[0m                             \u001b[0mweight\u001b[0m\u001b[0;34m,\u001b[0m \u001b[0mbias\u001b[0m\u001b[0;34m,\u001b[0m \u001b[0mself\u001b[0m\u001b[0;34m.\u001b[0m\u001b[0mstride\u001b[0m\u001b[0;34m,\u001b[0m\u001b[0;34m\u001b[0m\u001b[0;34m\u001b[0m\u001b[0m\n\u001b[1;32m    458\u001b[0m                             _pair(0), self.dilation, self.groups)\n\u001b[0;32m--> 459\u001b[0;31m         return F.conv2d(input, weight, bias, self.stride,\n\u001b[0m\u001b[1;32m    460\u001b[0m                         self.padding, self.dilation, self.groups)\n\u001b[1;32m    461\u001b[0m \u001b[0;34m\u001b[0m\u001b[0m\n",
            "\u001b[0;31mRuntimeError\u001b[0m: Input type (torch.FloatTensor) and weight type (torch.cuda.FloatTensor) should be the same or input should be a MKLDNN tensor and weight is a dense tensor"
          ]
        }
      ]
    },
    {
      "cell_type": "markdown",
      "source": [
        "### plot_basemap_singles"
      ],
      "metadata": {
        "id": "qr8r_sNkWfdo"
      }
    },
    {
      "cell_type": "code",
      "source": [
        "def plot_basemap_singles(data: xr.DataArray,\n",
        "                \n",
        "                alpha: float,\n",
        "                cmap: str,\n",
        "                cbar=True,\n",
        "                cbar_extend='max',\n",
        "                cbar_position='right',\n",
        "                return_cs=False,\n",
        "                axis=None,\n",
        "                \n",
        "                ):\n",
        "\n",
        "    import matplotlib.pyplot as plt\n",
        "    \n",
        "    \n",
        "    data_ = np.array(data[0,:,:])\n",
        "    lons = data_[0,:]\n",
        "    lats = data_[:,0]\n",
        "\n",
        "\n",
        "    m = Basemap(llcrnrlon=lons[0], llcrnrlat=lats[0],\n",
        "                urcrnrlon=lons[-1], urcrnrlat=lats[-1],\n",
        "                projection=\"cyl\", lon_0=-180 , \n",
        "                resolution=\"c\", ax=None)\n",
        "    \n",
        "    m.drawcounties()\n",
        "    m.drawcoastlines(color='k', linewidth=0.5)\n",
        "\n",
        "    Lon, Lat = np.meshgrid(lons, lats)\n",
        "    x, y = m(Lon, Lat)\n",
        "\n",
        "    \n",
        "    \n",
        "    cs = plt.pcolormesh(x, y, data, vmin=float, vmax=float,\n",
        "                        alpha=float, cmap=cmap,\n",
        "                        linewidth=0, shading='auto')\n",
        "    \n",
        "    ax = plt.gca()\n",
        "    divider = make_axes_locatable(ax)\n",
        "    cax = divider.append_axes(cbar_position, size=\"1.5%\", pad=0.4)\n",
        "    cbar_plt = cax\n",
        "\n",
        "    if cbar:\n",
        "        cbar = plt.colorbar(cs, cax=cax,  label=cbar_title, extend=cbar_extend)\n",
        "        cbar.solids.set(alpha=1)"
      ],
      "metadata": {
        "id": "w6q3OmlJWM6X"
      },
      "execution_count": 61,
      "outputs": []
    },
    {
      "cell_type": "markdown",
      "source": [
        "### plot normal data\n"
      ],
      "metadata": {
        "id": "LcDyljnoaDeT"
      }
    },
    {
      "cell_type": "code",
      "source": [
        "def plot_original_data(plot_data, vmin=0,\n",
        "                          vmax=20,\n",
        "                          time_index=-1,\n",
        "                          cmap='Blues',\n",
        "                          mask=False,\n",
        "                          single_plot=False,\n",
        "                          projection=\"robin\",\n",
        "                          scale_precip_by=1):\n",
        "    fig, axs = plt.subplots(1, 1, figsize=(12,7),  constrained_layout=True)\n",
        "    alpha = 1.0 \n",
        "    data = plot_data\n",
        "  \n",
        "    plt.title(\" original data \")\n",
        "    cbar = False\n",
        "    cbar_title = ''\n",
        "    cs = plot_basemap_singles(scale_precip_by*data, cbar_title, vmin, vmax, alpha, cmap,cbar=cbar,axis=None,return_cs=True,projection=projection,map_resolution='c',plot_mask=mask)\n",
        "              \n",
        "    norm = matplotlib.colors.Normalize(vmin=vmin, vmax=vmax)\n",
        "    sm = plt.cm.ScalarMappable(norm=norm, cmap = cmap)\n",
        "    sm.set_array([])\n",
        "\n",
        "    cbar = fig.colorbar(sm,ax=axs,location='bottom',shrink=0.4,aspect=10,extend='max').set_label('Precipitation [mm/d]', fontsize=13)"
      ],
      "metadata": {
        "id": "TRlx-kiyaIjA"
      },
      "execution_count": 46,
      "outputs": []
    },
    {
      "cell_type": "markdown",
      "source": [
        "### plot_reconstrution_day\n"
      ],
      "metadata": {
        "id": "1fI6t9aPWi6O"
      }
    },
    {
      "cell_type": "code",
      "source": [
        "def plot_gan(plot_data, vmin=0,\n",
        "                          vmax=20,\n",
        "                          time_index=-1,\n",
        "                          cmap='Blues',\n",
        "                          mask=False,\n",
        "                          single_plot=False,\n",
        "                          projection=\"robin\",\n",
        "                          scale_precip_by=1):\n",
        "    fig, axs = plt.subplots(1, 1, figsize=(12,7),  constrained_layout=True)\n",
        "    alpha = 1.0 \n",
        "    data = plot_data\n",
        "  \n",
        "    plt.title(\" gan data \")\n",
        "    cbar = False\n",
        "    cbar_title = ''\n",
        "    cs = plot_basemap_singles(scale_precip_by*data, cbar_title, vmin, vmax, alpha, cmap,cbar=cbar,axis=None,return_cs=True,projection=projection,map_resolution='c',plot_mask=mask)\n",
        "              \n",
        "    norm = matplotlib.colors.Normalize(vmin=vmin, vmax=vmax)\n",
        "    sm = plt.cm.ScalarMappable(norm=norm, cmap = cmap)\n",
        "    sm.set_array([])\n",
        "\n",
        "    cbar = fig.colorbar(sm,ax=axs,location='bottom',shrink=0.4,aspect=10,extend='max').set_label('Precipitation [mm/d]', fontsize=13)"
      ],
      "metadata": {
        "id": "IVOvJDX9XMZL"
      },
      "execution_count": 21,
      "outputs": []
    },
    {
      "cell_type": "code",
      "source": [
        "def plot_reconstruction_day(plot_data, vmin=0,\n",
        "                          vmax=20,\n",
        "                          time_index=-1,\n",
        "                          cmap='Blues',\n",
        "                          mask=False,\n",
        "                          single_plot=False,\n",
        "                          projection=\"robin\",\n",
        "                          scale_precip_by=1):\n",
        "    fig, axs = plt.subplots(1, 1, figsize=(12,7),  constrained_layout=True)\n",
        "    alpha = 1.0 \n",
        "    data = abs(plot_data)\n",
        "  \n",
        "    plt.title(\"reconstructed gan data \")\n",
        "    cbar = False\n",
        "    cbar_title = ''\n",
        "    cs = plot_basemap_singles(scale_precip_by*data, cbar_title, vmin, vmax, alpha, cmap,cbar=cbar,axis=None,return_cs=True,projection=projection,map_resolution='c',plot_mask=mask)\n",
        "              \n",
        "    norm = matplotlib.colors.Normalize(vmin=vmin, vmax=vmax)\n",
        "    sm = plt.cm.ScalarMappable(norm=norm, cmap = cmap)\n",
        "    sm.set_array([])\n",
        "\n",
        "    cbar = fig.colorbar(sm,ax=axs,location='bottom',shrink=0.4,aspect=10,extend='max').set_label('Precipitation [mm/d]', fontsize=13)"
      ],
      "metadata": {
        "id": "Y66-vLKcV2zi"
      },
      "execution_count": 22,
      "outputs": []
    },
    {
      "cell_type": "markdown",
      "source": [
        "## evaluate checkpoints fct"
      ],
      "metadata": {
        "id": "bgA1wp1y-yxZ"
      }
    },
    {
      "cell_type": "code",
      "source": [
        "def create_folder(path):\n",
        "    from pathlib import Path\n",
        "    Path(path).mkdir(parents=True, exist_ok=True)"
      ],
      "metadata": {
        "id": "uhJrYeojF8s9"
      },
      "execution_count": 23,
      "outputs": []
    },
    {
      "cell_type": "code",
      "source": [
        "class EvaluateCheckpoints():\n",
        "    \"\"\" \n",
        "        Interate over model checkpoints and\n",
        "        show the test set results.\n",
        "    \"\"\"\n",
        "    \n",
        "    def __init__(self,\n",
        "                 checkpoint_path,\n",
        "                 config_path,\n",
        "                 plot_summary=False,\n",
        "                 show_plots=False,\n",
        "                 save_model=True,\n",
        "                 constrain=False,\n",
        "                 epoch_index=None,\n",
        "                 projection=False,\n",
        "                 max_num_inference_steps=None,\n",
        "                 projection_path=None,\n",
        "                 validation=False,\n",
        "                 version=\"\"\n",
        "                 ):\n",
        "\n",
        "        self.checkpoint_path = checkpoint_path\n",
        "        #print(f'loading checkpoints from directory: {self.checkpoint_path}')\n",
        "        self.config_path = config_path\n",
        "        self.reports_path = f'{Config.results_path}reports/'\n",
        "        self.projection_path = projection_path\n",
        "        self.projection = projection\n",
        "        self.plot_summary = plot_summary\n",
        "        self.uuid = None\n",
        "        self.show_plots = show_plots\n",
        "        self.gan_results = None\n",
        "        self.save_model = save_model\n",
        "        self.model_fname = 'gan.nc'\n",
        "        self.model = None\n",
        "        self.reconstruct_model = None\n",
        "        self.test_data = None\n",
        "        self.constrain = constrain\n",
        "        self.epoch_index = epoch_index\n",
        "        self.max_num_inference_steps = max_num_inference_steps\n",
        "        self.validation = validation\n",
        "        self.version = version\n",
        "\n",
        "\n",
        "    def load_config(self):\n",
        "        path = self.config_path\n",
        "        config = config_from_file(path)\n",
        "        if self.projection_path is not None:\n",
        "            config.projection_path = self.projection_path\n",
        "        return config\n",
        "\n",
        "\n",
        "\n",
        "    def get_uuid_from_path(self, path: str):\n",
        "        import re\n",
        "        print(\"path in get_uuid\", path)\n",
        "        uuid4hex = re.compile('[0-9a-f]{8}-[0-9a-f]{4}-[1-5][0-9a-f]{3}-[89ab][0-9a-f]{3}-[0-9a-f]{12}', re.I)\n",
        "        print(\"uuid4hex\",uuid4hex)\n",
        "        print(\"uuid4hex search path\",uuid4hex.search(path))\n",
        "        uuid = uuid4hex.search(path).group(0)\n",
        "        return uuid\n",
        "\n",
        "\n",
        "    def run(self):         ############## maybe add checkpoint_path as variable ##############\n",
        "        \n",
        "        self.config = self.load_config()\n",
        "        \n",
        "        files = [self.checkpoint_path]\n",
        "        for i, fname in enumerate(files):\n",
        "            self.checkpoint_idx = i+1\n",
        "            self.num_checkpoints = len(files)\n",
        "            print(f'Checkpoint {self.checkpoint_idx} / {self.num_checkpoints}:')\n",
        "            reconstruct_model_data = self.run_inference(fname)\n",
        "            self.read_test_data()\n",
        "            self.get_plots()\n",
        "            \n",
        "        return self.get_test_data(), reconstruct_model_data\n",
        "        \n",
        "        \n",
        "    def get_files(self, path: str):\n",
        "        \n",
        "        if os.path.isfile(path):\n",
        "            files = []\n",
        "            files.append(path) \n",
        "        else:\n",
        "            files = os.listdir(path)\n",
        "            for i, f in enumerate(files):\n",
        "                files[i] = os.path.join(path, f) \n",
        "        return files\n",
        "\n",
        "    def run_inference(self, path: str):\n",
        "        \n",
        "        inf = Inference(self.config,\n",
        "                        constrain=self.constrain,\n",
        "                        projection=self.projection,\n",
        "                        projection_path=self.projection_path,\n",
        "                        max_num_inference_steps=self.max_num_inference_steps,\n",
        "                        validation=self.validation)\n",
        "        inf.load_model(path)\n",
        "        #inf.compute()\n",
        "        inf.compute_reconstruction()\n",
        "        self.gan_results, self.gan_reconstruction = inf.get_netcdf_result()\n",
        "        self.model, self.reconstruct_model = inf.get_model()\n",
        "        \n",
        "        if self.save_model:\n",
        "            print(\"saving model to path:\",self.version + \"/\" + self.model_fname)\n",
        "            inf.write(self.version + \"/\" + self.model_fname)\n",
        "\n",
        "        return self.gan_reconstruction\n",
        "        \n",
        "    def read_test_data(self):\n",
        "    \n",
        "        climate_model = xr.open_dataset(self.config.poem_path)\n",
        "        if 'poem_precipitation' in climate_model.variables:\n",
        "            climate_model =  climate_model.poem_precipitation#*3600*24                     #######is it nessecary to mulitply with this??########\n",
        "        else:\n",
        "            climate_model =  climate_model.precipitation #*3600*24                         #######is it nessecary to mulitply with this??########\n",
        "        era5 = xr.open_dataset(self.config.era5_path).era5_precipitation#*3600*24            #######is it nessecary to mulitply with this??########\n",
        "        gan = self.gan_results.gan_precipitation\n",
        "\n",
        "\n",
        "        data = TestData(era5, gan, climate_model=climate_model)\n",
        "        data.convert_units()\n",
        "        data.crop_test_period()\n",
        "        data.show_mean()\n",
        "        data.uuid = self.uuid\n",
        "        data.model = self.model\n",
        "        \n",
        "        self.test_data = data\n",
        "\n",
        "\n",
        "    def get_test_data(self):\n",
        "        return self.test_data\n",
        "\n",
        "\n",
        "    def show_reports(self, uuid):\n",
        "        path = f'{self.reports_path}{uuid}/'\n",
        "        files = self.get_files(path)\n",
        "        for file in files:\n",
        "            fig = Image(filename=file)\n",
        "            display(fig)\n",
        "        \n",
        "        \n",
        "    def get_plots(self):\n",
        "\n",
        "        if self.plot_summary:\n",
        "            plot = PlotAnalysis(self.test_data)\n",
        "            new_dir = f'{self.reports_path}{self.uuid}/'\n",
        "            create_folder(new_dir)\n",
        "            fname = f'{new_dir}model_{self.uuid}_number_{self.checkpoint_idx}.png'\n",
        "            plot.summary(plot_idx=self.checkpoint_idx, \n",
        "                         num_plots=self.num_checkpoints,\n",
        "                         fname=fname, show_plots=self.show_plots)"
      ],
      "metadata": {
        "id": "CvdLnaDF-0lK"
      },
      "execution_count": 24,
      "outputs": []
    },
    {
      "cell_type": "markdown",
      "source": [
        "#Run"
      ],
      "metadata": {
        "id": "BuE3z8TfEMhH"
      }
    },
    {
      "cell_type": "code",
      "source": [
        "do_training = False\n",
        "from_skratch = False\n",
        "\n",
        "track_lat_mean = True\n",
        "plt_hist=True\n",
        "\n",
        "runtime_instance = \"2023_01_19_16h_26m_23s\"\n",
        "\n",
        "if do_training == True:\n",
        "    accelerator=\"gpu\"\n",
        "\n",
        "    if from_skratch == True:\n",
        "        train_cycle_gan(Config(),validation=False,track_lat_mean=track_lat_mean,plt_hist=plt_hist)\n",
        "        \n",
        "\n",
        "    if from_skratch == False:\n",
        "        train_cycle_gan(Config(),f\"/content/gdrive/MyDrive/bias_gan/results/{runtime_instance}/last.ckpt\",validation=True,track_lat_mean=track_lat_mean,plt_hist=plt_hist)"
      ],
      "metadata": {
        "id": "Cid_5UwLyttz"
      },
      "execution_count": 25,
      "outputs": []
    },
    {
      "cell_type": "code",
      "source": [
        "%load_ext tensorboard"
      ],
      "metadata": {
        "id": "-C07ecZu8qKK"
      },
      "execution_count": 26,
      "outputs": []
    },
    {
      "cell_type": "code",
      "source": [
        "if do_training==True: \n",
        "    %tensorboard --logdir /content/gdrive/MyDrive/bias_gan/results/{version}/"
      ],
      "metadata": {
        "id": "T6I1AxV4Y3Wg"
      },
      "execution_count": 27,
      "outputs": []
    },
    {
      "cell_type": "code",
      "source": [
        "if do_training==False: \n",
        "  %tensorboard --logdir /content/gdrive/MyDrive/bias_gan/results/{runtime_instance}/"
      ],
      "metadata": {
        "id": "7BBG_ha-qWOj"
      },
      "execution_count": null,
      "outputs": []
    },
    {
      "cell_type": "markdown",
      "source": [
        "# Evaluation"
      ],
      "metadata": {
        "id": "2adJLjPo-15I"
      }
    },
    {
      "cell_type": "markdown",
      "source": [
        "## Run Evaluation\n"
      ],
      "metadata": {
        "id": "VGpAmsXwFzjS"
      }
    },
    {
      "cell_type": "code",
      "source": [
        "if do_training==False: \n",
        "  version_ = runtime_instance\n",
        "else:\n",
        "  version_ = version\n",
        "\n",
        "\n",
        "checkpoint_path = f\"/content/gdrive/MyDrive/bias_gan/results/{version_}/last.ckpt\" \n",
        "config_path = f\"/content/gdrive/MyDrive/bias_gan/results/{version_}/config_model.json\"\n",
        "\n",
        "data = EvaluateCheckpoints(checkpoint_path=checkpoint_path, config_path=config_path, save_model=True, version=version_)"
      ],
      "metadata": {
        "id": "LeBFJMy3-NSq"
      },
      "execution_count": 29,
      "outputs": []
    },
    {
      "cell_type": "code",
      "source": [
        "test_data, reconstruct_data = data.run()\n",
        "test_data = data.get_test_data()"
      ],
      "metadata": {
        "colab": {
          "base_uri": "https://localhost:8080/"
        },
        "id": "2VuJjIiTjpnf",
        "outputId": "e0347332-0266-443c-fb55-3ad19a39d339"
      },
      "execution_count": 55,
      "outputs": [
        {
          "output_type": "stream",
          "name": "stdout",
          "text": [
            "Checkpoint 1 / 1:\n",
            "Start inference:\n",
            "MODE: TESTING\n",
            "saving model to path: 2023_01_19_16h_26m_23s/gan.nc\n",
            "MODE: TESTING\n",
            "\n",
            "Test set period: 2004-01-01T00:00:00.000000000 - 2014-12-31T00:00:00.000000000\n",
            "\n",
            "Mean [mm/d]:\n",
            "ERA5: 1.017\n",
            "Climate Model: 1.017\n",
            "GAN:  0.869\n"
          ]
        }
      ]
    },
    {
      "cell_type": "markdown",
      "source": [
        "#try loading finished gan world"
      ],
      "metadata": {
        "id": "z4WBVpYz12aZ"
      }
    },
    {
      "cell_type": "code",
      "source": [
        "state_dict = torch.load(f\"/content/gdrive/MyDrive/bias_gan/results/pretrained_gan_world/last.ckpt\",map_location=torch.device('cpu'))\n",
        "CycleGAN(num_resnet_blocks=7).load_state_dict(state_dict, strict=False)"
      ],
      "metadata": {
        "id": "0X9prBKKNM_P"
      },
      "execution_count": null,
      "outputs": []
    },
    {
      "cell_type": "markdown",
      "source": [
        "# Plot  **frames**"
      ],
      "metadata": {
        "id": "rOMdYqIrEBEE"
      }
    },
    {
      "cell_type": "markdown",
      "source": [
        "## Plot reconstructed images"
      ],
      "metadata": {
        "id": "YoLu9jMlYcbZ"
      }
    },
    {
      "cell_type": "code",
      "source": [
        "chose_day=1\n",
        "PlotAnalysis(test_data).single_frames(projection=\"cyl\",time_index=chose_day)\n",
        "plot_reconstruction(reconstruct_data,projection=\"cyl\",time_index= chose_day)"
      ],
      "metadata": {
        "colab": {
          "base_uri": "https://localhost:8080/",
          "height": 1000
        },
        "id": "xg2W4ufIYbpW",
        "outputId": "c1cb1e66-5938-4ff4-c827-0c92b98e710f"
      },
      "execution_count": 56,
      "outputs": [
        {
          "output_type": "stream",
          "name": "stdout",
          "text": [
            "2004-01-02T00:00:00.000000000\n",
            "lats: (60,)\n",
            "lons: (118,)\n",
            "lons[0]: ()\n",
            "lats[0]: ()\n",
            "lons[-1]: ()\n",
            "lats: (60,)\n",
            "lons: (118,)\n",
            "lons[0]: ()\n",
            "lats[0]: ()\n",
            "lons[-1]: ()\n",
            "lats: (60,)\n",
            "lons: (118,)\n",
            "lons[0]: ()\n",
            "lats[0]: ()\n",
            "lons[-1]: ()\n",
            "lats: (60,)\n",
            "lons: (118,)\n",
            "lons[0]: ()\n",
            "lats[0]: ()\n",
            "lons[-1]: ()\n"
          ]
        },
        {
          "output_type": "display_data",
          "data": {
            "text/plain": [
              "<Figure size 864x504 with 4 Axes>"
            ],
            "image/png": "[encoded data removed]"
          },
          "metadata": {
            "needs_background": "light"
          }
        },
        {
          "output_type": "display_data",
          "data": {
            "text/plain": [
              "<Figure size 864x504 with 3 Axes>"
            ],
            "image/png": "[encoded data removed]"
          },
          "metadata": {
            "needs_background": "light"
          }
        }
      ]
    },
    {
      "cell_type": "markdown",
      "source": [
        "## Plot single frames"
      ],
      "metadata": {
        "id": "aAh6JIg0nCC8"
      }
    },
    {
      "cell_type": "markdown",
      "source": [
        "set the chose_day parameter to plot the precipitation on a specific day"
      ],
      "metadata": {
        "id": "o7NrV7zfnELz"
      }
    },
    {
      "cell_type": "code",
      "source": [
        "chose_day=10\n",
        "\n",
        "PlotAnalysis(test_data).single_frames(time_index=chose_day)\n",
        "PlotAnalysis(test_data).single_frames(projection=\"cyl\",time_index=chose_day)"
      ],
      "metadata": {
        "id": "UdNmJG-jHyGp"
      },
      "execution_count": null,
      "outputs": []
    },
    {
      "cell_type": "markdown",
      "source": [
        "## plot of the average test_data for each data"
      ],
      "metadata": {
        "id": "rInMTAV9t7jZ"
      }
    },
    {
      "cell_type": "code",
      "source": [
        "PlotAnalysis(test_data).avg_frames(projection=\"cyl\",scale_precip_by = 10)"
      ],
      "metadata": {
        "id": "04wEV8jGnfkx"
      },
      "execution_count": null,
      "outputs": []
    },
    {
      "cell_type": "markdown",
      "source": [
        "## plot of the average **errors** between era5 & gan / climate_model"
      ],
      "metadata": {
        "id": "dZrUokXJuHxm"
      }
    },
    {
      "cell_type": "code",
      "source": [
        "PlotAnalysis(test_data).avg_frames_abs_err(projection=\"cyl\", scale_precip_by = 20)"
      ],
      "metadata": {
        "id": "xLvmxOQVgsqN"
      },
      "execution_count": null,
      "outputs": []
    },
    {
      "cell_type": "markdown",
      "source": [
        "**TODO**: plot spatial plot - mean Error - also show lands"
      ],
      "metadata": {
        "id": "M5e8_eN2Ggk7"
      }
    },
    {
      "cell_type": "markdown",
      "source": [
        "# Plot **histogram** statistics"
      ],
      "metadata": {
        "id": "lXihevAlFamY"
      }
    },
    {
      "cell_type": "markdown",
      "source": [
        "## histogram no log"
      ],
      "metadata": {
        "id": "O9B4JKnll_iR"
      }
    },
    {
      "cell_type": "markdown",
      "source": [
        "Here we plot the histogram over the daily precipitation values in the test dataset. "
      ],
      "metadata": {
        "id": "EfvPYKo3QKg5"
      }
    },
    {
      "cell_type": "code",
      "source": [
        "fig, ax = plt.subplots(1,1,figsize=(4, 4),  constrained_layout=True)\n",
        "\n",
        "PlotAnalysis(test_data).histograms(single_plot=False, ax=ax, show_legend=True, annotate=True,log=False,xlim_end=30)"
      ],
      "metadata": {
        "id": "gNlHXpskQVoF"
      },
      "execution_count": null,
      "outputs": []
    },
    {
      "cell_type": "markdown",
      "source": [
        "## histogram log on **density**"
      ],
      "metadata": {
        "id": "Et2xtAYKmCfn"
      }
    },
    {
      "cell_type": "markdown",
      "source": [
        "Because it is hard to see anything because precipitations over 50 are very rare and thus the 3 plots are right above eachother, we apply the log to the probability desnity to better see the differences."
      ],
      "metadata": {
        "id": "QYgwpz8CQYYT"
      }
    },
    {
      "cell_type": "code",
      "source": [
        "fig, ax = plt.subplots(1,1,figsize=(6, 6),  constrained_layout=True)\n",
        "\n",
        "PlotAnalysis(test_data).histograms(single_plot=False, ax=ax, show_legend=True, annotate=True,log=True)"
      ],
      "metadata": {
        "id": "fmVwmg1G3-Fb"
      },
      "execution_count": null,
      "outputs": []
    },
    {
      "cell_type": "markdown",
      "source": [
        "## plot histogram log density **differences**"
      ],
      "metadata": {
        "id": "b5VbVeqyF92W"
      }
    },
    {
      "cell_type": "markdown",
      "source": [
        "days in the test_data set"
      ],
      "metadata": {
        "id": "PyzvlWO2Lsaa"
      }
    },
    {
      "cell_type": "code",
      "source": [
        "len(getattr(test_data,\"gan\").time)"
      ],
      "metadata": {
        "id": "VQ4w2of3LT6c"
      },
      "execution_count": null,
      "outputs": []
    },
    {
      "cell_type": "code",
      "source": [
        "fig, ax = plt.subplots(1,1,figsize=(6, 6),  constrained_layout=True)\n",
        "\n",
        "PlotAnalysis(test_data).histogram_diff(single_plot=False, ax=ax, show_legend=True, annotate=True)"
      ],
      "metadata": {
        "id": "m60e1vv6F-B5"
      },
      "execution_count": null,
      "outputs": []
    },
    {
      "cell_type": "markdown",
      "source": [
        "## plot log **precipitation**"
      ],
      "metadata": {
        "id": "nolk4FVNloC9"
      }
    },
    {
      "cell_type": "markdown",
      "source": [
        "Applying the **log** to the data itself instead of to the amount of points in the bins as in the plot before results in the density to be on one scale:"
      ],
      "metadata": {
        "id": "zUlODjL9PuRr"
      }
    },
    {
      "cell_type": "code",
      "source": [
        "fig, ax = plt.subplots(1,1,figsize=(6, 6),  constrained_layout=True)\n",
        "PlotAnalysis(test_data).log_histograms(single_plot=False, ax=ax, show_legend=True, annotate=True)"
      ],
      "metadata": {
        "id": "wX7CMfFUE-JV"
      },
      "execution_count": null,
      "outputs": []
    },
    {
      "cell_type": "markdown",
      "source": [
        "## plot histogram log precipitation differences"
      ],
      "metadata": {
        "id": "jbqJBrV8O3un"
      }
    },
    {
      "cell_type": "code",
      "source": [
        "PlotAnalysis(test_data).log_histogram_diff(single_plot=False, ax=ax, show_legend=True, annotate=True)"
      ],
      "metadata": {
        "id": "qp7f8K0nO-a1"
      },
      "execution_count": null,
      "outputs": []
    },
    {
      "cell_type": "markdown",
      "source": [
        "# Plot **latitudinal** **mean**"
      ],
      "metadata": {
        "id": "tJEOwVMmFkZp"
      }
    },
    {
      "cell_type": "code",
      "source": [
        "PlotAnalysis(test_data).latitudinal_mean()"
      ],
      "metadata": {
        "id": "DkWfYREj2shn"
      },
      "execution_count": null,
      "outputs": []
    },
    {
      "cell_type": "markdown",
      "source": [
        "# Further Evaluation methods"
      ],
      "metadata": {
        "id": "QLulOmkGm68S"
      }
    },
    {
      "cell_type": "code",
      "source": [
        "#from Bias_GAN.code.src.plots import plot_gan_ensemble\n",
        "#plot_gan_ensemble()"
      ],
      "metadata": {
        "id": "jTQ9Eqy2wJzN"
      },
      "execution_count": null,
      "outputs": []
    },
    {
      "cell_type": "markdown",
      "source": [
        "# SSIM comparison"
      ],
      "metadata": {
        "id": "y8PqETITpXRo"
      }
    },
    {
      "cell_type": "code",
      "source": [
        "from skimage.metrics import structural_similarity as ssim\n",
        "\n",
        "# Open the .nc file\n",
        "data_gan = xr.open_dataset(f'/content/gdrive/MyDrive/bias_gan/results/{version_}/gan.nc').gan_precipitation\n",
        "data_era5 = xr.open_dataset(f\"/content/gdrive/MyDrive/bias_gan/data_gan/pr_W5E5v2.0_regionbox_era5_1979-2014.nc\").era5_precipitation #*3600*24 \n",
        "data_model = xr.open_dataset(f\"/content/gdrive/MyDrive/bias_gan/data_gan/pr_gfdl-esm4_historical_regionbox_1979-2014.nc\").precipitation #*3600*24 \n",
        "\n",
        "# Extract the data you want to calculate SSIM for\n",
        "gan_values = data_gan.values\n",
        "era5_values = data_era5.values\n",
        "model_values = data_model.values"
      ],
      "metadata": {
        "id": "YlKppGu7pY4p"
      },
      "execution_count": null,
      "outputs": []
    },
    {
      "cell_type": "markdown",
      "source": [
        "calculate the SSIM for the gan only for 4018 entries bc thats the size of the test dataset"
      ],
      "metadata": {
        "id": "4owxn8PdRjQW"
      }
    },
    {
      "cell_type": "markdown",
      "source": [
        "SSIM for the climate model"
      ],
      "metadata": {
        "id": "fS2t5DtwR1xg"
      }
    },
    {
      "cell_type": "code",
      "source": [
        "# Calculate SSIM\n",
        "model_score, model_diff = ssim(era5_values[-4018:,:,:], model_values[-4018:,:,:], full=True)\n",
        "print(\"model score:\", model_score)"
      ],
      "metadata": {
        "id": "TXUNamb4RzRU"
      },
      "execution_count": null,
      "outputs": []
    },
    {
      "cell_type": "markdown",
      "source": [
        "SSIM for the GAN"
      ],
      "metadata": {
        "id": "dSVlMhL0SFhQ"
      }
    },
    {
      "cell_type": "code",
      "source": [
        "gan_score, gan_diff = ssim(era5_values[-4018:,:,:], gan_values, full=True)\n",
        "print(\"gan score:\", gan_score)"
      ],
      "metadata": {
        "id": "uTP5aLojNnkB"
      },
      "execution_count": null,
      "outputs": []
    },
    {
      "cell_type": "code",
      "source": [
        "gan_values.shape,era5_values.shape,model_values.shape"
      ],
      "metadata": {
        "id": "jneyCa-iQ6HH"
      },
      "execution_count": null,
      "outputs": []
    },
    {
      "cell_type": "markdown",
      "source": [
        "# Compare metrics"
      ],
      "metadata": {
        "id": "uzy2NsxwlnK1"
      }
    },
    {
      "cell_type": "code",
      "source": [
        "\"\"\"\n",
        "instances = [\"2023_01_11_13h_04m_08s\",\"2023_01_12_05h_34m_48s\",\"2023_01_12_07h_34m_09s\",\"2023_01_13_07h_17m_53s\", \"2023_01_13_11h_06m_15s\",\"2023_01_14_08h_45m_11s\"]\n",
        "\n",
        "for i in instances: \n",
        "    evaluation_instance = i\n",
        "    checkpoint_path = f\"/content/gdrive/MyDrive/bias_gan/results/{evaluation_instance}/last.ckpt\" \n",
        "    config_path = f\"/content/gdrive/MyDrive/bias_gan/results/{evaluation_instance}/config_model.json\"\n",
        "    data = EvaluateCheckpoints(checkpoint_path=checkpoint_path, config_path=config_path, save_model=True)\n",
        "    data.run()\n",
        "    test_data = data.get_test_data()\n",
        "    print(\"\")\n",
        "    PlotAnalysis(test_data).avg_frames_abs_err(projection=\"cyl\", scale_precip_by = 10)\n",
        "    print(\"\")\n",
        "    PlotAnalysis(test_data).latitudinal_mean()\n",
        "    print(\"\")\n",
        "\"\"\""
      ],
      "metadata": {
        "id": "jX2K86s_lmdg"
      },
      "execution_count": null,
      "outputs": []
    },
    {
      "cell_type": "code",
      "source": [],
      "metadata": {
        "id": "s4rsvVvNnmMZ"
      },
      "execution_count": null,
      "outputs": []
    },
    {
      "cell_type": "markdown",
      "source": [
        "# Data"
      ],
      "metadata": {
        "id": "xMXgMOo59m8v"
      }
    },
    {
      "cell_type": "markdown",
      "source": [
        "# raw output\n",
        "# check whats available in isimip\n",
        "\n",
        "\n",
        "# do we use the right data? the already bias corrected data (also with downscaling)\n",
        "\n",
        "# downscaled climate model"
      ],
      "metadata": {
        "id": "kcl90dmF9pKJ"
      }
    },
    {
      "cell_type": "code",
      "source": [
        "# 1. remove all trends and add again at the end !!!\n",
        "# 2. "
      ],
      "metadata": {
        "id": "pm0eVqjH92Es"
      },
      "execution_count": null,
      "outputs": []
    }
  ]
}